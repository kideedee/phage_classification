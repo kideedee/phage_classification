{
 "cells": [
  {
   "cell_type": "code",
   "id": "initial_id",
   "metadata": {
    "collapsed": true,
    "ExecuteTime": {
     "end_time": "2025-05-04T03:19:47.695139Z",
     "start_time": "2025-05-04T03:19:47.296119Z"
    }
   },
   "source": [
    "\n",
    "import random\n",
    "from collections import Counter\n",
    "\n",
    "import pandas as pd\n",
    "from Bio import SeqIO\n",
    "\n"
   ],
   "outputs": [],
   "execution_count": 1
  },
  {
   "metadata": {
    "ExecuteTime": {
     "end_time": "2025-05-04T03:19:47.710576Z",
     "start_time": "2025-05-04T03:19:47.700163Z"
    }
   },
   "cell_type": "code",
   "source": [
    "# Đọc file FASTA\n",
    "def read_fasta_file(file_path):\n",
    "    records = []\n",
    "    accession_number = []\n",
    "    error_records = []\n",
    "    for record in SeqIO.parse(file_path, \"fasta\"):\n",
    "        records.append(record)\n",
    "        try:\n",
    "            accession_number.append(record.id.split(\"|\")[3])\n",
    "        except IndexError:\n",
    "            accession_number.append(f'{record.id.split(\"_\")[2]}_{record.id.split(\"_\")[3]}')\n",
    "    return records, accession_number, error_records"
   ],
   "id": "cbbbd1e2f72ac08e",
   "outputs": [],
   "execution_count": 2
  },
  {
   "metadata": {
    "ExecuteTime": {
     "end_time": "2025-05-04T03:19:48.706071Z",
     "start_time": "2025-05-04T03:19:48.112132Z"
    }
   },
   "cell_type": "code",
   "source": [
    "# Dữ liệu DeePhage\n",
    "ds1_temp = \"../data/deephage_data/Dataset-1_temperate.fasta\"\n",
    "ds1_viru = \"../data/deephage_data/Dataset-1_virulent.fasta\"\n",
    "ds2_temp = \"../data/deephage_data/Dataset-2_temperate.fasta\"\n",
    "ds2_viru = \"../data/deephage_data/Dataset-2_virulent.fasta\"\n",
    "\n",
    "ds1_temp_records, ds1_temp_accession_numbers, ds1_temp_error_records = read_fasta_file(ds1_temp)\n",
    "ds1_viru_records, ds1_viru_accession_numbers, ds1_viru_error_records = read_fasta_file(ds1_viru)\n",
    "ds2_temp_records, ds2_temp_accession_numbers, ds2_temp_error_records = read_fasta_file(ds2_temp)\n",
    "ds2_viru_records, ds2_viru_accession_numbers, ds2_viru_error_records = read_fasta_file(ds2_viru)\n",
    "\n",
    "deephage_accession_numbers = ds1_temp_accession_numbers + ds1_viru_accession_numbers + ds2_temp_accession_numbers + ds2_viru_accession_numbers\n",
    "\n",
    "print(\"Dataset 1 - Temperate:\", len(ds1_temp_records))\n",
    "print(\"Dataset 1 - Virulent:\", len(ds1_viru_records))\n",
    "print(\"Dataset 2 - Temperate:\", len(ds2_temp_records))\n",
    "print(\"Dataset 2 - Virulent:\", len(ds2_viru_records))\n",
    "\n",
    "print(\"Total temperate: \", len(ds1_temp_records) + len(ds2_temp_records))\n",
    "print(\"Total virulent: \", len(ds1_viru_records) + len(ds2_viru_records))"
   ],
   "id": "17b9c6bfde929b13",
   "outputs": [
    {
     "name": "stdout",
     "output_type": "stream",
     "text": [
      "Dataset 1 - Temperate: 148\n",
      "Dataset 1 - Virulent: 77\n",
      "Dataset 2 - Temperate: 429\n",
      "Dataset 2 - Virulent: 1211\n",
      "Total temperate:  577\n",
      "Total virulent:  1288\n"
     ]
    }
   ],
   "execution_count": 3
  },
  {
   "metadata": {
    "ExecuteTime": {
     "end_time": "2025-05-04T03:19:48.768136Z",
     "start_time": "2025-05-04T03:19:48.753583Z"
    }
   },
   "cell_type": "code",
   "source": [
    "deephage_ds1_temp_df = pd.DataFrame(zip(ds1_temp_accession_numbers, [\"Lysogenic\"] * len(ds1_temp_accession_numbers),\n",
    "                                        [\"dataset_1\"] * len(ds1_temp_accession_numbers)),\n",
    "                                    columns=[\"accession_number\", \"lifecycle\", \"note\"])\n",
    "deephage_ds1_viru_df = pd.DataFrame(zip(ds1_viru_accession_numbers, [\"Lytic\"] * len(ds1_viru_accession_numbers),\n",
    "                                        [\"dataset_1\"] * len(ds1_viru_accession_numbers)),\n",
    "                                    columns=[\"accession_number\", \"lifecycle\", \"note\"])\n",
    "deephage_ds2_temp_df = pd.DataFrame(zip(ds2_temp_accession_numbers, [\"Lysogenic\"] * len(ds2_temp_accession_numbers),\n",
    "                                        [\"dataset_2\"] * len(ds2_temp_accession_numbers)),\n",
    "                                    columns=[\"accession_number\", \"lifecycle\", \"note\"])\n",
    "deephage_ds2_viru_df = pd.DataFrame(zip(ds2_viru_accession_numbers, [\"Lytic\"] * len(ds2_viru_accession_numbers),\n",
    "                                        [\"dataset_2\"] * len(ds2_viru_accession_numbers)),\n",
    "                                    columns=[\"accession_number\", \"lifecycle\", \"note\"])\n",
    "\n",
    "# Concatenate the DataFrames\n",
    "deephage_ds_df = pd.concat([deephage_ds1_temp_df, deephage_ds1_viru_df, deephage_ds2_temp_df, deephage_ds2_viru_df],\n",
    "                           ignore_index=True)\n",
    "deephage_ds_df['source'] = 'deephage'\n",
    "deephage_ds_df.shape"
   ],
   "id": "60bdc3ae2814c7c6",
   "outputs": [
    {
     "data": {
      "text/plain": [
       "(1865, 4)"
      ]
     },
     "execution_count": 4,
     "metadata": {},
     "output_type": "execute_result"
    }
   ],
   "execution_count": 4
  },
  {
   "metadata": {
    "ExecuteTime": {
     "end_time": "2025-05-04T03:19:48.799689Z",
     "start_time": "2025-05-04T03:19:48.784656Z"
    }
   },
   "cell_type": "code",
   "source": "deephage_ds_df.head()",
   "id": "cef21390900f87ab",
   "outputs": [
    {
     "data": {
      "text/plain": [
       "  accession_number  lifecycle       note    source\n",
       "0        NC_013055  Lysogenic  dataset_1  deephage\n",
       "1        NC_011976  Lysogenic  dataset_1  deephage\n",
       "2        NC_011613  Lysogenic  dataset_1  deephage\n",
       "3        NC_011611  Lysogenic  dataset_1  deephage\n",
       "4        NC_011357  Lysogenic  dataset_1  deephage"
      ],
      "text/html": [
       "<div>\n",
       "<style scoped>\n",
       "    .dataframe tbody tr th:only-of-type {\n",
       "        vertical-align: middle;\n",
       "    }\n",
       "\n",
       "    .dataframe tbody tr th {\n",
       "        vertical-align: top;\n",
       "    }\n",
       "\n",
       "    .dataframe thead th {\n",
       "        text-align: right;\n",
       "    }\n",
       "</style>\n",
       "<table border=\"1\" class=\"dataframe\">\n",
       "  <thead>\n",
       "    <tr style=\"text-align: right;\">\n",
       "      <th></th>\n",
       "      <th>accession_number</th>\n",
       "      <th>lifecycle</th>\n",
       "      <th>note</th>\n",
       "      <th>source</th>\n",
       "    </tr>\n",
       "  </thead>\n",
       "  <tbody>\n",
       "    <tr>\n",
       "      <th>0</th>\n",
       "      <td>NC_013055</td>\n",
       "      <td>Lysogenic</td>\n",
       "      <td>dataset_1</td>\n",
       "      <td>deephage</td>\n",
       "    </tr>\n",
       "    <tr>\n",
       "      <th>1</th>\n",
       "      <td>NC_011976</td>\n",
       "      <td>Lysogenic</td>\n",
       "      <td>dataset_1</td>\n",
       "      <td>deephage</td>\n",
       "    </tr>\n",
       "    <tr>\n",
       "      <th>2</th>\n",
       "      <td>NC_011613</td>\n",
       "      <td>Lysogenic</td>\n",
       "      <td>dataset_1</td>\n",
       "      <td>deephage</td>\n",
       "    </tr>\n",
       "    <tr>\n",
       "      <th>3</th>\n",
       "      <td>NC_011611</td>\n",
       "      <td>Lysogenic</td>\n",
       "      <td>dataset_1</td>\n",
       "      <td>deephage</td>\n",
       "    </tr>\n",
       "    <tr>\n",
       "      <th>4</th>\n",
       "      <td>NC_011357</td>\n",
       "      <td>Lysogenic</td>\n",
       "      <td>dataset_1</td>\n",
       "      <td>deephage</td>\n",
       "    </tr>\n",
       "  </tbody>\n",
       "</table>\n",
       "</div>"
      ]
     },
     "execution_count": 5,
     "metadata": {},
     "output_type": "execute_result"
    }
   ],
   "execution_count": 5
  },
  {
   "metadata": {
    "ExecuteTime": {
     "end_time": "2025-05-04T03:19:49.214968Z",
     "start_time": "2025-05-04T03:19:48.877714Z"
    }
   },
   "cell_type": "code",
   "source": [
    "deep_pl_dataset = \"../data/deep_pl_data/deep_pl_dataset.xlsx\"\n",
    "train_df = pd.read_excel(deep_pl_dataset, sheet_name=\"Training dataset\")\n",
    "test_df = pd.read_excel(deep_pl_dataset, sheet_name=\"Test dataset\")\n",
    "\n",
    "print(\"DeepPL Train:\", train_df.shape)\n",
    "print(Counter(train_df['Lifecycle']))\n",
    "\n",
    "print(\"DeepPL Test:\", test_df.shape)\n",
    "print(Counter(test_df['Lifecycle']))\n",
    "\n",
    "deep_pl_accession_numbers = train_df['Accession number'].tolist() + test_df['Accession number'].tolist()"
   ],
   "id": "9039f013e0f4a81c",
   "outputs": [
    {
     "name": "stdout",
     "output_type": "stream",
     "text": [
      "DeepPL Train: (1806, 4)\n",
      "Counter({'Lytic': 1227, 'Lysogenic': 579})\n",
      "DeepPL Test: (374, 3)\n",
      "Counter({'Lytic': 245, 'Lysogenic': 129})\n"
     ]
    }
   ],
   "execution_count": 6
  },
  {
   "metadata": {
    "ExecuteTime": {
     "end_time": "2025-05-04T03:19:49.262072Z",
     "start_time": "2025-05-04T03:19:49.247562Z"
    }
   },
   "cell_type": "code",
   "source": [
    "deep_pl_train_df = train_df[['Accession number', 'Lifecycle', 'Usage']]\n",
    "deep_pl_train_df = deep_pl_train_df.rename(columns={\n",
    "    'Accession number': 'accession_number',\n",
    "    'Lifecycle': 'lifecycle',\n",
    "    'Usage': 'note'\n",
    "})\n",
    "deep_pl_train_df['source'] = 'deep_pl'\n",
    "\n",
    "deep_pd_test_df = test_df[['Accession number', 'Lifecycle', 'Usage']]\n",
    "deep_pd_test_df = deep_pd_test_df.rename(columns={\n",
    "    'Accession number': 'accession_number',\n",
    "    'Lifecycle': 'lifecycle',\n",
    "    'Usage': 'note'\n",
    "})\n",
    "deep_pd_test_df['source'] = 'deep_pl'\n",
    "\n",
    "deep_pl_df = pd.concat([deep_pl_train_df, deep_pd_test_df], ignore_index=True)"
   ],
   "id": "b4ac1f7318661599",
   "outputs": [],
   "execution_count": 7
  },
  {
   "metadata": {
    "ExecuteTime": {
     "end_time": "2025-05-04T03:19:49.293641Z",
     "start_time": "2025-05-04T03:19:49.273108Z"
    }
   },
   "cell_type": "code",
   "source": "deep_pl_df.sample(5)",
   "id": "ce8a7ddb99008ba0",
   "outputs": [
    {
     "data": {
      "text/plain": [
       "     accession_number  lifecycle      note   source\n",
       "1603        NC_041906      Lytic  Training  deep_pl\n",
       "2110         MT451873      Lytic      Test  deep_pl\n",
       "1220        NC_021072      Lytic  Training  deep_pl\n",
       "320         NC_005809  Lysogenic  Training  deep_pl\n",
       "1173        NC_028776      Lytic  Training  deep_pl"
      ],
      "text/html": [
       "<div>\n",
       "<style scoped>\n",
       "    .dataframe tbody tr th:only-of-type {\n",
       "        vertical-align: middle;\n",
       "    }\n",
       "\n",
       "    .dataframe tbody tr th {\n",
       "        vertical-align: top;\n",
       "    }\n",
       "\n",
       "    .dataframe thead th {\n",
       "        text-align: right;\n",
       "    }\n",
       "</style>\n",
       "<table border=\"1\" class=\"dataframe\">\n",
       "  <thead>\n",
       "    <tr style=\"text-align: right;\">\n",
       "      <th></th>\n",
       "      <th>accession_number</th>\n",
       "      <th>lifecycle</th>\n",
       "      <th>note</th>\n",
       "      <th>source</th>\n",
       "    </tr>\n",
       "  </thead>\n",
       "  <tbody>\n",
       "    <tr>\n",
       "      <th>1603</th>\n",
       "      <td>NC_041906</td>\n",
       "      <td>Lytic</td>\n",
       "      <td>Training</td>\n",
       "      <td>deep_pl</td>\n",
       "    </tr>\n",
       "    <tr>\n",
       "      <th>2110</th>\n",
       "      <td>MT451873</td>\n",
       "      <td>Lytic</td>\n",
       "      <td>Test</td>\n",
       "      <td>deep_pl</td>\n",
       "    </tr>\n",
       "    <tr>\n",
       "      <th>1220</th>\n",
       "      <td>NC_021072</td>\n",
       "      <td>Lytic</td>\n",
       "      <td>Training</td>\n",
       "      <td>deep_pl</td>\n",
       "    </tr>\n",
       "    <tr>\n",
       "      <th>320</th>\n",
       "      <td>NC_005809</td>\n",
       "      <td>Lysogenic</td>\n",
       "      <td>Training</td>\n",
       "      <td>deep_pl</td>\n",
       "    </tr>\n",
       "    <tr>\n",
       "      <th>1173</th>\n",
       "      <td>NC_028776</td>\n",
       "      <td>Lytic</td>\n",
       "      <td>Training</td>\n",
       "      <td>deep_pl</td>\n",
       "    </tr>\n",
       "  </tbody>\n",
       "</table>\n",
       "</div>"
      ]
     },
     "execution_count": 8,
     "metadata": {},
     "output_type": "execute_result"
    }
   ],
   "execution_count": 8
  },
  {
   "metadata": {
    "ExecuteTime": {
     "end_time": "2025-05-04T03:19:49.386091Z",
     "start_time": "2025-05-04T03:19:49.341855Z"
    }
   },
   "cell_type": "code",
   "source": [
    "import numpy as np\n",
    "\n",
    "combined_df = pd.merge(deephage_ds_df, deep_pl_df, on='accession_number', suffixes=('_deephage', '_deep_pl'),\n",
    "                       how='outer', indicator=True)\n",
    "combined_df['is_valid'] = combined_df.apply(\n",
    "    lambda row: 'valid' if row['lifecycle_deephage'] == row['lifecycle_deep_pl'] or pd.isna(\n",
    "        row['lifecycle_deephage']) or pd.isna(row['lifecycle_deep_pl']) else 'invalid', axis=1)\n",
    "\n",
    "combined_df['label'] = combined_df.apply(\n",
    "    lambda row: (\n",
    "        # Nếu lifecycle_deephage khác null và lifecycle_deep_pl khác null, lấy giá trị từ lifecycle_deephage\n",
    "        row['lifecycle_deephage'] if pd.notna(row['lifecycle_deephage']) and pd.notna(row['lifecycle_deep_pl']) else\n",
    "        # Nếu lifecycle_deephage là null và lifecycle_deep_pl khác null, lấy giá trị từ lifecycle_deep_pl\n",
    "        row['lifecycle_deep_pl'] if pd.isna(row['lifecycle_deephage']) and pd.notna(row['lifecycle_deep_pl']) else\n",
    "        # Nếu lifecycle_deephage khác null và lifecycle_deep_pl là null, lấy giá trị từ lifecycle_deephage\n",
    "        row['lifecycle_deephage'] if pd.notna(row['lifecycle_deephage']) and pd.isna(row['lifecycle_deep_pl']) else\n",
    "        # Trường hợp còn lại (cả hai đều null)\n",
    "        np.nan\n",
    "    ),\n",
    "    axis=1\n",
    ")\n",
    "combined_df.sample(5)"
   ],
   "id": "564f1bf693f52431",
   "outputs": [
    {
     "data": {
      "text/plain": [
       "     accession_number lifecycle_deephage note_deephage source_deephage  \\\n",
       "1258        NC_022758          Lysogenic     dataset_2        deephage   \n",
       "1453        NC_025437              Lytic     dataset_2        deephage   \n",
       "658         NC_009936              Lytic     dataset_2        deephage   \n",
       "620         NC_009235          Lysogenic     dataset_1        deephage   \n",
       "1361        NC_024123              Lytic     dataset_2        deephage   \n",
       "\n",
       "     lifecycle_deep_pl note_deep_pl source_deep_pl _merge is_valid      label  \n",
       "1258         Lysogenic     Training        deep_pl   both    valid  Lysogenic  \n",
       "1453             Lytic     Training        deep_pl   both    valid      Lytic  \n",
       "658              Lytic     Training        deep_pl   both    valid      Lytic  \n",
       "620          Lysogenic     Training        deep_pl   both    valid  Lysogenic  \n",
       "1361             Lytic     Training        deep_pl   both    valid      Lytic  "
      ],
      "text/html": [
       "<div>\n",
       "<style scoped>\n",
       "    .dataframe tbody tr th:only-of-type {\n",
       "        vertical-align: middle;\n",
       "    }\n",
       "\n",
       "    .dataframe tbody tr th {\n",
       "        vertical-align: top;\n",
       "    }\n",
       "\n",
       "    .dataframe thead th {\n",
       "        text-align: right;\n",
       "    }\n",
       "</style>\n",
       "<table border=\"1\" class=\"dataframe\">\n",
       "  <thead>\n",
       "    <tr style=\"text-align: right;\">\n",
       "      <th></th>\n",
       "      <th>accession_number</th>\n",
       "      <th>lifecycle_deephage</th>\n",
       "      <th>note_deephage</th>\n",
       "      <th>source_deephage</th>\n",
       "      <th>lifecycle_deep_pl</th>\n",
       "      <th>note_deep_pl</th>\n",
       "      <th>source_deep_pl</th>\n",
       "      <th>_merge</th>\n",
       "      <th>is_valid</th>\n",
       "      <th>label</th>\n",
       "    </tr>\n",
       "  </thead>\n",
       "  <tbody>\n",
       "    <tr>\n",
       "      <th>1258</th>\n",
       "      <td>NC_022758</td>\n",
       "      <td>Lysogenic</td>\n",
       "      <td>dataset_2</td>\n",
       "      <td>deephage</td>\n",
       "      <td>Lysogenic</td>\n",
       "      <td>Training</td>\n",
       "      <td>deep_pl</td>\n",
       "      <td>both</td>\n",
       "      <td>valid</td>\n",
       "      <td>Lysogenic</td>\n",
       "    </tr>\n",
       "    <tr>\n",
       "      <th>1453</th>\n",
       "      <td>NC_025437</td>\n",
       "      <td>Lytic</td>\n",
       "      <td>dataset_2</td>\n",
       "      <td>deephage</td>\n",
       "      <td>Lytic</td>\n",
       "      <td>Training</td>\n",
       "      <td>deep_pl</td>\n",
       "      <td>both</td>\n",
       "      <td>valid</td>\n",
       "      <td>Lytic</td>\n",
       "    </tr>\n",
       "    <tr>\n",
       "      <th>658</th>\n",
       "      <td>NC_009936</td>\n",
       "      <td>Lytic</td>\n",
       "      <td>dataset_2</td>\n",
       "      <td>deephage</td>\n",
       "      <td>Lytic</td>\n",
       "      <td>Training</td>\n",
       "      <td>deep_pl</td>\n",
       "      <td>both</td>\n",
       "      <td>valid</td>\n",
       "      <td>Lytic</td>\n",
       "    </tr>\n",
       "    <tr>\n",
       "      <th>620</th>\n",
       "      <td>NC_009235</td>\n",
       "      <td>Lysogenic</td>\n",
       "      <td>dataset_1</td>\n",
       "      <td>deephage</td>\n",
       "      <td>Lysogenic</td>\n",
       "      <td>Training</td>\n",
       "      <td>deep_pl</td>\n",
       "      <td>both</td>\n",
       "      <td>valid</td>\n",
       "      <td>Lysogenic</td>\n",
       "    </tr>\n",
       "    <tr>\n",
       "      <th>1361</th>\n",
       "      <td>NC_024123</td>\n",
       "      <td>Lytic</td>\n",
       "      <td>dataset_2</td>\n",
       "      <td>deephage</td>\n",
       "      <td>Lytic</td>\n",
       "      <td>Training</td>\n",
       "      <td>deep_pl</td>\n",
       "      <td>both</td>\n",
       "      <td>valid</td>\n",
       "      <td>Lytic</td>\n",
       "    </tr>\n",
       "  </tbody>\n",
       "</table>\n",
       "</div>"
      ]
     },
     "execution_count": 9,
     "metadata": {},
     "output_type": "execute_result"
    }
   ],
   "execution_count": 9
  },
  {
   "metadata": {
    "ExecuteTime": {
     "end_time": "2025-05-04T03:19:49.448791Z",
     "start_time": "2025-05-04T03:19:49.425254Z"
    }
   },
   "cell_type": "code",
   "source": "combined_df.sample(10)",
   "id": "bd2821d21de0f0c1",
   "outputs": [
    {
     "data": {
      "text/plain": [
       "     accession_number lifecycle_deephage note_deephage source_deephage  \\\n",
       "1099        NC_020486              Lytic     dataset_2        deephage   \n",
       "613         NC_009014              Lytic     dataset_2        deephage   \n",
       "245          MK575466                NaN           NaN             NaN   \n",
       "110          DQ079882                NaN           NaN             NaN   \n",
       "478         NC_005284          Lysogenic     dataset_1        deephage   \n",
       "1769        NC_028962              Lytic     dataset_2        deephage   \n",
       "2210        NC_048747                NaN           NaN             NaN   \n",
       "1601        NC_027648              Lytic     dataset_2        deephage   \n",
       "1951        NC_041925              Lytic     dataset_2        deephage   \n",
       "269          MN512538                NaN           NaN             NaN   \n",
       "\n",
       "     lifecycle_deep_pl note_deep_pl source_deep_pl      _merge is_valid  \\\n",
       "1099             Lytic     Training        deep_pl        both    valid   \n",
       "613              Lytic     Training        deep_pl        both    valid   \n",
       "245          Lysogenic         Test        deep_pl  right_only    valid   \n",
       "110              Lytic         Test        deep_pl  right_only    valid   \n",
       "478          Lysogenic     Training        deep_pl        both    valid   \n",
       "1769             Lytic     Training        deep_pl        both    valid   \n",
       "2210             Lytic         Test        deep_pl  right_only    valid   \n",
       "1601             Lytic     Training        deep_pl        both    valid   \n",
       "1951             Lytic     Training        deep_pl        both    valid   \n",
       "269              Lytic         Test        deep_pl  right_only    valid   \n",
       "\n",
       "          label  \n",
       "1099      Lytic  \n",
       "613       Lytic  \n",
       "245   Lysogenic  \n",
       "110       Lytic  \n",
       "478   Lysogenic  \n",
       "1769      Lytic  \n",
       "2210      Lytic  \n",
       "1601      Lytic  \n",
       "1951      Lytic  \n",
       "269       Lytic  "
      ],
      "text/html": [
       "<div>\n",
       "<style scoped>\n",
       "    .dataframe tbody tr th:only-of-type {\n",
       "        vertical-align: middle;\n",
       "    }\n",
       "\n",
       "    .dataframe tbody tr th {\n",
       "        vertical-align: top;\n",
       "    }\n",
       "\n",
       "    .dataframe thead th {\n",
       "        text-align: right;\n",
       "    }\n",
       "</style>\n",
       "<table border=\"1\" class=\"dataframe\">\n",
       "  <thead>\n",
       "    <tr style=\"text-align: right;\">\n",
       "      <th></th>\n",
       "      <th>accession_number</th>\n",
       "      <th>lifecycle_deephage</th>\n",
       "      <th>note_deephage</th>\n",
       "      <th>source_deephage</th>\n",
       "      <th>lifecycle_deep_pl</th>\n",
       "      <th>note_deep_pl</th>\n",
       "      <th>source_deep_pl</th>\n",
       "      <th>_merge</th>\n",
       "      <th>is_valid</th>\n",
       "      <th>label</th>\n",
       "    </tr>\n",
       "  </thead>\n",
       "  <tbody>\n",
       "    <tr>\n",
       "      <th>1099</th>\n",
       "      <td>NC_020486</td>\n",
       "      <td>Lytic</td>\n",
       "      <td>dataset_2</td>\n",
       "      <td>deephage</td>\n",
       "      <td>Lytic</td>\n",
       "      <td>Training</td>\n",
       "      <td>deep_pl</td>\n",
       "      <td>both</td>\n",
       "      <td>valid</td>\n",
       "      <td>Lytic</td>\n",
       "    </tr>\n",
       "    <tr>\n",
       "      <th>613</th>\n",
       "      <td>NC_009014</td>\n",
       "      <td>Lytic</td>\n",
       "      <td>dataset_2</td>\n",
       "      <td>deephage</td>\n",
       "      <td>Lytic</td>\n",
       "      <td>Training</td>\n",
       "      <td>deep_pl</td>\n",
       "      <td>both</td>\n",
       "      <td>valid</td>\n",
       "      <td>Lytic</td>\n",
       "    </tr>\n",
       "    <tr>\n",
       "      <th>245</th>\n",
       "      <td>MK575466</td>\n",
       "      <td>NaN</td>\n",
       "      <td>NaN</td>\n",
       "      <td>NaN</td>\n",
       "      <td>Lysogenic</td>\n",
       "      <td>Test</td>\n",
       "      <td>deep_pl</td>\n",
       "      <td>right_only</td>\n",
       "      <td>valid</td>\n",
       "      <td>Lysogenic</td>\n",
       "    </tr>\n",
       "    <tr>\n",
       "      <th>110</th>\n",
       "      <td>DQ079882</td>\n",
       "      <td>NaN</td>\n",
       "      <td>NaN</td>\n",
       "      <td>NaN</td>\n",
       "      <td>Lytic</td>\n",
       "      <td>Test</td>\n",
       "      <td>deep_pl</td>\n",
       "      <td>right_only</td>\n",
       "      <td>valid</td>\n",
       "      <td>Lytic</td>\n",
       "    </tr>\n",
       "    <tr>\n",
       "      <th>478</th>\n",
       "      <td>NC_005284</td>\n",
       "      <td>Lysogenic</td>\n",
       "      <td>dataset_1</td>\n",
       "      <td>deephage</td>\n",
       "      <td>Lysogenic</td>\n",
       "      <td>Training</td>\n",
       "      <td>deep_pl</td>\n",
       "      <td>both</td>\n",
       "      <td>valid</td>\n",
       "      <td>Lysogenic</td>\n",
       "    </tr>\n",
       "    <tr>\n",
       "      <th>1769</th>\n",
       "      <td>NC_028962</td>\n",
       "      <td>Lytic</td>\n",
       "      <td>dataset_2</td>\n",
       "      <td>deephage</td>\n",
       "      <td>Lytic</td>\n",
       "      <td>Training</td>\n",
       "      <td>deep_pl</td>\n",
       "      <td>both</td>\n",
       "      <td>valid</td>\n",
       "      <td>Lytic</td>\n",
       "    </tr>\n",
       "    <tr>\n",
       "      <th>2210</th>\n",
       "      <td>NC_048747</td>\n",
       "      <td>NaN</td>\n",
       "      <td>NaN</td>\n",
       "      <td>NaN</td>\n",
       "      <td>Lytic</td>\n",
       "      <td>Test</td>\n",
       "      <td>deep_pl</td>\n",
       "      <td>right_only</td>\n",
       "      <td>valid</td>\n",
       "      <td>Lytic</td>\n",
       "    </tr>\n",
       "    <tr>\n",
       "      <th>1601</th>\n",
       "      <td>NC_027648</td>\n",
       "      <td>Lytic</td>\n",
       "      <td>dataset_2</td>\n",
       "      <td>deephage</td>\n",
       "      <td>Lytic</td>\n",
       "      <td>Training</td>\n",
       "      <td>deep_pl</td>\n",
       "      <td>both</td>\n",
       "      <td>valid</td>\n",
       "      <td>Lytic</td>\n",
       "    </tr>\n",
       "    <tr>\n",
       "      <th>1951</th>\n",
       "      <td>NC_041925</td>\n",
       "      <td>Lytic</td>\n",
       "      <td>dataset_2</td>\n",
       "      <td>deephage</td>\n",
       "      <td>Lytic</td>\n",
       "      <td>Training</td>\n",
       "      <td>deep_pl</td>\n",
       "      <td>both</td>\n",
       "      <td>valid</td>\n",
       "      <td>Lytic</td>\n",
       "    </tr>\n",
       "    <tr>\n",
       "      <th>269</th>\n",
       "      <td>MN512538</td>\n",
       "      <td>NaN</td>\n",
       "      <td>NaN</td>\n",
       "      <td>NaN</td>\n",
       "      <td>Lytic</td>\n",
       "      <td>Test</td>\n",
       "      <td>deep_pl</td>\n",
       "      <td>right_only</td>\n",
       "      <td>valid</td>\n",
       "      <td>Lytic</td>\n",
       "    </tr>\n",
       "  </tbody>\n",
       "</table>\n",
       "</div>"
      ]
     },
     "execution_count": 10,
     "metadata": {},
     "output_type": "execute_result"
    }
   ],
   "execution_count": 10
  },
  {
   "metadata": {
    "ExecuteTime": {
     "end_time": "2025-05-04T03:19:49.602543Z",
     "start_time": "2025-05-04T03:19:49.588408Z"
    }
   },
   "cell_type": "code",
   "source": "combined_df.columns",
   "id": "ac8d416b51d9e32",
   "outputs": [
    {
     "data": {
      "text/plain": [
       "Index(['accession_number', 'lifecycle_deephage', 'note_deephage',\n",
       "       'source_deephage', 'lifecycle_deep_pl', 'note_deep_pl',\n",
       "       'source_deep_pl', '_merge', 'is_valid', 'label'],\n",
       "      dtype='object')"
      ]
     },
     "execution_count": 11,
     "metadata": {},
     "output_type": "execute_result"
    }
   ],
   "execution_count": 11
  },
  {
   "metadata": {
    "ExecuteTime": {
     "end_time": "2025-05-04T03:19:49.773193Z",
     "start_time": "2025-05-04T03:19:49.764688Z"
    }
   },
   "cell_type": "code",
   "source": [
    "# combined_df.to_csv(\"../data/my_data/aggregated_deephage_deeppl_data/combined_ds.csv\", index=False)\n",
    "# combined_df[combined_df['is_valid'] == 'valid'].to_csv(\"../data/my_data/aggregated_deephage_deeppl_data/valid_ds.csv\",\n",
    "#                                                        index=False)"
   ],
   "id": "31de66f06f4431a5",
   "outputs": [],
   "execution_count": 12
  },
  {
   "metadata": {
    "ExecuteTime": {
     "end_time": "2025-05-04T03:19:50.617077Z",
     "start_time": "2025-05-04T03:19:49.892949Z"
    }
   },
   "cell_type": "code",
   "source": [
    "import pandas as pd\n",
    "import os\n",
    "from common.env_config import config\n",
    "from sklearn.model_selection import train_test_split\n",
    "\n",
    "dir_path = os.path.join(config.DATA_DIR, \"my_data/custom\")\n",
    "\n",
    "num_fold = 5\n",
    "random_states = set()\n",
    "for i in range(num_fold):\n",
    "    fold_path = os.path.join(dir_path, f\"fold_{i}\")\n",
    "    os.makedirs(fold_path, exist_ok=True)\n",
    "\n",
    "    random_state = random.randint(0, 100)\n",
    "    while random_state in random_states:\n",
    "        random_state = random.randint(0, 100)\n",
    "\n",
    "    random_states.add(random_state)\n",
    "    train_df, test_df = train_test_split(combined_df, test_size=0.2, stratify=combined_df['label'],\n",
    "                                         random_state=random_state)\n",
    "\n",
    "    train_df = train_df.drop_duplicates(['accession_number'])\n",
    "    test_df = test_df.drop_duplicates(['accession_number'])\n",
    "\n",
    "    train_df.to_csv(os.path.join(fold_path, \"train.csv\"), index=False)\n",
    "    test_df.to_csv(os.path.join(fold_path, \"test.csv\"), index=False)"
   ],
   "id": "b1d356ff8e4b4f75",
   "outputs": [],
   "execution_count": 13
  },
  {
   "metadata": {
    "ExecuteTime": {
     "end_time": "2025-05-04T03:19:50.632411Z",
     "start_time": "2025-05-04T03:19:50.622236Z"
    }
   },
   "cell_type": "code",
   "source": "",
   "id": "d7118ac92a2ce03f",
   "outputs": [],
   "execution_count": null
  }
 ],
 "metadata": {
  "kernelspec": {
   "display_name": "Python 3",
   "language": "python",
   "name": "python3"
  },
  "language_info": {
   "codemirror_mode": {
    "name": "ipython",
    "version": 2
   },
   "file_extension": ".py",
   "mimetype": "text/x-python",
   "name": "python",
   "nbconvert_exporter": "python",
   "pygments_lexer": "ipython2",
   "version": "2.7.6"
  }
 },
 "nbformat": 4,
 "nbformat_minor": 5
}
