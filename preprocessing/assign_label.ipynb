{
 "cells": [
  {
   "cell_type": "code",
   "id": "initial_id",
   "metadata": {
    "collapsed": true,
    "ExecuteTime": {
     "end_time": "2025-02-02T10:14:47.046408Z",
     "start_time": "2025-02-02T10:14:47.028327Z"
    }
   },
   "source": [
    "import os\n",
    "\n",
    "import h5py\n",
    "import numpy as np\n",
    "import pandas as pd"
   ],
   "outputs": [],
   "execution_count": 4
  },
  {
   "metadata": {
    "ExecuteTime": {
     "end_time": "2025-02-02T10:21:10.027465Z",
     "start_time": "2025-02-02T10:21:10.011465Z"
    }
   },
   "cell_type": "code",
   "source": [
    "with h5py.File(\"../data/my_data/protbert_embedding_with_label/trim/train/100_400/train_temp_100_400_1.h5\", 'r') as f:\n",
    "    print(list(f.keys()))\n",
    "    print(f['embeddings'].shape)"
   ],
   "id": "ad54f8f78b0a95cb",
   "outputs": [
    {
     "name": "stdout",
     "output_type": "stream",
     "text": [
      "['embeddings', 'sequence_ids']\n",
      "(40000, 1024)\n"
     ]
    }
   ],
   "execution_count": 17
  },
  {
   "metadata": {
    "ExecuteTime": {
     "end_time": "2025-02-02T10:17:15.533116Z",
     "start_time": "2025-02-02T10:17:15.512115Z"
    }
   },
   "cell_type": "code",
   "source": "df = pd.read_csv(\"../data/my_data/original_data/test/label/100_400_1_test_label.csv\", header=None)",
   "id": "2c4aeb8510a5b039",
   "outputs": [],
   "execution_count": 10
  },
  {
   "metadata": {
    "ExecuteTime": {
     "end_time": "2025-02-02T10:18:45.614980Z",
     "start_time": "2025-02-02T10:18:45.602982Z"
    }
   },
   "cell_type": "code",
   "source": "df.iloc[:, 0].to_numpy()",
   "id": "bdd21d5570a3feed",
   "outputs": [
    {
     "data": {
      "text/plain": [
       "array([0, 0, 0, ..., 1, 1, 1], dtype=int64)"
      ]
     },
     "execution_count": 14,
     "metadata": {},
     "output_type": "execute_result"
    }
   ],
   "execution_count": 14
  },
  {
   "metadata": {},
   "cell_type": "code",
   "outputs": [],
   "execution_count": null,
   "source": "",
   "id": "4701146e3d1341f7"
  }
 ],
 "metadata": {
  "kernelspec": {
   "display_name": "Python 3",
   "language": "python",
   "name": "python3"
  },
  "language_info": {
   "codemirror_mode": {
    "name": "ipython",
    "version": 2
   },
   "file_extension": ".py",
   "mimetype": "text/x-python",
   "name": "python",
   "nbconvert_exporter": "python",
   "pygments_lexer": "ipython2",
   "version": "2.7.6"
  }
 },
 "nbformat": 4,
 "nbformat_minor": 5
}
