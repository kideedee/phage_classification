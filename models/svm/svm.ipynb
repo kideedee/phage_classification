{
 "cells": [
  {
   "cell_type": "code",
   "id": "initial_id",
   "metadata": {
    "collapsed": true,
    "ExecuteTime": {
     "end_time": "2024-12-05T01:37:25.952302Z",
     "start_time": "2024-12-05T01:37:25.946300Z"
    }
   },
   "source": [
    "import os\n",
    "\n",
    "import h5py\n",
    "from sklearn import svm\n",
    "from sklearn.metrics import classification_report\n",
    "from sklearn.model_selection import train_test_split\n",
    "from tqdm import tqdm"
   ],
   "outputs": [],
   "execution_count": 9
  },
  {
   "metadata": {
    "ExecuteTime": {
     "end_time": "2024-12-05T01:34:44.835834Z",
     "start_time": "2024-12-05T01:34:44.823833Z"
    }
   },
   "cell_type": "code",
   "source": [
    "max_length = 400\n",
    "group = \"100_400\"\n",
    "root_data_dir = f\"../../data/{group}\"\n",
    "train_dir = os.path.join(root_data_dir, \"train\")\n",
    "test_dir = os.path.join(root_data_dir, \"test\")"
   ],
   "id": "53d7b8c3f3b3b8af",
   "outputs": [],
   "execution_count": 2
  },
  {
   "metadata": {
    "ExecuteTime": {
     "end_time": "2024-12-05T01:34:47.809256Z",
     "start_time": "2024-12-05T01:34:45.099819Z"
    }
   },
   "cell_type": "code",
   "source": [
    "train_matrix = None\n",
    "test_matrix = None\n",
    "train_label = None\n",
    "test_label = None\n",
    "for r in range(5):\n",
    "    j = r + 1\n",
    "    train_sequence_file = [f for f in os.listdir(os.path.join(train_dir, \"sequences\")) if f'_{j}.mat' in f][0]\n",
    "    train_label_file = [f for f in os.listdir(os.path.join(train_dir, \"labels\")) if f'_{j}.mat' in f][0]\n",
    "    test_sequence_file = [f for f in os.listdir(os.path.join(test_dir, \"sequences\")) if f'_{j}.mat' in f][0]\n",
    "    test_label_file = [f for f in os.listdir(os.path.join(test_dir, \"labels\")) if f'_{j}.mat' in f][0]\n",
    "\n",
    "    train_matrix = h5py.File(os.path.join(train_dir, f'sequences/{train_sequence_file}'), 'r')['P_train_ds'][:]\n",
    "    train_label = h5py.File(os.path.join(train_dir, f'labels/{train_label_file}'), 'r')['T_train_ds'][:]\n",
    "    test_matrix = h5py.File(os.path.join(test_dir, f'sequences/{test_sequence_file}'), 'r')['P_test'][:]\n",
    "    test_label = h5py.File(os.path.join(test_dir, f'labels/{test_label_file}'), 'r')['T_test'][:]\n",
    "\n",
    "    train_matrix = train_matrix.transpose()\n",
    "    train_label = train_label.transpose()\n",
    "    test_matrix = test_matrix.transpose()\n",
    "    test_label = test_label.transpose()\n",
    "\n",
    "    train_matrix = train_matrix.reshape(-1, max_length, 4)\n",
    "    test_matrix = test_matrix.reshape(-1, max_length, 4)\n",
    "\n",
    "print(train_matrix.shape)\n",
    "print(test_matrix.shape)"
   ],
   "id": "2f83db653f7d1133",
   "outputs": [
    {
     "name": "stdout",
     "output_type": "stream",
     "text": [
      "(160000, 400, 4)\n",
      "(20000, 400, 4)\n"
     ]
    }
   ],
   "execution_count": 3
  },
  {
   "metadata": {
    "ExecuteTime": {
     "end_time": "2024-12-05T01:44:37.002664Z",
     "start_time": "2024-12-05T01:44:36.674072Z"
    }
   },
   "cell_type": "code",
   "source": [
    "train_matrix_flat = train_matrix.reshape(train_matrix.shape[0], -1)\n",
    "test_matrix_flat = test_matrix.reshape(test_matrix.shape[0], -1)\n",
    "sample_train_matrix, _, sample_train_label, _ = train_test_split(\n",
    "    train_matrix_flat, train_label, test_size=0.70, random_state=42\n",
    ")"
   ],
   "id": "a52164942ba442ed",
   "outputs": [],
   "execution_count": 29
  },
  {
   "metadata": {
    "ExecuteTime": {
     "end_time": "2024-12-05T01:44:37.018322Z",
     "start_time": "2024-12-05T01:44:37.010321Z"
    }
   },
   "cell_type": "code",
   "source": [
    "print(train_matrix_flat.shape)\n",
    "print(sample_train_matrix.shape)"
   ],
   "id": "d2f8827b4583ade0",
   "outputs": [
    {
     "name": "stdout",
     "output_type": "stream",
     "text": [
      "(160000, 1600)\n",
      "(48000, 1600)\n"
     ]
    }
   ],
   "execution_count": 30
  },
  {
   "metadata": {
    "ExecuteTime": {
     "end_time": "2024-12-05T02:38:35.639215Z",
     "start_time": "2024-12-05T01:44:40.320297Z"
    }
   },
   "cell_type": "code",
   "source": [
    "train_matrix_flat = train_matrix.reshape(train_matrix.shape[0], -1)\n",
    "test_matrix_flat = test_matrix.reshape(test_matrix.shape[0], -1)\n",
    "\n",
    "clf = svm.SVC()\n",
    "clf.fit(sample_train_matrix, sample_train_label.ravel())    \n",
    "\n",
    "test_predictions = clf.predict(test_matrix_flat)\n",
    "print(classification_report(test_label, test_predictions))"
   ],
   "id": "e8ca983b6fa47820",
   "outputs": [
    {
     "name": "stdout",
     "output_type": "stream",
     "text": [
      "              precision    recall  f1-score   support\n",
      "\n",
      "         0.0       0.75      0.49      0.59     11403\n",
      "         1.0       0.53      0.78      0.63      8597\n",
      "\n",
      "    accuracy                           0.61     20000\n",
      "   macro avg       0.64      0.63      0.61     20000\n",
      "weighted avg       0.66      0.61      0.61     20000\n",
      "\n"
     ]
    }
   ],
   "execution_count": 31
  },
  {
   "metadata": {
    "ExecuteTime": {
     "end_time": "2024-12-05T04:03:04.232783Z",
     "start_time": "2024-12-05T03:05:45.647619Z"
    }
   },
   "cell_type": "code",
   "source": [
    "train_matrix_flat = train_matrix.reshape(train_matrix.shape[0], -1)\n",
    "test_matrix_flat = test_matrix.reshape(test_matrix.shape[0], -1)\n",
    "\n",
    "clf = svm.SVC()\n",
    "clf.fit(sample_train_matrix, sample_train_label.ravel())    \n",
    "\n",
    "test_predictions = clf.predict(test_matrix_flat)\n",
    "print(classification_report(test_label, test_predictions))"
   ],
   "id": "45e7dee7d59438d7",
   "outputs": [
    {
     "name": "stdout",
     "output_type": "stream",
     "text": [
      "              precision    recall  f1-score   support\n",
      "\n",
      "         0.0       0.75      0.49      0.59     11403\n",
      "         1.0       0.53      0.78      0.63      8597\n",
      "\n",
      "    accuracy                           0.61     20000\n",
      "   macro avg       0.64      0.63      0.61     20000\n",
      "weighted avg       0.66      0.61      0.61     20000\n",
      "\n"
     ]
    }
   ],
   "execution_count": 32
  }
 ],
 "metadata": {
  "kernelspec": {
   "display_name": "Python 3",
   "language": "python",
   "name": "python3"
  },
  "language_info": {
   "codemirror_mode": {
    "name": "ipython",
    "version": 2
   },
   "file_extension": ".py",
   "mimetype": "text/x-python",
   "name": "python",
   "nbconvert_exporter": "python",
   "pygments_lexer": "ipython2",
   "version": "2.7.6"
  }
 },
 "nbformat": 4,
 "nbformat_minor": 5
}
