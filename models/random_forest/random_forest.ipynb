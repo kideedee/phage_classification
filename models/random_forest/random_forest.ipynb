{
 "cells": [
  {
   "cell_type": "code",
   "id": "initial_id",
   "metadata": {
    "collapsed": true,
    "ExecuteTime": {
     "end_time": "2024-12-04T20:27:34.311789Z",
     "start_time": "2024-12-04T20:27:33.000531Z"
    }
   },
   "source": [
    "import os\n",
    "\n",
    "import h5py\n",
    "from sklearn.ensemble import RandomForestClassifier\n",
    "from sklearn.metrics import classification_report"
   ],
   "outputs": [],
   "execution_count": 1
  },
  {
   "metadata": {
    "ExecuteTime": {
     "end_time": "2024-12-04T20:27:44.616227Z",
     "start_time": "2024-12-04T20:27:44.611716Z"
    }
   },
   "cell_type": "code",
   "source": [
    "max_length = 400\n",
    "group = \"100_400\"\n",
    "root_data_dir = f\"../../data/{group}\"\n",
    "train_dir = os.path.join(root_data_dir, \"train\")\n",
    "test_dir = os.path.join(root_data_dir, \"test\")"
   ],
   "id": "c4b5dd8156ad4c33",
   "outputs": [],
   "execution_count": 4
  },
  {
   "metadata": {
    "ExecuteTime": {
     "end_time": "2024-12-04T20:27:47.472754Z",
     "start_time": "2024-12-04T20:27:44.783771Z"
    }
   },
   "cell_type": "code",
   "source": [
    "train_matrix = None\n",
    "test_matrix = None\n",
    "train_label = None\n",
    "test_label = None\n",
    "for r in range(5):\n",
    "    j = r + 1\n",
    "    train_sequence_file = [f for f in os.listdir(os.path.join(train_dir, \"sequences\")) if f'_{j}.mat' in f][0]\n",
    "    train_label_file = [f for f in os.listdir(os.path.join(train_dir, \"labels\")) if f'_{j}.mat' in f][0]\n",
    "    test_sequence_file = [f for f in os.listdir(os.path.join(test_dir, \"sequences\")) if f'_{j}.mat' in f][0]\n",
    "    test_label_file = [f for f in os.listdir(os.path.join(test_dir, \"labels\")) if f'_{j}.mat' in f][0]\n",
    "\n",
    "    train_matrix = h5py.File(os.path.join(train_dir, f'sequences/{train_sequence_file}'), 'r')['P_train_ds'][:]\n",
    "    train_label = h5py.File(os.path.join(train_dir, f'labels/{train_label_file}'), 'r')['T_train_ds'][:]\n",
    "    test_matrix = h5py.File(os.path.join(test_dir, f'sequences/{test_sequence_file}'), 'r')['P_test'][:]\n",
    "    test_label = h5py.File(os.path.join(test_dir, f'labels/{test_label_file}'), 'r')['T_test'][:]\n",
    "\n",
    "    train_matrix = train_matrix.transpose()\n",
    "    train_label = train_label.transpose()\n",
    "    test_matrix = test_matrix.transpose()\n",
    "    test_label = test_label.transpose()\n",
    "\n",
    "    train_matrix = train_matrix.reshape(-1, max_length, 4)\n",
    "    test_matrix = test_matrix.reshape(-1, max_length, 4)\n",
    "\n",
    "print(train_matrix.shape)\n",
    "print(test_matrix.shape)"
   ],
   "id": "2c457abe691c7fa7",
   "outputs": [
    {
     "name": "stdout",
     "output_type": "stream",
     "text": [
      "(160000, 400, 4)\n",
      "(20000, 400, 4)\n"
     ]
    }
   ],
   "execution_count": 5
  },
  {
   "metadata": {
    "ExecuteTime": {
     "end_time": "2024-12-04T20:27:47.722370Z",
     "start_time": "2024-12-04T20:27:47.479755Z"
    }
   },
   "cell_type": "code",
   "source": [
    "train_matrix_flat = train_matrix.reshape(train_matrix.shape[0], -1)\n",
    "print(train_matrix_flat.shape)\n",
    "test_matrix_flat = test_matrix.reshape(test_matrix.shape[0], -1)\n",
    "print(test_matrix_flat.shape)"
   ],
   "id": "f63f1b76631ce180",
   "outputs": [
    {
     "name": "stdout",
     "output_type": "stream",
     "text": [
      "(160000, 1600)\n",
      "(20000, 1600)\n"
     ]
    }
   ],
   "execution_count": 6
  },
  {
   "metadata": {
    "ExecuteTime": {
     "end_time": "2024-12-04T20:27:47.800376Z",
     "start_time": "2024-12-04T20:27:47.788369Z"
    }
   },
   "cell_type": "code",
   "source": "train_matrix[0]",
   "id": "d8bc0976714592d5",
   "outputs": [
    {
     "data": {
      "text/plain": [
       "array([[0, 1, 0, 0],\n",
       "       [0, 0, 1, 0],\n",
       "       [0, 0, 0, 1],\n",
       "       ...,\n",
       "       [0, 0, 0, 0],\n",
       "       [0, 0, 0, 0],\n",
       "       [0, 0, 0, 0]], dtype=int8)"
      ]
     },
     "execution_count": 7,
     "metadata": {},
     "output_type": "execute_result"
    }
   ],
   "execution_count": 7
  },
  {
   "metadata": {
    "ExecuteTime": {
     "end_time": "2024-12-04T20:27:47.863887Z",
     "start_time": "2024-12-04T20:27:47.848885Z"
    }
   },
   "cell_type": "code",
   "source": "train_matrix_flat[0]",
   "id": "5bd2223156267b70",
   "outputs": [
    {
     "data": {
      "text/plain": [
       "array([0, 1, 0, ..., 0, 0, 0], dtype=int8)"
      ]
     },
     "execution_count": 8,
     "metadata": {},
     "output_type": "execute_result"
    }
   ],
   "execution_count": 8
  },
  {
   "metadata": {
    "ExecuteTime": {
     "end_time": "2024-12-04T20:30:15.915561Z",
     "start_time": "2024-12-04T20:27:48.008246Z"
    }
   },
   "cell_type": "code",
   "source": [
    "cls = RandomForestClassifier()\n",
    "cls.fit(train_matrix_flat, train_label.ravel())\n",
    "test_predictions = cls.predict(test_matrix_flat)\n",
    "print(classification_report(test_label, test_predictions))"
   ],
   "id": "f89fe9f9ade3e89c",
   "outputs": [
    {
     "name": "stdout",
     "output_type": "stream",
     "text": [
      "              precision    recall  f1-score   support\n",
      "\n",
      "         0.0       0.65      0.60      0.62     11403\n",
      "         1.0       0.51      0.57      0.54      8597\n",
      "\n",
      "    accuracy                           0.58     20000\n",
      "   macro avg       0.58      0.58      0.58     20000\n",
      "weighted avg       0.59      0.58      0.59     20000\n",
      "\n"
     ]
    }
   ],
   "execution_count": 9
  },
  {
   "metadata": {},
   "cell_type": "code",
   "outputs": [],
   "execution_count": null,
   "source": "",
   "id": "82cfd6757fa72c1e"
  }
 ],
 "metadata": {
  "kernelspec": {
   "display_name": "Python 3",
   "language": "python",
   "name": "python3"
  },
  "language_info": {
   "codemirror_mode": {
    "name": "ipython",
    "version": 2
   },
   "file_extension": ".py",
   "mimetype": "text/x-python",
   "name": "python",
   "nbconvert_exporter": "python",
   "pygments_lexer": "ipython2",
   "version": "2.7.6"
  }
 },
 "nbformat": 4,
 "nbformat_minor": 5
}
