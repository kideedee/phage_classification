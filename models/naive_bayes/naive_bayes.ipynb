{
 "cells": [
  {
   "cell_type": "code",
   "id": "initial_id",
   "metadata": {
    "collapsed": true,
    "ExecuteTime": {
     "end_time": "2024-12-04T19:21:38.749992Z",
     "start_time": "2024-12-04T19:21:38.736027Z"
    }
   },
   "source": [
    "import os\n",
    "\n",
    "import h5py\n",
    "from sklearn.metrics import classification_report\n",
    "from sklearn.naive_bayes import GaussianNB, MultinomialNB, ComplementNB, BernoulliNB, CategoricalNB"
   ],
   "outputs": [],
   "execution_count": 27
  },
  {
   "metadata": {
    "ExecuteTime": {
     "end_time": "2024-12-04T19:03:36.779574Z",
     "start_time": "2024-12-04T19:03:36.760910Z"
    }
   },
   "cell_type": "code",
   "source": [
    "max_length = 400\n",
    "group = \"100_400\"\n",
    "root_data_dir = f\"../data/{group}\"\n",
    "train_dir = os.path.join(root_data_dir, \"train\")\n",
    "test_dir = os.path.join(root_data_dir, \"test\")"
   ],
   "id": "c4b5dd8156ad4c33",
   "outputs": [],
   "execution_count": 5
  },
  {
   "metadata": {
    "ExecuteTime": {
     "end_time": "2024-12-04T19:11:36.299409Z",
     "start_time": "2024-12-04T19:11:33.750796Z"
    }
   },
   "cell_type": "code",
   "source": [
    "train_matrix = None\n",
    "test_matrix = None\n",
    "train_label = None\n",
    "test_label = None\n",
    "for r in range(5):\n",
    "    j = r + 1\n",
    "    train_sequence_file = [f for f in os.listdir(os.path.join(train_dir, \"sequences\")) if f'_{j}.mat' in f][0]\n",
    "    train_label_file = [f for f in os.listdir(os.path.join(train_dir, \"labels\")) if f'_{j}.mat' in f][0]\n",
    "    test_sequence_file = [f for f in os.listdir(os.path.join(test_dir, \"sequences\")) if f'_{j}.mat' in f][0]\n",
    "    test_label_file = [f for f in os.listdir(os.path.join(test_dir, \"labels\")) if f'_{j}.mat' in f][0]\n",
    "\n",
    "    train_matrix = h5py.File(os.path.join(train_dir, f'sequences/{train_sequence_file}'), 'r')['P_train_ds'][:]\n",
    "    train_label = h5py.File(os.path.join(train_dir, f'labels/{train_label_file}'), 'r')['T_train_ds'][:]\n",
    "    test_matrix = h5py.File(os.path.join(test_dir, f'sequences/{test_sequence_file}'), 'r')['P_test'][:]\n",
    "    test_label = h5py.File(os.path.join(test_dir, f'labels/{test_label_file}'), 'r')['T_test'][:]\n",
    "\n",
    "    train_matrix = train_matrix.transpose()\n",
    "    train_label = train_label.transpose()\n",
    "    test_matrix = test_matrix.transpose()\n",
    "    test_label = test_label.transpose()\n",
    "\n",
    "    train_matrix = train_matrix.reshape(-1, max_length, 4)\n",
    "    test_matrix = test_matrix.reshape(-1, max_length, 4)\n",
    "\n",
    "print(train_matrix.shape)\n",
    "print(test_matrix.shape)"
   ],
   "id": "2c457abe691c7fa7",
   "outputs": [
    {
     "name": "stdout",
     "output_type": "stream",
     "text": [
      "(160000, 400, 4)\n",
      "(20000, 400, 4)\n"
     ]
    }
   ],
   "execution_count": 22
  },
  {
   "metadata": {
    "ExecuteTime": {
     "end_time": "2024-12-04T19:10:43.405014Z",
     "start_time": "2024-12-04T19:10:43.150393Z"
    }
   },
   "cell_type": "code",
   "source": [
    "train_matrix_flat = train_matrix.reshape(train_matrix.shape[0], -1)\n",
    "print(train_matrix_flat.shape)\n",
    "test_matrix_flat = test_matrix.reshape(test_matrix.shape[0], -1)\n",
    "print(test_matrix_flat.shape)"
   ],
   "id": "f63f1b76631ce180",
   "outputs": [
    {
     "name": "stdout",
     "output_type": "stream",
     "text": [
      "(160000, 1600)\n",
      "(20000, 1600)\n"
     ]
    }
   ],
   "execution_count": 20
  },
  {
   "metadata": {
    "ExecuteTime": {
     "end_time": "2024-12-04T19:11:47.136465Z",
     "start_time": "2024-12-04T19:11:47.123462Z"
    }
   },
   "cell_type": "code",
   "source": "train_matrix[0]",
   "id": "d8bc0976714592d5",
   "outputs": [
    {
     "data": {
      "text/plain": [
       "array([[0, 1, 0, 0],\n",
       "       [0, 0, 1, 0],\n",
       "       [0, 0, 0, 1],\n",
       "       ...,\n",
       "       [0, 0, 0, 0],\n",
       "       [0, 0, 0, 0],\n",
       "       [0, 0, 0, 0]], dtype=int8)"
      ]
     },
     "execution_count": 23,
     "metadata": {},
     "output_type": "execute_result"
    }
   ],
   "execution_count": 23
  },
  {
   "metadata": {
    "ExecuteTime": {
     "end_time": "2024-12-04T19:11:56.815839Z",
     "start_time": "2024-12-04T19:11:56.805838Z"
    }
   },
   "cell_type": "code",
   "source": "train_matrix_flat[0]",
   "id": "5bd2223156267b70",
   "outputs": [
    {
     "data": {
      "text/plain": [
       "array([0, 1, 0, ..., 0, 0, 0], dtype=int8)"
      ]
     },
     "execution_count": 24,
     "metadata": {},
     "output_type": "execute_result"
    }
   ],
   "execution_count": 24
  },
  {
   "metadata": {
    "ExecuteTime": {
     "end_time": "2024-12-04T19:09:11.758993Z",
     "start_time": "2024-12-04T19:09:09.116083Z"
    }
   },
   "cell_type": "code",
   "source": [
    "nb_classifier = GaussianNB()\n",
    "nb_classifier.fit(train_matrix_flat, train_label.ravel())\n",
    "test_predictions = nb_classifier.predict(test_matrix_flat)\n",
    "print(classification_report(test_label, test_predictions))"
   ],
   "id": "f89fe9f9ade3e89c",
   "outputs": [
    {
     "name": "stdout",
     "output_type": "stream",
     "text": [
      "              precision    recall  f1-score   support\n",
      "\n",
      "         0.0       0.78      0.53      0.63     11403\n",
      "         1.0       0.56      0.80      0.66      8597\n",
      "\n",
      "    accuracy                           0.65     20000\n",
      "   macro avg       0.67      0.67      0.65     20000\n",
      "weighted avg       0.68      0.65      0.64     20000\n",
      "\n"
     ]
    }
   ],
   "execution_count": 15
  },
  {
   "metadata": {
    "ExecuteTime": {
     "end_time": "2024-12-04T19:22:10.155875Z",
     "start_time": "2024-12-04T19:22:03.967223Z"
    }
   },
   "cell_type": "code",
   "source": [
    "nb_classifier = MultinomialNB()\n",
    "nb_classifier.fit(train_matrix_flat, train_label.ravel())\n",
    "test_predictions = nb_classifier.predict(test_matrix_flat)\n",
    "print(classification_report(test_label, test_predictions))"
   ],
   "id": "65962f9bc8e50ac8",
   "outputs": [
    {
     "name": "stdout",
     "output_type": "stream",
     "text": [
      "              precision    recall  f1-score   support\n",
      "\n",
      "         0.0       0.76      0.59      0.66     11403\n",
      "         1.0       0.58      0.76      0.66      8597\n",
      "\n",
      "    accuracy                           0.66     20000\n",
      "   macro avg       0.67      0.67      0.66     20000\n",
      "weighted avg       0.68      0.66      0.66     20000\n",
      "\n"
     ]
    }
   ],
   "execution_count": 30
  },
  {
   "metadata": {
    "ExecuteTime": {
     "end_time": "2024-12-04T19:21:52.980624Z",
     "start_time": "2024-12-04T19:21:46.567042Z"
    }
   },
   "cell_type": "code",
   "source": [
    "nb_classifier = ComplementNB()\n",
    "nb_classifier.fit(train_matrix_flat, train_label.ravel())\n",
    "test_predictions = nb_classifier.predict(test_matrix_flat)\n",
    "print(classification_report(test_label, test_predictions))"
   ],
   "id": "5494e9b006faea5e",
   "outputs": [
    {
     "name": "stdout",
     "output_type": "stream",
     "text": [
      "              precision    recall  f1-score   support\n",
      "\n",
      "         0.0       0.76      0.59      0.66     11403\n",
      "         1.0       0.58      0.76      0.66      8597\n",
      "\n",
      "    accuracy                           0.66     20000\n",
      "   macro avg       0.67      0.67      0.66     20000\n",
      "weighted avg       0.68      0.66      0.66     20000\n",
      "\n"
     ]
    }
   ],
   "execution_count": 28
  },
  {
   "metadata": {
    "ExecuteTime": {
     "end_time": "2024-12-04T19:22:03.894272Z",
     "start_time": "2024-12-04T19:21:55.647917Z"
    }
   },
   "cell_type": "code",
   "source": [
    "nb_classifier = BernoulliNB()\n",
    "nb_classifier.fit(train_matrix_flat, train_label.ravel())\n",
    "test_predictions = nb_classifier.predict(test_matrix_flat)\n",
    "print(classification_report(test_label, test_predictions))"
   ],
   "id": "bfb348271e4779b9",
   "outputs": [
    {
     "name": "stdout",
     "output_type": "stream",
     "text": [
      "              precision    recall  f1-score   support\n",
      "\n",
      "         0.0       0.76      0.59      0.66     11403\n",
      "         1.0       0.58      0.75      0.65      8597\n",
      "\n",
      "    accuracy                           0.66     20000\n",
      "   macro avg       0.67      0.67      0.66     20000\n",
      "weighted avg       0.68      0.66      0.66     20000\n",
      "\n"
     ]
    }
   ],
   "execution_count": 29
  },
  {
   "metadata": {
    "ExecuteTime": {
     "end_time": "2024-12-04T19:22:16.745429Z",
     "start_time": "2024-12-04T19:22:10.213898Z"
    }
   },
   "cell_type": "code",
   "source": [
    "nb_classifier = CategoricalNB()\n",
    "nb_classifier.fit(train_matrix_flat, train_label.ravel())\n",
    "test_predictions = nb_classifier.predict(test_matrix_flat)\n",
    "print(classification_report(test_label, test_predictions))"
   ],
   "id": "5075f6a62d7762bd",
   "outputs": [
    {
     "name": "stdout",
     "output_type": "stream",
     "text": [
      "              precision    recall  f1-score   support\n",
      "\n",
      "         0.0       0.76      0.59      0.66     11403\n",
      "         1.0       0.58      0.75      0.65      8597\n",
      "\n",
      "    accuracy                           0.66     20000\n",
      "   macro avg       0.67      0.67      0.66     20000\n",
      "weighted avg       0.68      0.66      0.66     20000\n",
      "\n"
     ]
    }
   ],
   "execution_count": 31
  },
  {
   "metadata": {},
   "cell_type": "code",
   "outputs": [],
   "execution_count": null,
   "source": "",
   "id": "967d4906efdafb13"
  }
 ],
 "metadata": {
  "kernelspec": {
   "display_name": "Python 3",
   "language": "python",
   "name": "python3"
  },
  "language_info": {
   "codemirror_mode": {
    "name": "ipython",
    "version": 2
   },
   "file_extension": ".py",
   "mimetype": "text/x-python",
   "name": "python",
   "nbconvert_exporter": "python",
   "pygments_lexer": "ipython2",
   "version": "2.7.6"
  }
 },
 "nbformat": 4,
 "nbformat_minor": 5
}
