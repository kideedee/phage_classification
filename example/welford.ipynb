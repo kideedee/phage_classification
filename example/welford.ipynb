{
 "cells": [
  {
   "cell_type": "code",
   "id": "initial_id",
   "metadata": {
    "collapsed": true,
    "ExecuteTime": {
     "end_time": "2025-07-26T02:17:22.737866Z",
     "start_time": "2025-07-26T02:17:22.290874Z"
    }
   },
   "source": [
    "from scipy import stats\n",
    "import numpy as np\n",
    "\n",
    "data = [1, 2, 3, 4, 5, 6, 7, 8, 9, 10]\n",
    "\n",
    "# Cách 1: Từng hàm riêng\n",
    "mean = np.mean(data)\n",
    "std = np.std(data, ddof=1)\n",
    "skewness = stats.skew(data)\n",
    "kurtosis = stats.kurtosis(data)\n",
    "\n",
    "# Cách 2: Dùng describe (không có skew/kurt)\n",
    "desc = stats.describe(data)\n",
    "print(f\"Mean: {desc.mean}\")\n",
    "print(f\"Variance: {desc.variance}\")\n",
    "\n",
    "# Cách 3: Tất cả trong một\n",
    "def all_stats_scipy(data):\n",
    "    return {\n",
    "        'mean': np.mean(data),\n",
    "        'std': np.std(data, ddof=1),\n",
    "        'skewness': stats.skew(data),\n",
    "        'kurtosis': stats.kurtosis(data)\n",
    "    }"
   ],
   "outputs": [
    {
     "name": "stdout",
     "output_type": "stream",
     "text": [
      "Mean: 5.5\n",
      "Variance: 9.166666666666668\n"
     ]
    }
   ],
   "execution_count": 3
  },
  {
   "metadata": {
    "ExecuteTime": {
     "end_time": "2025-07-26T02:17:32.827439Z",
     "start_time": "2025-07-26T02:17:32.813439Z"
    }
   },
   "cell_type": "code",
   "source": "all_stats_scipy(data)",
   "id": "8b3f4b5b52efe206",
   "outputs": [
    {
     "data": {
      "text/plain": [
       "{'mean': 5.5,\n",
       " 'std': 3.0276503540974917,\n",
       " 'skewness': 0.0,\n",
       " 'kurtosis': -1.2242424242424244}"
      ]
     },
     "execution_count": 4,
     "metadata": {},
     "output_type": "execute_result"
    }
   ],
   "execution_count": 4
  },
  {
   "metadata": {},
   "cell_type": "code",
   "outputs": [],
   "execution_count": null,
   "source": "",
   "id": "51ff0d75d2bd7c53"
  }
 ],
 "metadata": {
  "kernelspec": {
   "display_name": "Python 3",
   "language": "python",
   "name": "python3"
  },
  "language_info": {
   "codemirror_mode": {
    "name": "ipython",
    "version": 2
   },
   "file_extension": ".py",
   "mimetype": "text/x-python",
   "name": "python",
   "nbconvert_exporter": "python",
   "pygments_lexer": "ipython2",
   "version": "2.7.6"
  }
 },
 "nbformat": 4,
 "nbformat_minor": 5
}
