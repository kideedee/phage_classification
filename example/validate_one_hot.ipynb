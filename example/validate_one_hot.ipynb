{
 "cells": [
  {
   "cell_type": "code",
   "id": "initial_id",
   "metadata": {
    "collapsed": true,
    "ExecuteTime": {
     "end_time": "2025-04-30T02:53:12.132679Z",
     "start_time": "2025-04-30T02:53:12.043952Z"
    }
   },
   "source": "import numpy as np",
   "outputs": [],
   "execution_count": 1
  },
  {
   "metadata": {
    "ExecuteTime": {
     "end_time": "2025-04-30T04:16:02.301311Z",
     "start_time": "2025-04-30T04:16:02.258575Z"
    }
   },
   "cell_type": "code",
   "source": [
    "x_train = np.load(\"D:\\implementation\\MyPhageClassificationExperiment\\data\\my_data\\one_hot\\\\100_400\\one_hot_100_400_train_vector.npy\")\n",
    "x_train"
   ],
   "id": "b7426caa44b53271",
   "outputs": [
    {
     "data": {
      "text/plain": [
       "array(['TAAATATTAATCGAGTGTCTATACTTCCGTACATAAGTTAATAAAATTCTATATCATTTATTTTAATGGAATGTCTGTTTTTAAGCTTTACATATTCTATGTCGATAGACTTAATGGCCATCTTAATGAAATCTGCTTTATCATCCAACGAGAATATTTTCCATGATTCCAACAATACATTTTTGAATTTTTTATCTTATCTATATCT',\n",
       "       'AGATATAGATAAGATAAAAAATTCAAAAATGTATTGTTGGAATCATGGAAAATATTCTCGTTGGATGATAAAGCAGATTTCATTAAGATGGCCATTAAGTCTATCGACATAGAATATGTAAAGCTTAAAAACAGACATTCCATTAAAATAAATGATATAGAATTTTATTAACTTATGTACGGAAGTATAGACACTCGATTAATATTTA',\n",
       "       'AACGAGAATATTTTCCATGATTCCAACAATACATTTTTGAATTTTTTATCTTATCTATATCTAGTGTTTTTTTAGGTACTAATTCTTTTTGTTTTTCATATTCTGCGATTGTTTCGTCTGTTTCTTTAATTAATTCAAATAATTCTTCTTCTTGCATTAACCCTTTAGCATATAATTTATGATACCTTTTACGTTGTTCCATAATTTTGTCTATATCAATAGTAACGACATCGTCTTTTTGTTTTGTCTTTACTTCGTATTTTCCTAAGTCTAGT',\n",
       "       ...,\n",
       "       'ATGGCAGGTAAAACTTCTGACGTTACCCAATGCTTAAATTTCTTAGCGTTAGGCATTTGACTGCTGAATATTAATGAATAAACGCCTGACTCTTTGATTAAATCAACGTTTACATAGCCCGTCGCGTTTTGCGACACTTGTGAAGCTTTCACAATCTCACTAATCTTGTCTTCAGCATCTACATGTTTAGCCAAAGCATCTCTTGTATTTTTGTAGCCAAGAATTTCAGCCACATCTTTTCCTAC',\n",
       "       'TGCCGGGGGCTGGACATTTACAGCCCGTGCCCCGTCGTGGGGTTCGGTTGCGGCGACTGTGGAGACGTGGAAGACCCATGTTGCACCCCAGAGGAACAGGCAGCCGCCAAGTCATGAGACGCCGCTACGTGAACCGCGACGCGCGCCCGTGGTTCATCACCCCCGCAGAACAAGCCCACATTGACAGCTTCGCACCCCCGGAAGAGCTCAACGAATGCCTAACTATCGTGATCCCAGGACCCGCAAAAACGCCACCAGTGGACGCCGCGCCCCCGACTATAAGCCCGTGGCGCTGGA',\n",
       "       'TAAAAATACCTGTTTGATACCATTTAAGTTTAATTTTCTCATAAGCATTTAAAACCAAATTAAAACACTTATAGTATAAATCATCTCTATCCCATAGTTTCATTTGATTAATAATAGAGATGTTTAAGGGTATGATAAAACTTTCTGTATTAGCAGAATCTAGTGTAGTTATCTCATCCCTATTTACACCGTATATATTATTAAAATGTACTAAACCAGTAATGATTAACTCACTGTAAG'],\n",
       "      dtype='<U400')"
      ]
     },
     "execution_count": 16,
     "metadata": {},
     "output_type": "execute_result"
    }
   ],
   "execution_count": 16
  },
  {
   "metadata": {
    "ExecuteTime": {
     "end_time": "2025-04-30T04:16:05.799749Z",
     "start_time": "2025-04-30T04:16:05.786554Z"
    }
   },
   "cell_type": "code",
   "source": "x_train.shape",
   "id": "106cc1273e0c42bf",
   "outputs": [
    {
     "data": {
      "text/plain": [
       "(40560,)"
      ]
     },
     "execution_count": 17,
     "metadata": {},
     "output_type": "execute_result"
    }
   ],
   "execution_count": 17
  },
  {
   "metadata": {
    "ExecuteTime": {
     "end_time": "2025-04-30T03:05:45.093009Z",
     "start_time": "2025-04-30T03:05:45.085497Z"
    }
   },
   "cell_type": "code",
   "source": [
    "\n",
    "x_train[7]"
   ],
   "id": "dd7a475286f4c382",
   "outputs": [
    {
     "data": {
      "text/plain": [
       "array([[0., 0., 0., 1.],\n",
       "       [1., 0., 0., 0.],\n",
       "       [0., 0., 1., 0.],\n",
       "       ...,\n",
       "       [0., 0., 0., 0.],\n",
       "       [0., 0., 0., 0.],\n",
       "       [0., 0., 0., 0.]], dtype=float32)"
      ]
     },
     "execution_count": 14,
     "metadata": {},
     "output_type": "execute_result"
    }
   ],
   "execution_count": 14
  }
 ],
 "metadata": {
  "kernelspec": {
   "display_name": "Python 3",
   "language": "python",
   "name": "python3"
  },
  "language_info": {
   "codemirror_mode": {
    "name": "ipython",
    "version": 2
   },
   "file_extension": ".py",
   "mimetype": "text/x-python",
   "name": "python",
   "nbconvert_exporter": "python",
   "pygments_lexer": "ipython2",
   "version": "2.7.6"
  }
 },
 "nbformat": 4,
 "nbformat_minor": 5
}
