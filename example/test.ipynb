{
 "cells": [
  {
   "cell_type": "code",
   "id": "initial_id",
   "metadata": {
    "collapsed": true,
    "ExecuteTime": {
     "end_time": "2025-07-30T17:07:43.691957Z",
     "start_time": "2025-07-30T17:07:43.296950Z"
    }
   },
   "source": [
    "import numpy as np\n",
    "import pandas as pd"
   ],
   "outputs": [],
   "execution_count": 1
  },
  {
   "metadata": {
    "ExecuteTime": {
     "end_time": "2025-07-30T17:07:44.468944Z",
     "start_time": "2025-07-30T17:07:44.314936Z"
    }
   },
   "cell_type": "code",
   "source": [
    "vectors = np.load(\"E:\\master\\\\final_project\\data\\my_data\\contig\\\\100_400\\\\fold_1\\\\train\\\\fcgr_vectors.npy\",\n",
    "                  allow_pickle=True)\n",
    "labels = np.load(\"E:\\master\\\\final_project\\data\\my_data\\contig\\\\100_400\\\\fold_1\\\\train\\\\fcgr_labels.npy\")\n",
    "vectors[0]"
   ],
   "id": "23de658059623e1e",
   "outputs": [
    {
     "data": {
      "text/plain": [
       "'ATGTAGGGGCATTTTTTATATTTAAATAACTAGAGTAATTAACGTAAAGTGGGTGGTATTATACGATGAGTAATATGCAAAATAACGCAACATTTGGCGCGTATTTAGAATTAACAAAGAAACAACAAGCTTATATACAGATAAAGACAGACACTGGCGCAAAAGATATGGATATCGCAGAGCAAATTGACGTGAACCGCGCTACTATATCAAGGTGGAAAGCTAACGATAAATTTAGAGAAG'"
      ]
     },
     "execution_count": 2,
     "metadata": {},
     "output_type": "execute_result"
    }
   ],
   "execution_count": 2
  },
  {
   "metadata": {
    "ExecuteTime": {
     "end_time": "2025-07-30T17:07:45.659293Z",
     "start_time": "2025-07-30T17:07:45.632294Z"
    }
   },
   "cell_type": "code",
   "source": [
    "df = pd.DataFrame({\n",
    "    \"sequence\": vectors,\n",
    "    \"target\": labels\n",
    "})\n",
    "df.head()"
   ],
   "id": "7efa5c77f5c78117",
   "outputs": [
    {
     "data": {
      "text/plain": [
       "                                            sequence  target\n",
       "0  ATGTAGGGGCATTTTTTATATTTAAATAACTAGAGTAATTAACGTA...       0\n",
       "1  CTTCTCTAAATTTATCGTTAGCTTTCCACCTTGATATAGTAGCGCG...       0\n",
       "2  AAGCTAACGATAAATTTAGAGAAGGGTTTAAAGGATATCAAGCTGA...       0\n",
       "3  GCCACGTCCGCCCTTTGCAATGATGTTAAGTATTCCTTTATCTTTA...       0\n",
       "4  TACTTAACATCATTGCAAAGGGCGGACGTGGCTCAGGTAAGTCGTC...       0"
      ],
      "text/html": [
       "<div>\n",
       "<style scoped>\n",
       "    .dataframe tbody tr th:only-of-type {\n",
       "        vertical-align: middle;\n",
       "    }\n",
       "\n",
       "    .dataframe tbody tr th {\n",
       "        vertical-align: top;\n",
       "    }\n",
       "\n",
       "    .dataframe thead th {\n",
       "        text-align: right;\n",
       "    }\n",
       "</style>\n",
       "<table border=\"1\" class=\"dataframe\">\n",
       "  <thead>\n",
       "    <tr style=\"text-align: right;\">\n",
       "      <th></th>\n",
       "      <th>sequence</th>\n",
       "      <th>target</th>\n",
       "    </tr>\n",
       "  </thead>\n",
       "  <tbody>\n",
       "    <tr>\n",
       "      <th>0</th>\n",
       "      <td>ATGTAGGGGCATTTTTTATATTTAAATAACTAGAGTAATTAACGTA...</td>\n",
       "      <td>0</td>\n",
       "    </tr>\n",
       "    <tr>\n",
       "      <th>1</th>\n",
       "      <td>CTTCTCTAAATTTATCGTTAGCTTTCCACCTTGATATAGTAGCGCG...</td>\n",
       "      <td>0</td>\n",
       "    </tr>\n",
       "    <tr>\n",
       "      <th>2</th>\n",
       "      <td>AAGCTAACGATAAATTTAGAGAAGGGTTTAAAGGATATCAAGCTGA...</td>\n",
       "      <td>0</td>\n",
       "    </tr>\n",
       "    <tr>\n",
       "      <th>3</th>\n",
       "      <td>GCCACGTCCGCCCTTTGCAATGATGTTAAGTATTCCTTTATCTTTA...</td>\n",
       "      <td>0</td>\n",
       "    </tr>\n",
       "    <tr>\n",
       "      <th>4</th>\n",
       "      <td>TACTTAACATCATTGCAAAGGGCGGACGTGGCTCAGGTAAGTCGTC...</td>\n",
       "      <td>0</td>\n",
       "    </tr>\n",
       "  </tbody>\n",
       "</table>\n",
       "</div>"
      ]
     },
     "execution_count": 3,
     "metadata": {},
     "output_type": "execute_result"
    }
   ],
   "execution_count": 3
  },
  {
   "metadata": {
    "ExecuteTime": {
     "end_time": "2025-07-30T17:09:05.924484Z",
     "start_time": "2025-07-30T17:08:06.343718Z"
    }
   },
   "cell_type": "code",
   "source": [
    "from common.env_config import config\n",
    "\n",
    "for i in range(5):\n",
    "    fold = i + 1\n",
    "    for j in range(4):\n",
    "        if j == 0:\n",
    "            min_size = 100\n",
    "            max_size = 400\n",
    "            overlap = 30\n",
    "            max_length_tokenizer = int(max_size * 0.25)\n",
    "        elif j == 1:\n",
    "            min_size = 400\n",
    "            max_size = 800\n",
    "            overlap = 30\n",
    "            max_length_tokenizer = int(max_size * 0.25)\n",
    "        elif j == 2:\n",
    "            min_size = 800\n",
    "            max_size = 1200\n",
    "            overlap = 50\n",
    "            max_length_tokenizer = 512\n",
    "        elif j == 3:\n",
    "            min_size = 1200\n",
    "            max_size = 1800\n",
    "            overlap = 70\n",
    "            max_length_tokenizer = 512\n",
    "        else:\n",
    "            raise ValueError\n",
    "\n",
    "        # if j < 2:\n",
    "        #     continue\n",
    "\n",
    "        group = f\"{min_size}_{max_size}\"\n",
    "        print(f\"group: {group}, fold: {fold}\")\n",
    "\n",
    "        train_vector_file = f\"{config.CONTIG_OUTPUT_DATA_DIR}/{group}/fold_{fold}/train/fcgr_vectors.npy\"\n",
    "        train_label_file = f\"{config.CONTIG_OUTPUT_DATA_DIR}/{group}/fold_{fold}/train/fcgr_labels.npy\"\n",
    "        test_vector_file = f\"{config.CONTIG_OUTPUT_DATA_DIR}/{group}/fold_{fold}/test/fcgr_vectors.npy\"\n",
    "        test_label_file = f\"{config.CONTIG_OUTPUT_DATA_DIR}/{group}/fold_{fold}/test/fcgr_labels.npy\"\n",
    "\n",
    "        train_vectors = np.load(train_vector_file, allow_pickle=True)\n",
    "        train_labels = np.load(train_label_file)\n",
    "        test_vectors = np.load(test_vector_file, allow_pickle=True)\n",
    "        test_labels = np.load(test_label_file)\n",
    "\n",
    "        train_df = pd.DataFrame({\n",
    "            \"sequence\": train_vectors,\n",
    "            \"target\": train_labels\n",
    "        })\n",
    "        test_df = pd.DataFrame({\n",
    "            \"sequence\": test_vectors,\n",
    "            \"target\": test_labels\n",
    "        })\n",
    "        train_df.to_csv(f\"{config.CONTIG_OUTPUT_DATA_DIR}/{group}/fold_{fold}/train/data.csv\", index=False)\n",
    "        test_df.to_csv(f\"{config.CONTIG_OUTPUT_DATA_DIR}/{group}/fold_{fold}/test/data.csv\", index=False)"
   ],
   "id": "797b4adf6ce308a7",
   "outputs": [
    {
     "name": "stdout",
     "output_type": "stream",
     "text": [
      "group: 100_400, fold: 1\n",
      "group: 400_800, fold: 1\n",
      "group: 800_1200, fold: 1\n",
      "group: 1200_1800, fold: 1\n",
      "group: 100_400, fold: 2\n",
      "group: 400_800, fold: 2\n",
      "group: 800_1200, fold: 2\n",
      "group: 1200_1800, fold: 2\n",
      "group: 100_400, fold: 3\n",
      "group: 400_800, fold: 3\n",
      "group: 800_1200, fold: 3\n",
      "group: 1200_1800, fold: 3\n",
      "group: 100_400, fold: 4\n",
      "group: 400_800, fold: 4\n",
      "group: 800_1200, fold: 4\n",
      "group: 1200_1800, fold: 4\n",
      "group: 100_400, fold: 5\n",
      "group: 400_800, fold: 5\n",
      "group: 800_1200, fold: 5\n",
      "group: 1200_1800, fold: 5\n"
     ]
    }
   ],
   "execution_count": 4
  },
  {
   "metadata": {},
   "cell_type": "code",
   "outputs": [],
   "execution_count": null,
   "source": "",
   "id": "b3e17358ed6a20b"
  }
 ],
 "metadata": {
  "kernelspec": {
   "display_name": "Python 3",
   "language": "python",
   "name": "python3"
  },
  "language_info": {
   "codemirror_mode": {
    "name": "ipython",
    "version": 2
   },
   "file_extension": ".py",
   "mimetype": "text/x-python",
   "name": "python",
   "nbconvert_exporter": "python",
   "pygments_lexer": "ipython2",
   "version": "2.7.6"
  }
 },
 "nbformat": 4,
 "nbformat_minor": 5
}
