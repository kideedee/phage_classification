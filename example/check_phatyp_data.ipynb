{
 "cells": [
  {
   "cell_type": "code",
   "id": "initial_id",
   "metadata": {
    "collapsed": true,
    "ExecuteTime": {
     "end_time": "2025-07-07T21:57:57.663208Z",
     "start_time": "2025-07-07T21:57:57.658208Z"
    }
   },
   "source": [
    "\n",
    "from Bio import SeqIO\n",
    "import numpy as np\n",
    "import pandas as pd"
   ],
   "outputs": [],
   "execution_count": 4
  },
  {
   "metadata": {
    "ExecuteTime": {
     "end_time": "2025-07-07T22:03:44.432471Z",
     "start_time": "2025-07-07T22:03:42.751145Z"
    }
   },
   "cell_type": "code",
   "source": [
    "fold = 2\n",
    "data_type = \"train\"\n",
    "group = \"100_400\"\n",
    "data_file = f\"E:\\master\\\\final_project\\data\\my_data\\\\fasta\\\\{group}\\\\{fold}\\\\{data_type}\\data.fa\"\n",
    "count = 0\n",
    "with open(data_file, \"r\") as f:\n",
    "    for record in SeqIO.parse(f, \"fasta\"):\n",
    "        count += 1\n",
    "\n",
    "print(count)\n",
    "\n",
    "pandas_file = f\"E:\\master\\\\final_project\\data\\my_data\\convert2phatyp\\\\{group}\\\\{fold}\\\\{data_type}\\ds.csv\"\n",
    "df = pd.read_csv(pandas_file)\n",
    "print(df.shape)"
   ],
   "id": "29227c44fcfd4f2d",
   "outputs": [
    {
     "name": "stdout",
     "output_type": "stream",
     "text": [
      "591324\n",
      "(606112, 3)\n"
     ]
    }
   ],
   "execution_count": 14
  },
  {
   "metadata": {
    "ExecuteTime": {
     "end_time": "2025-07-07T21:59:33.749966Z",
     "start_time": "2025-07-07T21:59:33.737968Z"
    }
   },
   "cell_type": "code",
   "source": "df.head()",
   "id": "6640985f52fad9e4",
   "outputs": [
    {
     "data": {
      "text/plain": [
       "                                 >contig_0_temperate\n",
       "0  GCTCTTGCTGAAAATCTAAATCTTGAGAAGAAAACTGTTAAGATTC...\n",
       "1                                >contig_1_temperate\n",
       "2  GATCCATCACCTGTATAAGCATGTGGAATCTTAACAGTTTTCTTCT...\n",
       "3                                >contig_2_temperate\n",
       "4  ATGGATCTGTCCCCTATGCTAGTAATGGGCAGACTGCCATTTTTGA..."
      ],
      "text/html": [
       "<div>\n",
       "<style scoped>\n",
       "    .dataframe tbody tr th:only-of-type {\n",
       "        vertical-align: middle;\n",
       "    }\n",
       "\n",
       "    .dataframe tbody tr th {\n",
       "        vertical-align: top;\n",
       "    }\n",
       "\n",
       "    .dataframe thead th {\n",
       "        text-align: right;\n",
       "    }\n",
       "</style>\n",
       "<table border=\"1\" class=\"dataframe\">\n",
       "  <thead>\n",
       "    <tr style=\"text-align: right;\">\n",
       "      <th></th>\n",
       "      <th>&gt;contig_0_temperate</th>\n",
       "    </tr>\n",
       "  </thead>\n",
       "  <tbody>\n",
       "    <tr>\n",
       "      <th>0</th>\n",
       "      <td>GCTCTTGCTGAAAATCTAAATCTTGAGAAGAAAACTGTTAAGATTC...</td>\n",
       "    </tr>\n",
       "    <tr>\n",
       "      <th>1</th>\n",
       "      <td>&gt;contig_1_temperate</td>\n",
       "    </tr>\n",
       "    <tr>\n",
       "      <th>2</th>\n",
       "      <td>GATCCATCACCTGTATAAGCATGTGGAATCTTAACAGTTTTCTTCT...</td>\n",
       "    </tr>\n",
       "    <tr>\n",
       "      <th>3</th>\n",
       "      <td>&gt;contig_2_temperate</td>\n",
       "    </tr>\n",
       "    <tr>\n",
       "      <th>4</th>\n",
       "      <td>ATGGATCTGTCCCCTATGCTAGTAATGGGCAGACTGCCATTTTTGA...</td>\n",
       "    </tr>\n",
       "  </tbody>\n",
       "</table>\n",
       "</div>"
      ]
     },
     "execution_count": 7,
     "metadata": {},
     "output_type": "execute_result"
    }
   ],
   "execution_count": 7
  },
  {
   "metadata": {},
   "cell_type": "code",
   "outputs": [],
   "execution_count": null,
   "source": "",
   "id": "44388a3c0aaa260d"
  }
 ],
 "metadata": {
  "kernelspec": {
   "display_name": "Python 3",
   "language": "python",
   "name": "python3"
  },
  "language_info": {
   "codemirror_mode": {
    "name": "ipython",
    "version": 2
   },
   "file_extension": ".py",
   "mimetype": "text/x-python",
   "name": "python",
   "nbconvert_exporter": "python",
   "pygments_lexer": "ipython2",
   "version": "2.7.6"
  }
 },
 "nbformat": 4,
 "nbformat_minor": 5
}
