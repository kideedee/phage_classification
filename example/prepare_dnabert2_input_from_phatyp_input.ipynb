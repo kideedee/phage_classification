{
 "cells": [
  {
   "cell_type": "code",
   "id": "initial_id",
   "metadata": {
    "collapsed": true,
    "ExecuteTime": {
     "end_time": "2025-07-10T15:39:37.322731Z",
     "start_time": "2025-07-10T15:39:37.310139Z"
    }
   },
   "source": [
    "\n",
    "import os\n",
    "\n",
    "import pandas as pd\n",
    "from Bio import SeqIO\n",
    "from common.env_config import config"
   ],
   "outputs": [],
   "execution_count": 7
  },
  {
   "metadata": {
    "ExecuteTime": {
     "end_time": "2025-07-10T15:39:44.950649Z",
     "start_time": "2025-07-10T15:39:44.948343Z"
    }
   },
   "cell_type": "code",
   "source": [
    "phatyp_data_dir = os.path.join(config.MY_DATA_DIR, \"convert2phatyp\")\n",
    "fasta_data_dir = os.path.join(config.MY_DATA_DIR, \"fasta\")\n",
    "group = \"100_400\"\n",
    "fold = \"5\"\n",
    "data_type = \"train\""
   ],
   "id": "90ca8b21c6d85dbd",
   "outputs": [],
   "execution_count": 10
  },
  {
   "metadata": {
    "ExecuteTime": {
     "end_time": "2025-07-10T15:39:45.568511Z",
     "start_time": "2025-07-10T15:39:45.378908Z"
    }
   },
   "cell_type": "code",
   "source": "phatyp_df = pd.read_csv(f\"{phatyp_data_dir}/{group}/{fold}/{data_type}/ds.csv\")",
   "id": "5550922bf8983fc5",
   "outputs": [],
   "execution_count": 11
  },
  {
   "metadata": {
    "ExecuteTime": {
     "end_time": "2025-07-10T15:39:48.269820Z",
     "start_time": "2025-07-10T15:39:46.673392Z"
    }
   },
   "cell_type": "code",
   "source": [
    "sequence = []\n",
    "label = []\n",
    "id = []\n",
    "with open(f\"{fasta_data_dir}/{group}/{fold}/{data_type}/data.fa\", \"r\") as f:\n",
    "    for record in SeqIO.parse(f, \"fasta\"):\n",
    "        sequence.append(str(record.seq))\n",
    "        id.append(record.id.split(\"_\")[0] + record.id.split(\"_\")[1])\n",
    "        if record.id.split(\"_\")[2] == 'temperate':\n",
    "            label.append(0)\n",
    "        else:\n",
    "            label.append(1)\n",
    "fasta_df = pd.DataFrame({\"sequence\": sequence, \"name\": id, \"label\": label})\n",
    "# fasta_df.head()"
   ],
   "id": "f7e07206c0909cf2",
   "outputs": [],
   "execution_count": 12
  },
  {
   "metadata": {
    "ExecuteTime": {
     "end_time": "2025-06-24T16:13:25.665314Z",
     "start_time": "2025-06-24T16:13:25.605179Z"
    }
   },
   "cell_type": "code",
   "source": [
    "merge_df = pd.merge(phatyp_df, fasta_df, on=\"name\")\n",
    "merge_df.head()\n",
    "output_dir = \"E:\\master\\\\final_project\\data\\my_data\\\\filtered_from_phatyp\"\n",
    "data_dir = f\"{output_dir}/{group}/{fold}/{data_type}\"\n",
    "if not os.path.exists(data_dir):\n",
    "    os.makedirs(data_dir)\n",
    "merge_df.to_csv(os.path.join(data_dir, f\"data.csv\"), index=False)"
   ],
   "id": "8e67a255cd1c252d",
   "outputs": [],
   "execution_count": 221
  },
  {
   "metadata": {},
   "cell_type": "code",
   "outputs": [],
   "execution_count": null,
   "source": "",
   "id": "5051a17bb701014f"
  }
 ],
 "metadata": {
  "kernelspec": {
   "display_name": "Python 3",
   "language": "python",
   "name": "python3"
  },
  "language_info": {
   "codemirror_mode": {
    "name": "ipython",
    "version": 2
   },
   "file_extension": ".py",
   "mimetype": "text/x-python",
   "name": "python",
   "nbconvert_exporter": "python",
   "pygments_lexer": "ipython2",
   "version": "2.7.6"
  }
 },
 "nbformat": 4,
 "nbformat_minor": 5
}
