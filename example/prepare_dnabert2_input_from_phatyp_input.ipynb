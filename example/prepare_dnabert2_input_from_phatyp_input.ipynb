{
 "cells": [
  {
   "cell_type": "code",
   "id": "initial_id",
   "metadata": {
    "collapsed": true,
    "ExecuteTime": {
     "end_time": "2025-06-29T03:00:37.813452Z",
     "start_time": "2025-06-29T03:00:37.800445Z"
    }
   },
   "source": [
    "\n",
    "import os\n",
    "\n",
    "import pandas as pd\n",
    "from Bio import SeqIO"
   ],
   "outputs": [],
   "execution_count": 10
  },
  {
   "metadata": {
    "ExecuteTime": {
     "end_time": "2025-06-29T03:04:39.077835Z",
     "start_time": "2025-06-29T03:03:11.273687Z"
    }
   },
   "cell_type": "code",
   "source": [
    "phatyp_data_dir = \"E:\\master\\\\final_project\\data\\my_data\\convert2phatyp\"\n",
    "fasta_data_dir = \"E:\\master\\\\final_project\\data\\my_data\\\\fasta\"\n",
    "\n",
    "for k in range(2):\n",
    "    if k == 0:\n",
    "        data_type = \"train\"\n",
    "    else:\n",
    "        data_type = \"test\"\n",
    "\n",
    "    for i in range(4):\n",
    "        if i == 0:\n",
    "            group = \"100_400\"\n",
    "        elif i == 1:\n",
    "            group = \"400_800\"\n",
    "        elif i == 2:\n",
    "            group = \"800_1200\"\n",
    "        elif i == 3:\n",
    "            group = \"1200_1800\"\n",
    "        else:\n",
    "            raise Exception\n",
    "\n",
    "        for j in range(5):\n",
    "            fold = j + 1\n",
    "\n",
    "            phatyp_df = pd.read_csv(f\"{phatyp_data_dir}/{group}/{fold}/{data_type}/ds.csv\")\n",
    "\n",
    "            sequence = []\n",
    "            label = []\n",
    "            id = []\n",
    "            with open(f\"{fasta_data_dir}/{group}/{fold}/{data_type}/data.fa\", \"r\") as f:\n",
    "                for record in SeqIO.parse(f, \"fasta\"):\n",
    "                    sequence.append(str(record.seq))\n",
    "                    id.append(record.id.split(\"_\")[0] + record.id.split(\"_\")[1])\n",
    "                    if record.id.split(\"_\")[2] == 'temperate':\n",
    "                        label.append(0)\n",
    "                    else:\n",
    "                        label.append(1)\n",
    "            fasta_df = pd.DataFrame({\"sequence\": sequence, \"name\": id, \"label\": label})\n",
    "            # fasta_df.head()\n",
    "\n",
    "            merge_df = pd.merge(phatyp_df, fasta_df, on=\"name\")\n",
    "            merge_df = merge_df[[\"name\", \"sequence\", \"label_y\"]]\n",
    "            columns = merge_df.columns.tolist()\n",
    "            columns[2] = \"target\"\n",
    "            merge_df.columns = columns\n",
    "            # merge_df.head()\n",
    "\n",
    "            output_dir = \"E:\\master\\\\final_project\\data\\my_data\\\\filtered_from_phatyp\"\n",
    "            data_dir = f\"{output_dir}/{group}/{fold}/{data_type}\"\n",
    "            if not os.path.exists(data_dir):\n",
    "                os.makedirs(data_dir)\n",
    "            merge_df.to_csv(os.path.join(data_dir, f\"data.csv\"), index=False)"
   ],
   "id": "90ca8b21c6d85dbd",
   "outputs": [],
   "execution_count": 13
  },
  {
   "metadata": {
    "ExecuteTime": {
     "end_time": "2025-06-24T16:13:27.141226Z",
     "start_time": "2025-06-24T16:13:25.696933Z"
    }
   },
   "cell_type": "code",
   "source": "",
   "id": "1103b7879907c72f",
   "outputs": [],
   "execution_count": 222
  }
 ],
 "metadata": {
  "kernelspec": {
   "display_name": "Python 3",
   "language": "python",
   "name": "python3"
  },
  "language_info": {
   "codemirror_mode": {
    "name": "ipython",
    "version": 2
   },
   "file_extension": ".py",
   "mimetype": "text/x-python",
   "name": "python",
   "nbconvert_exporter": "python",
   "pygments_lexer": "ipython2",
   "version": "2.7.6"
  }
 },
 "nbformat": 4,
 "nbformat_minor": 5
}
