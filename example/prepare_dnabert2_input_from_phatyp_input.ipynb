{
 "cells": [
  {
   "cell_type": "code",
   "id": "initial_id",
   "metadata": {
    "collapsed": true,
    "ExecuteTime": {
     "end_time": "2025-06-24T16:13:24.534072Z",
     "start_time": "2025-06-24T16:13:24.517071Z"
    }
   },
   "source": [
    "\n",
    "import os\n",
    "\n",
    "import pandas as pd\n",
    "from Bio import SeqIO"
   ],
   "outputs": [],
   "execution_count": 217
  },
  {
   "metadata": {
    "ExecuteTime": {
     "end_time": "2025-06-24T16:13:24.566078Z",
     "start_time": "2025-06-24T16:13:24.551071Z"
    }
   },
   "cell_type": "code",
   "source": [
    "phatyp_data_dir = \"E:\\master\\\\final_project\\data\\my_data\\convert2phatyp\"\n",
    "fasta_data_dir = \"E:\\master\\\\final_project\\data\\my_data\\\\fasta\"\n",
    "group = \"1200_1800\"\n",
    "fold = \"5\"\n",
    "data_type = \"train\""
   ],
   "id": "90ca8b21c6d85dbd",
   "outputs": [],
   "execution_count": 218
  },
  {
   "metadata": {
    "ExecuteTime": {
     "end_time": "2025-06-24T16:13:24.673542Z",
     "start_time": "2025-06-24T16:13:24.597097Z"
    }
   },
   "cell_type": "code",
   "source": "phatyp_df = pd.read_csv(f\"{phatyp_data_dir}/{group}/{fold}/{data_type}/ds.csv\")",
   "id": "5550922bf8983fc5",
   "outputs": [],
   "execution_count": 219
  },
  {
   "metadata": {
    "ExecuteTime": {
     "end_time": "2025-06-24T16:13:25.587773Z",
     "start_time": "2025-06-24T16:13:24.678542Z"
    }
   },
   "cell_type": "code",
   "source": [
    "sequence = []\n",
    "label = []\n",
    "id = []\n",
    "with open(f\"{fasta_data_dir}/{group}/{fold}/{data_type}/data.fa\", \"r\") as f:\n",
    "    for record in SeqIO.parse(f, \"fasta\"):\n",
    "        sequence.append(str(record.seq))\n",
    "        id.append(record.id.split(\"_\")[0] + record.id.split(\"_\")[1])\n",
    "        if record.id.split(\"_\")[2] == 'temperate':\n",
    "            label.append(0)\n",
    "        else:\n",
    "            label.append(1)\n",
    "fasta_df = pd.DataFrame({\"sequence\": sequence, \"name\": id, \"label\": label})\n",
    "# fasta_df.head()"
   ],
   "id": "f7e07206c0909cf2",
   "outputs": [],
   "execution_count": 220
  },
  {
   "metadata": {
    "ExecuteTime": {
     "end_time": "2025-06-24T16:13:25.665314Z",
     "start_time": "2025-06-24T16:13:25.605179Z"
    }
   },
   "cell_type": "code",
   "source": [
    "merge_df = pd.merge(phatyp_df, fasta_df, on=\"name\")\n",
    "# merge_df.head()"
   ],
   "id": "8e67a255cd1c252d",
   "outputs": [],
   "execution_count": 221
  },
  {
   "metadata": {
    "ExecuteTime": {
     "end_time": "2025-06-24T16:13:27.141226Z",
     "start_time": "2025-06-24T16:13:25.696933Z"
    }
   },
   "cell_type": "code",
   "source": [
    "output_dir = \"E:\\master\\\\final_project\\data\\my_data\\\\filtered_from_phatyp\"\n",
    "data_dir = f\"{output_dir}/{group}/{fold}/{data_type}\"\n",
    "if not os.path.exists(data_dir):\n",
    "    os.makedirs(data_dir)\n",
    "merge_df.to_csv(os.path.join(data_dir, f\"data.csv\"), index=False)"
   ],
   "id": "1103b7879907c72f",
   "outputs": [],
   "execution_count": 222
  }
 ],
 "metadata": {
  "kernelspec": {
   "display_name": "Python 3",
   "language": "python",
   "name": "python3"
  },
  "language_info": {
   "codemirror_mode": {
    "name": "ipython",
    "version": 2
   },
   "file_extension": ".py",
   "mimetype": "text/x-python",
   "name": "python",
   "nbconvert_exporter": "python",
   "pygments_lexer": "ipython2",
   "version": "2.7.6"
  }
 },
 "nbformat": 4,
 "nbformat_minor": 5
}
