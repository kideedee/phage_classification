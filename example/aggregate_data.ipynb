{
 "cells": [
  {
   "cell_type": "code",
   "id": "initial_id",
   "metadata": {
    "collapsed": true,
    "ExecuteTime": {
     "end_time": "2025-07-17T20:13:43.401880Z",
     "start_time": "2025-07-17T20:13:43.048406Z"
    }
   },
   "source": [
    "import os\n",
    "\n",
    "import pandas as pd"
   ],
   "outputs": [],
   "execution_count": 1
  },
  {
   "metadata": {},
   "cell_type": "markdown",
   "source": "# Phage Scope Dataset",
   "id": "b7bfbae9789a4016"
  },
  {
   "metadata": {
    "ExecuteTime": {
     "end_time": "2025-07-17T20:13:44.055388Z",
     "start_time": "2025-07-17T20:13:43.415405Z"
    }
   },
   "cell_type": "code",
   "source": [
    "meta_phage_scope_df = pd.read_csv('E:\\master\\\\final_project\\data\\phage_scope\\\\all_phage_meta_data.tsv', sep='\\t')\n",
    "meta_phage_scope_df.head()"
   ],
   "id": "70b0545d49bd7165",
   "outputs": [
    {
     "data": {
      "text/plain": [
       "      Phage_ID  Length  GC_content      Taxonomy    Completeness  \\\n",
       "0     J02448.1    6407   40.939597    Inoviridae    High-quality   \n",
       "1     M14428.1    5386   44.337170           NaN  Medium-quality   \n",
       "2   AF059243.1    4248   50.823917     Riboviria    High-quality   \n",
       "3   AF227250.1    3486   46.528973     Riboviria    High-quality   \n",
       "4  NC_001330.1    6087   45.178249  Microviridae    High-quality   \n",
       "\n",
       "                 Host Lifestyle         Cluster         Subcluster  \\\n",
       "0    Escherichia coli  virulent  cluster_269726  subcluster_338485   \n",
       "1  Escherichia coli C  virulent   cluster_24186   subcluster_30301   \n",
       "2  Enterobacteriaceae  virulent   cluster_39628   subcluster_49796   \n",
       "3    Escherichia coli  virulent   cluster_68527   subcluster_86649   \n",
       "4    Escherichia coli  virulent  cluster_158413  subcluster_199459   \n",
       "\n",
       "  Phage_source  \n",
       "0      Genbank  \n",
       "1      Genbank  \n",
       "2      Genbank  \n",
       "3      Genbank  \n",
       "4       RefSeq  "
      ],
      "text/html": [
       "<div>\n",
       "<style scoped>\n",
       "    .dataframe tbody tr th:only-of-type {\n",
       "        vertical-align: middle;\n",
       "    }\n",
       "\n",
       "    .dataframe tbody tr th {\n",
       "        vertical-align: top;\n",
       "    }\n",
       "\n",
       "    .dataframe thead th {\n",
       "        text-align: right;\n",
       "    }\n",
       "</style>\n",
       "<table border=\"1\" class=\"dataframe\">\n",
       "  <thead>\n",
       "    <tr style=\"text-align: right;\">\n",
       "      <th></th>\n",
       "      <th>Phage_ID</th>\n",
       "      <th>Length</th>\n",
       "      <th>GC_content</th>\n",
       "      <th>Taxonomy</th>\n",
       "      <th>Completeness</th>\n",
       "      <th>Host</th>\n",
       "      <th>Lifestyle</th>\n",
       "      <th>Cluster</th>\n",
       "      <th>Subcluster</th>\n",
       "      <th>Phage_source</th>\n",
       "    </tr>\n",
       "  </thead>\n",
       "  <tbody>\n",
       "    <tr>\n",
       "      <th>0</th>\n",
       "      <td>J02448.1</td>\n",
       "      <td>6407</td>\n",
       "      <td>40.939597</td>\n",
       "      <td>Inoviridae</td>\n",
       "      <td>High-quality</td>\n",
       "      <td>Escherichia coli</td>\n",
       "      <td>virulent</td>\n",
       "      <td>cluster_269726</td>\n",
       "      <td>subcluster_338485</td>\n",
       "      <td>Genbank</td>\n",
       "    </tr>\n",
       "    <tr>\n",
       "      <th>1</th>\n",
       "      <td>M14428.1</td>\n",
       "      <td>5386</td>\n",
       "      <td>44.337170</td>\n",
       "      <td>NaN</td>\n",
       "      <td>Medium-quality</td>\n",
       "      <td>Escherichia coli C</td>\n",
       "      <td>virulent</td>\n",
       "      <td>cluster_24186</td>\n",
       "      <td>subcluster_30301</td>\n",
       "      <td>Genbank</td>\n",
       "    </tr>\n",
       "    <tr>\n",
       "      <th>2</th>\n",
       "      <td>AF059243.1</td>\n",
       "      <td>4248</td>\n",
       "      <td>50.823917</td>\n",
       "      <td>Riboviria</td>\n",
       "      <td>High-quality</td>\n",
       "      <td>Enterobacteriaceae</td>\n",
       "      <td>virulent</td>\n",
       "      <td>cluster_39628</td>\n",
       "      <td>subcluster_49796</td>\n",
       "      <td>Genbank</td>\n",
       "    </tr>\n",
       "    <tr>\n",
       "      <th>3</th>\n",
       "      <td>AF227250.1</td>\n",
       "      <td>3486</td>\n",
       "      <td>46.528973</td>\n",
       "      <td>Riboviria</td>\n",
       "      <td>High-quality</td>\n",
       "      <td>Escherichia coli</td>\n",
       "      <td>virulent</td>\n",
       "      <td>cluster_68527</td>\n",
       "      <td>subcluster_86649</td>\n",
       "      <td>Genbank</td>\n",
       "    </tr>\n",
       "    <tr>\n",
       "      <th>4</th>\n",
       "      <td>NC_001330.1</td>\n",
       "      <td>6087</td>\n",
       "      <td>45.178249</td>\n",
       "      <td>Microviridae</td>\n",
       "      <td>High-quality</td>\n",
       "      <td>Escherichia coli</td>\n",
       "      <td>virulent</td>\n",
       "      <td>cluster_158413</td>\n",
       "      <td>subcluster_199459</td>\n",
       "      <td>RefSeq</td>\n",
       "    </tr>\n",
       "  </tbody>\n",
       "</table>\n",
       "</div>"
      ]
     },
     "execution_count": 2,
     "metadata": {},
     "output_type": "execute_result"
    }
   ],
   "execution_count": 2
  },
  {
   "metadata": {
    "ExecuteTime": {
     "end_time": "2025-07-17T20:13:44.424088Z",
     "start_time": "2025-07-17T20:13:44.409577Z"
    }
   },
   "cell_type": "code",
   "source": "meta_phage_scope_df.shape[0]",
   "id": "f2ad08a2a837e393",
   "outputs": [
    {
     "data": {
      "text/plain": [
       "441637"
      ]
     },
     "execution_count": 3,
     "metadata": {},
     "output_type": "execute_result"
    }
   ],
   "execution_count": 3
  },
  {
   "metadata": {
    "ExecuteTime": {
     "end_time": "2025-07-17T20:13:44.564106Z",
     "start_time": "2025-07-17T20:13:44.534109Z"
    }
   },
   "cell_type": "code",
   "source": "meta_phage_scope_df.Lifestyle.value_counts()",
   "id": "eedeba21d3f65e5d",
   "outputs": [
    {
     "data": {
      "text/plain": [
       "Lifestyle\n",
       "virulent     268879\n",
       "temperate    172758\n",
       "Name: count, dtype: int64"
      ]
     },
     "execution_count": 4,
     "metadata": {},
     "output_type": "execute_result"
    }
   ],
   "execution_count": 4
  },
  {
   "metadata": {
    "ExecuteTime": {
     "end_time": "2025-07-17T20:13:46.852488Z",
     "start_time": "2025-07-17T20:13:46.763476Z"
    }
   },
   "cell_type": "code",
   "source": "meta_phage_scope_df[meta_phage_scope_df['Phage_ID'].str.contains('TemPhD_cluster', na=False)].Lifestyle.value_counts()",
   "id": "885f152a877eec30",
   "outputs": [
    {
     "data": {
      "text/plain": [
       "Lifestyle\n",
       "temperate    66823\n",
       "Name: count, dtype: int64"
      ]
     },
     "execution_count": 5,
     "metadata": {},
     "output_type": "execute_result"
    }
   ],
   "execution_count": 5
  },
  {
   "metadata": {
    "ExecuteTime": {
     "end_time": "2025-07-17T23:13:23.787259Z",
     "start_time": "2025-07-17T23:13:23.773254Z"
    }
   },
   "cell_type": "code",
   "source": "meta_phage_scope_df.Completeness.shape[0]",
   "id": "5c68812835fa4660",
   "outputs": [
    {
     "data": {
      "text/plain": [
       "441637"
      ]
     },
     "execution_count": 14,
     "metadata": {},
     "output_type": "execute_result"
    }
   ],
   "execution_count": 14
  },
  {
   "metadata": {
    "ExecuteTime": {
     "end_time": "2025-07-17T20:29:47.103190Z",
     "start_time": "2025-07-17T20:29:47.071501Z"
    }
   },
   "cell_type": "code",
   "source": "meta_phage_scope_df.Completeness.value_counts()",
   "id": "c28c2a49f79d6791",
   "outputs": [
    {
     "data": {
      "text/plain": [
       "Completeness\n",
       "Medium-quality    162196\n",
       "High-quality      135684\n",
       "Low-quality        90048\n",
       "Complete           39133\n",
       "Not-determined     14576\n",
       "Name: count, dtype: int64"
      ]
     },
     "execution_count": 7,
     "metadata": {},
     "output_type": "execute_result"
    }
   ],
   "execution_count": 7
  },
  {
   "metadata": {
    "ExecuteTime": {
     "end_time": "2025-07-17T23:42:39.861977Z",
     "start_time": "2025-07-17T23:42:39.832975Z"
    }
   },
   "cell_type": "code",
   "source": "meta_phage_scope_df.Lifestyle.value_counts()",
   "id": "5163397e222e8898",
   "outputs": [
    {
     "data": {
      "text/plain": [
       "Lifestyle\n",
       "virulent     268879\n",
       "temperate    172758\n",
       "Name: count, dtype: int64"
      ]
     },
     "execution_count": 15,
     "metadata": {},
     "output_type": "execute_result"
    }
   ],
   "execution_count": 15
  },
  {
   "metadata": {
    "ExecuteTime": {
     "end_time": "2025-07-17T23:44:08.526711Z",
     "start_time": "2025-07-17T23:44:08.483712Z"
    }
   },
   "cell_type": "code",
   "source": [
    "good_meta_phage_scope_df = meta_phage_scope_df[(meta_phage_scope_df['Completeness'] == 'Complete')]\n",
    "good_meta_phage_scope_df.shape[0]"
   ],
   "id": "4fc8fc3ac80dec6b",
   "outputs": [
    {
     "data": {
      "text/plain": [
       "39133"
      ]
     },
     "execution_count": 16,
     "metadata": {},
     "output_type": "execute_result"
    }
   ],
   "execution_count": 16
  },
  {
   "metadata": {
    "ExecuteTime": {
     "end_time": "2025-07-17T23:44:09.417024Z",
     "start_time": "2025-07-17T23:44:09.406025Z"
    }
   },
   "cell_type": "code",
   "source": "good_meta_phage_scope_df.Lifestyle.value_counts()",
   "id": "6e7f73b929c0492f",
   "outputs": [
    {
     "data": {
      "text/plain": [
       "Lifestyle\n",
       "virulent     28308\n",
       "temperate    10825\n",
       "Name: count, dtype: int64"
      ]
     },
     "execution_count": 17,
     "metadata": {},
     "output_type": "execute_result"
    }
   ],
   "execution_count": 17
  },
  {
   "metadata": {
    "ExecuteTime": {
     "end_time": "2025-07-17T20:32:14.210856Z",
     "start_time": "2025-07-17T20:32:14.195850Z"
    }
   },
   "cell_type": "code",
   "source": "good_meta_phage_scope_df.sample(10)",
   "id": "4ddc41038f1119ba",
   "outputs": [
    {
     "data": {
      "text/plain": [
       "                    Phage_ID  Length  GC_content      Taxonomy  Completeness  \\\n",
       "27814             uvig_60382   40999   45.923071  Caudovirales      Complete   \n",
       "322442    MGV-GENOME-0377918  173349   29.058143  Caudovirales  High-quality   \n",
       "432686  TemPhD_cluster_62083   36282   45.951160  Caudovirales  High-quality   \n",
       "439525   TemPhD_cluster_8098   33524   52.076125  Caudovirales  High-quality   \n",
       "326009    MGV-GENOME-0065188   12849   36.461981           NaN  High-quality   \n",
       "217773    MGV-GENOME-0344213   69992   48.498400  Caudovirales  High-quality   \n",
       "438262   TemPhD_cluster_6961   40801   39.773535  Caudovirales  High-quality   \n",
       "367244    MGV-GENOME-0258340   37048   58.939754  Caudovirales  High-quality   \n",
       "117652           uvig_425260   43650   41.001145  Caudovirales  High-quality   \n",
       "303961    MGV-GENOME-0221409   31794   42.778512  Caudovirales  High-quality   \n",
       "\n",
       "                                                     Host  Lifestyle  \\\n",
       "27814                               Ruminococcus callidus  temperate   \n",
       "322442                                         Prevotella   virulent   \n",
       "432686                             Yersinia frederiksenii  temperate   \n",
       "439525                                Salmonella enterica  temperate   \n",
       "326009                           Ruminococcus bicirculans   virulent   \n",
       "217773                                     Bacteroidaceae   virulent   \n",
       "438262                             Streptococcus pyogenes  temperate   \n",
       "367244                       Faecalibacterium prausnitzii   virulent   \n",
       "117652  Bacteroides B massiliensis;Odoribacter splanch...   virulent   \n",
       "303961                                    Lachnospiraceae   virulent   \n",
       "\n",
       "               Cluster         Subcluster Phage_source  \n",
       "27814   cluster_281766  subcluster_353942          GPD  \n",
       "322442   cluster_48218   subcluster_60636          MGV  \n",
       "432686  cluster_281408  subcluster_353465       TemPhD  \n",
       "439525   cluster_56879   subcluster_71691       TemPhD  \n",
       "326009  cluster_115905  subcluster_146076          MGV  \n",
       "217773   cluster_69058   subcluster_87246          MGV  \n",
       "438262  cluster_249325  subcluster_313237       TemPhD  \n",
       "367244  cluster_242934  subcluster_305423          MGV  \n",
       "117652   cluster_39827   subcluster_50030          GPD  \n",
       "303961  cluster_156390  subcluster_196736          MGV  "
      ],
      "text/html": [
       "<div>\n",
       "<style scoped>\n",
       "    .dataframe tbody tr th:only-of-type {\n",
       "        vertical-align: middle;\n",
       "    }\n",
       "\n",
       "    .dataframe tbody tr th {\n",
       "        vertical-align: top;\n",
       "    }\n",
       "\n",
       "    .dataframe thead th {\n",
       "        text-align: right;\n",
       "    }\n",
       "</style>\n",
       "<table border=\"1\" class=\"dataframe\">\n",
       "  <thead>\n",
       "    <tr style=\"text-align: right;\">\n",
       "      <th></th>\n",
       "      <th>Phage_ID</th>\n",
       "      <th>Length</th>\n",
       "      <th>GC_content</th>\n",
       "      <th>Taxonomy</th>\n",
       "      <th>Completeness</th>\n",
       "      <th>Host</th>\n",
       "      <th>Lifestyle</th>\n",
       "      <th>Cluster</th>\n",
       "      <th>Subcluster</th>\n",
       "      <th>Phage_source</th>\n",
       "    </tr>\n",
       "  </thead>\n",
       "  <tbody>\n",
       "    <tr>\n",
       "      <th>27814</th>\n",
       "      <td>uvig_60382</td>\n",
       "      <td>40999</td>\n",
       "      <td>45.923071</td>\n",
       "      <td>Caudovirales</td>\n",
       "      <td>Complete</td>\n",
       "      <td>Ruminococcus callidus</td>\n",
       "      <td>temperate</td>\n",
       "      <td>cluster_281766</td>\n",
       "      <td>subcluster_353942</td>\n",
       "      <td>GPD</td>\n",
       "    </tr>\n",
       "    <tr>\n",
       "      <th>322442</th>\n",
       "      <td>MGV-GENOME-0377918</td>\n",
       "      <td>173349</td>\n",
       "      <td>29.058143</td>\n",
       "      <td>Caudovirales</td>\n",
       "      <td>High-quality</td>\n",
       "      <td>Prevotella</td>\n",
       "      <td>virulent</td>\n",
       "      <td>cluster_48218</td>\n",
       "      <td>subcluster_60636</td>\n",
       "      <td>MGV</td>\n",
       "    </tr>\n",
       "    <tr>\n",
       "      <th>432686</th>\n",
       "      <td>TemPhD_cluster_62083</td>\n",
       "      <td>36282</td>\n",
       "      <td>45.951160</td>\n",
       "      <td>Caudovirales</td>\n",
       "      <td>High-quality</td>\n",
       "      <td>Yersinia frederiksenii</td>\n",
       "      <td>temperate</td>\n",
       "      <td>cluster_281408</td>\n",
       "      <td>subcluster_353465</td>\n",
       "      <td>TemPhD</td>\n",
       "    </tr>\n",
       "    <tr>\n",
       "      <th>439525</th>\n",
       "      <td>TemPhD_cluster_8098</td>\n",
       "      <td>33524</td>\n",
       "      <td>52.076125</td>\n",
       "      <td>Caudovirales</td>\n",
       "      <td>High-quality</td>\n",
       "      <td>Salmonella enterica</td>\n",
       "      <td>temperate</td>\n",
       "      <td>cluster_56879</td>\n",
       "      <td>subcluster_71691</td>\n",
       "      <td>TemPhD</td>\n",
       "    </tr>\n",
       "    <tr>\n",
       "      <th>326009</th>\n",
       "      <td>MGV-GENOME-0065188</td>\n",
       "      <td>12849</td>\n",
       "      <td>36.461981</td>\n",
       "      <td>NaN</td>\n",
       "      <td>High-quality</td>\n",
       "      <td>Ruminococcus bicirculans</td>\n",
       "      <td>virulent</td>\n",
       "      <td>cluster_115905</td>\n",
       "      <td>subcluster_146076</td>\n",
       "      <td>MGV</td>\n",
       "    </tr>\n",
       "    <tr>\n",
       "      <th>217773</th>\n",
       "      <td>MGV-GENOME-0344213</td>\n",
       "      <td>69992</td>\n",
       "      <td>48.498400</td>\n",
       "      <td>Caudovirales</td>\n",
       "      <td>High-quality</td>\n",
       "      <td>Bacteroidaceae</td>\n",
       "      <td>virulent</td>\n",
       "      <td>cluster_69058</td>\n",
       "      <td>subcluster_87246</td>\n",
       "      <td>MGV</td>\n",
       "    </tr>\n",
       "    <tr>\n",
       "      <th>438262</th>\n",
       "      <td>TemPhD_cluster_6961</td>\n",
       "      <td>40801</td>\n",
       "      <td>39.773535</td>\n",
       "      <td>Caudovirales</td>\n",
       "      <td>High-quality</td>\n",
       "      <td>Streptococcus pyogenes</td>\n",
       "      <td>temperate</td>\n",
       "      <td>cluster_249325</td>\n",
       "      <td>subcluster_313237</td>\n",
       "      <td>TemPhD</td>\n",
       "    </tr>\n",
       "    <tr>\n",
       "      <th>367244</th>\n",
       "      <td>MGV-GENOME-0258340</td>\n",
       "      <td>37048</td>\n",
       "      <td>58.939754</td>\n",
       "      <td>Caudovirales</td>\n",
       "      <td>High-quality</td>\n",
       "      <td>Faecalibacterium prausnitzii</td>\n",
       "      <td>virulent</td>\n",
       "      <td>cluster_242934</td>\n",
       "      <td>subcluster_305423</td>\n",
       "      <td>MGV</td>\n",
       "    </tr>\n",
       "    <tr>\n",
       "      <th>117652</th>\n",
       "      <td>uvig_425260</td>\n",
       "      <td>43650</td>\n",
       "      <td>41.001145</td>\n",
       "      <td>Caudovirales</td>\n",
       "      <td>High-quality</td>\n",
       "      <td>Bacteroides B massiliensis;Odoribacter splanch...</td>\n",
       "      <td>virulent</td>\n",
       "      <td>cluster_39827</td>\n",
       "      <td>subcluster_50030</td>\n",
       "      <td>GPD</td>\n",
       "    </tr>\n",
       "    <tr>\n",
       "      <th>303961</th>\n",
       "      <td>MGV-GENOME-0221409</td>\n",
       "      <td>31794</td>\n",
       "      <td>42.778512</td>\n",
       "      <td>Caudovirales</td>\n",
       "      <td>High-quality</td>\n",
       "      <td>Lachnospiraceae</td>\n",
       "      <td>virulent</td>\n",
       "      <td>cluster_156390</td>\n",
       "      <td>subcluster_196736</td>\n",
       "      <td>MGV</td>\n",
       "    </tr>\n",
       "  </tbody>\n",
       "</table>\n",
       "</div>"
      ]
     },
     "execution_count": 13,
     "metadata": {},
     "output_type": "execute_result"
    }
   ],
   "execution_count": 13
  },
  {
   "metadata": {},
   "cell_type": "markdown",
   "source": "# My Dataset",
   "id": "894bfc6d6b7c3660"
  },
  {
   "metadata": {
    "ExecuteTime": {
     "end_time": "2025-07-16T16:17:57.551638Z",
     "start_time": "2025-07-16T16:17:57.490800Z"
    }
   },
   "cell_type": "code",
   "source": [
    "my_meta_df = pd.read_csv(\"E:\\master\\\\final_project\\data\\my_data\\\\aggregated_deephage_deeppl_data\\combined_ds.csv\")\n",
    "my_meta_df.head()"
   ],
   "id": "5c56166175a38707",
   "outputs": [
    {
     "data": {
      "text/plain": [
       "  accession_number lifecycle_deephage note_deephage source_deephage  \\\n",
       "0         AF020713                NaN           NaN             NaN   \n",
       "1         AF069308                NaN           NaN             NaN   \n",
       "2         AF069529                NaN           NaN             NaN   \n",
       "3         AF074945                NaN           NaN             NaN   \n",
       "4         AF109874                NaN           NaN             NaN   \n",
       "\n",
       "  lifecycle_deep_pl note_deep_pl source_deep_pl      _merge is_valid  \\\n",
       "0         Lysogenic         Test        deep_pl  right_only    valid   \n",
       "1         Lysogenic         Test        deep_pl  right_only    valid   \n",
       "2         Lysogenic         Test        deep_pl  right_only    valid   \n",
       "3         Lysogenic         Test        deep_pl  right_only    valid   \n",
       "4         Lysogenic         Test        deep_pl  right_only    valid   \n",
       "\n",
       "       label  \n",
       "0  Lysogenic  \n",
       "1  Lysogenic  \n",
       "2  Lysogenic  \n",
       "3  Lysogenic  \n",
       "4  Lysogenic  "
      ],
      "text/html": [
       "<div>\n",
       "<style scoped>\n",
       "    .dataframe tbody tr th:only-of-type {\n",
       "        vertical-align: middle;\n",
       "    }\n",
       "\n",
       "    .dataframe tbody tr th {\n",
       "        vertical-align: top;\n",
       "    }\n",
       "\n",
       "    .dataframe thead th {\n",
       "        text-align: right;\n",
       "    }\n",
       "</style>\n",
       "<table border=\"1\" class=\"dataframe\">\n",
       "  <thead>\n",
       "    <tr style=\"text-align: right;\">\n",
       "      <th></th>\n",
       "      <th>accession_number</th>\n",
       "      <th>lifecycle_deephage</th>\n",
       "      <th>note_deephage</th>\n",
       "      <th>source_deephage</th>\n",
       "      <th>lifecycle_deep_pl</th>\n",
       "      <th>note_deep_pl</th>\n",
       "      <th>source_deep_pl</th>\n",
       "      <th>_merge</th>\n",
       "      <th>is_valid</th>\n",
       "      <th>label</th>\n",
       "    </tr>\n",
       "  </thead>\n",
       "  <tbody>\n",
       "    <tr>\n",
       "      <th>0</th>\n",
       "      <td>AF020713</td>\n",
       "      <td>NaN</td>\n",
       "      <td>NaN</td>\n",
       "      <td>NaN</td>\n",
       "      <td>Lysogenic</td>\n",
       "      <td>Test</td>\n",
       "      <td>deep_pl</td>\n",
       "      <td>right_only</td>\n",
       "      <td>valid</td>\n",
       "      <td>Lysogenic</td>\n",
       "    </tr>\n",
       "    <tr>\n",
       "      <th>1</th>\n",
       "      <td>AF069308</td>\n",
       "      <td>NaN</td>\n",
       "      <td>NaN</td>\n",
       "      <td>NaN</td>\n",
       "      <td>Lysogenic</td>\n",
       "      <td>Test</td>\n",
       "      <td>deep_pl</td>\n",
       "      <td>right_only</td>\n",
       "      <td>valid</td>\n",
       "      <td>Lysogenic</td>\n",
       "    </tr>\n",
       "    <tr>\n",
       "      <th>2</th>\n",
       "      <td>AF069529</td>\n",
       "      <td>NaN</td>\n",
       "      <td>NaN</td>\n",
       "      <td>NaN</td>\n",
       "      <td>Lysogenic</td>\n",
       "      <td>Test</td>\n",
       "      <td>deep_pl</td>\n",
       "      <td>right_only</td>\n",
       "      <td>valid</td>\n",
       "      <td>Lysogenic</td>\n",
       "    </tr>\n",
       "    <tr>\n",
       "      <th>3</th>\n",
       "      <td>AF074945</td>\n",
       "      <td>NaN</td>\n",
       "      <td>NaN</td>\n",
       "      <td>NaN</td>\n",
       "      <td>Lysogenic</td>\n",
       "      <td>Test</td>\n",
       "      <td>deep_pl</td>\n",
       "      <td>right_only</td>\n",
       "      <td>valid</td>\n",
       "      <td>Lysogenic</td>\n",
       "    </tr>\n",
       "    <tr>\n",
       "      <th>4</th>\n",
       "      <td>AF109874</td>\n",
       "      <td>NaN</td>\n",
       "      <td>NaN</td>\n",
       "      <td>NaN</td>\n",
       "      <td>Lysogenic</td>\n",
       "      <td>Test</td>\n",
       "      <td>deep_pl</td>\n",
       "      <td>right_only</td>\n",
       "      <td>valid</td>\n",
       "      <td>Lysogenic</td>\n",
       "    </tr>\n",
       "  </tbody>\n",
       "</table>\n",
       "</div>"
      ]
     },
     "execution_count": 6,
     "metadata": {},
     "output_type": "execute_result"
    }
   ],
   "execution_count": 6
  },
  {
   "metadata": {
    "ExecuteTime": {
     "end_time": "2025-07-16T16:18:14.363214Z",
     "start_time": "2025-07-16T16:18:14.355217Z"
    }
   },
   "cell_type": "code",
   "source": "my_meta_df.shape[0]",
   "id": "6cd5ed9ebf4ddb53",
   "outputs": [
    {
     "data": {
      "text/plain": [
       "2242"
      ]
     },
     "execution_count": 8,
     "metadata": {},
     "output_type": "execute_result"
    }
   ],
   "execution_count": 8
  },
  {
   "metadata": {},
   "cell_type": "markdown",
   "source": "# Manipulation",
   "id": "b584619f88c5e34d"
  },
  {
   "metadata": {
    "ExecuteTime": {
     "end_time": "2025-07-16T16:22:24.169069Z",
     "start_time": "2025-07-16T16:22:24.156066Z"
    }
   },
   "cell_type": "code",
   "source": "good_meta_phage_scope_df[good_meta_phage_scope_df['Phage_ID'] == my_meta_df['accession_number'][0]]",
   "id": "d3c601ce9919152c",
   "outputs": [
    {
     "data": {
      "text/plain": [
       "Empty DataFrame\n",
       "Columns: [Phage_ID, Length, GC_content, Taxonomy, Completeness, Host, Lifestyle, Cluster, Subcluster, Phage_source]\n",
       "Index: []"
      ],
      "text/html": [
       "<div>\n",
       "<style scoped>\n",
       "    .dataframe tbody tr th:only-of-type {\n",
       "        vertical-align: middle;\n",
       "    }\n",
       "\n",
       "    .dataframe tbody tr th {\n",
       "        vertical-align: top;\n",
       "    }\n",
       "\n",
       "    .dataframe thead th {\n",
       "        text-align: right;\n",
       "    }\n",
       "</style>\n",
       "<table border=\"1\" class=\"dataframe\">\n",
       "  <thead>\n",
       "    <tr style=\"text-align: right;\">\n",
       "      <th></th>\n",
       "      <th>Phage_ID</th>\n",
       "      <th>Length</th>\n",
       "      <th>GC_content</th>\n",
       "      <th>Taxonomy</th>\n",
       "      <th>Completeness</th>\n",
       "      <th>Host</th>\n",
       "      <th>Lifestyle</th>\n",
       "      <th>Cluster</th>\n",
       "      <th>Subcluster</th>\n",
       "      <th>Phage_source</th>\n",
       "    </tr>\n",
       "  </thead>\n",
       "  <tbody>\n",
       "  </tbody>\n",
       "</table>\n",
       "</div>"
      ]
     },
     "execution_count": 12,
     "metadata": {},
     "output_type": "execute_result"
    }
   ],
   "execution_count": 12
  },
  {
   "metadata": {
    "ExecuteTime": {
     "end_time": "2025-07-16T16:41:09.869058Z",
     "start_time": "2025-07-16T16:41:09.795838Z"
    }
   },
   "cell_type": "code",
   "source": "meta_phage_scope_df[meta_phage_scope_df['Phage_ID'].str.contains('TempPhD_cluster_1', na=False)]",
   "id": "79a0c602c710041",
   "outputs": [
    {
     "data": {
      "text/plain": [
       "Empty DataFrame\n",
       "Columns: [Phage_ID, Length, GC_content, Taxonomy, Completeness, Host, Lifestyle, Cluster, Subcluster, Phage_source]\n",
       "Index: []"
      ],
      "text/html": [
       "<div>\n",
       "<style scoped>\n",
       "    .dataframe tbody tr th:only-of-type {\n",
       "        vertical-align: middle;\n",
       "    }\n",
       "\n",
       "    .dataframe tbody tr th {\n",
       "        vertical-align: top;\n",
       "    }\n",
       "\n",
       "    .dataframe thead th {\n",
       "        text-align: right;\n",
       "    }\n",
       "</style>\n",
       "<table border=\"1\" class=\"dataframe\">\n",
       "  <thead>\n",
       "    <tr style=\"text-align: right;\">\n",
       "      <th></th>\n",
       "      <th>Phage_ID</th>\n",
       "      <th>Length</th>\n",
       "      <th>GC_content</th>\n",
       "      <th>Taxonomy</th>\n",
       "      <th>Completeness</th>\n",
       "      <th>Host</th>\n",
       "      <th>Lifestyle</th>\n",
       "      <th>Cluster</th>\n",
       "      <th>Subcluster</th>\n",
       "      <th>Phage_source</th>\n",
       "    </tr>\n",
       "  </thead>\n",
       "  <tbody>\n",
       "  </tbody>\n",
       "</table>\n",
       "</div>"
      ]
     },
     "execution_count": 27,
     "metadata": {},
     "output_type": "execute_result"
    }
   ],
   "execution_count": 27
  },
  {
   "metadata": {},
   "cell_type": "markdown",
   "source": "# SeqIO",
   "id": "5f7b0e2aeba18547"
  },
  {
   "metadata": {
    "ExecuteTime": {
     "end_time": "2025-07-16T17:00:48.112631Z",
     "start_time": "2025-07-16T16:49:53.339652Z"
    }
   },
   "cell_type": "code",
   "source": [
    "from Bio import SeqIO\n",
    "\n",
    "phage_scope_dir = \"E:\\master\\\\final_project\\data\\phage_scope\"\n",
    "good_phage_ids = good_meta_phage_scope_df.Phage_ID.values\n",
    "sequences = []\n",
    "labels = []\n",
    "for folder in os.listdir(phage_scope_dir):\n",
    "    if os.path.isdir(os.path.join(phage_scope_dir, folder)):\n",
    "        folder_path = os.path.join(phage_scope_dir, folder)\n",
    "        for file in os.listdir(folder_path):\n",
    "            file_path = os.path.join(folder_path, file)\n",
    "            with open(file_path, 'r') as f:\n",
    "                for record in SeqIO.parse(f, 'fasta'):\n",
    "                    if record.id in good_phage_ids:\n",
    "                        sequences.append(record.seq)\n",
    "                        labels.append(record.id)"
   ],
   "id": "1f5edbe722069c0",
   "outputs": [
    {
     "ename": "KeyboardInterrupt",
     "evalue": "",
     "output_type": "error",
     "traceback": [
      "\u001B[1;31m---------------------------------------------------------------------------\u001B[0m",
      "\u001B[1;31mKeyboardInterrupt\u001B[0m                         Traceback (most recent call last)",
      "Cell \u001B[1;32mIn[43], line 12\u001B[0m\n\u001B[0;32m     10\u001B[0m \u001B[38;5;28;01mfor\u001B[39;00m file \u001B[38;5;129;01min\u001B[39;00m os\u001B[38;5;241m.\u001B[39mlistdir(folder_path):\n\u001B[0;32m     11\u001B[0m     file_path \u001B[38;5;241m=\u001B[39m os\u001B[38;5;241m.\u001B[39mpath\u001B[38;5;241m.\u001B[39mjoin(folder_path, file)\n\u001B[1;32m---> 12\u001B[0m     \u001B[38;5;28;01mwith\u001B[39;00m \u001B[38;5;28;43mopen\u001B[39;49m\u001B[43m(\u001B[49m\u001B[43mfile_path\u001B[49m\u001B[43m,\u001B[49m\u001B[43m \u001B[49m\u001B[38;5;124;43m'\u001B[39;49m\u001B[38;5;124;43mr\u001B[39;49m\u001B[38;5;124;43m'\u001B[39;49m\u001B[43m)\u001B[49m \u001B[38;5;28;01mas\u001B[39;00m f:\n\u001B[0;32m     13\u001B[0m         \u001B[38;5;28;01mfor\u001B[39;00m record \u001B[38;5;129;01min\u001B[39;00m SeqIO\u001B[38;5;241m.\u001B[39mparse(f, \u001B[38;5;124m'\u001B[39m\u001B[38;5;124mfasta\u001B[39m\u001B[38;5;124m'\u001B[39m):\n\u001B[0;32m     14\u001B[0m             \u001B[38;5;28;01mif\u001B[39;00m record\u001B[38;5;241m.\u001B[39mid \u001B[38;5;129;01min\u001B[39;00m  good_phage_ids:\n",
      "File \u001B[1;32m~\\miniconda3\\envs\\dnabert\\lib\\site-packages\\IPython\\core\\interactiveshell.py:310\u001B[0m, in \u001B[0;36m_modified_open\u001B[1;34m(file, *args, **kwargs)\u001B[0m\n\u001B[0;32m    303\u001B[0m \u001B[38;5;28;01mif\u001B[39;00m file \u001B[38;5;129;01min\u001B[39;00m {\u001B[38;5;241m0\u001B[39m, \u001B[38;5;241m1\u001B[39m, \u001B[38;5;241m2\u001B[39m}:\n\u001B[0;32m    304\u001B[0m     \u001B[38;5;28;01mraise\u001B[39;00m \u001B[38;5;167;01mValueError\u001B[39;00m(\n\u001B[0;32m    305\u001B[0m         \u001B[38;5;124mf\u001B[39m\u001B[38;5;124m\"\u001B[39m\u001B[38;5;124mIPython won\u001B[39m\u001B[38;5;124m'\u001B[39m\u001B[38;5;124mt let you open fd=\u001B[39m\u001B[38;5;132;01m{\u001B[39;00mfile\u001B[38;5;132;01m}\u001B[39;00m\u001B[38;5;124m by default \u001B[39m\u001B[38;5;124m\"\u001B[39m\n\u001B[0;32m    306\u001B[0m         \u001B[38;5;124m\"\u001B[39m\u001B[38;5;124mas it is likely to crash IPython. If you know what you are doing, \u001B[39m\u001B[38;5;124m\"\u001B[39m\n\u001B[0;32m    307\u001B[0m         \u001B[38;5;124m\"\u001B[39m\u001B[38;5;124myou can use builtins\u001B[39m\u001B[38;5;124m'\u001B[39m\u001B[38;5;124m open.\u001B[39m\u001B[38;5;124m\"\u001B[39m\n\u001B[0;32m    308\u001B[0m     )\n\u001B[1;32m--> 310\u001B[0m \u001B[38;5;28;01mreturn\u001B[39;00m io_open(file, \u001B[38;5;241m*\u001B[39margs, \u001B[38;5;241m*\u001B[39m\u001B[38;5;241m*\u001B[39mkwargs)\n",
      "File \u001B[1;32m~\\miniconda3\\envs\\dnabert\\lib\\_bootlocale.py:11\u001B[0m, in \u001B[0;36mgetpreferredencoding\u001B[1;34m(do_setlocale)\u001B[0m\n\u001B[0;32m      8\u001B[0m \u001B[38;5;28;01mimport\u001B[39;00m\u001B[38;5;250m \u001B[39m\u001B[38;5;21;01m_locale\u001B[39;00m\n\u001B[0;32m     10\u001B[0m \u001B[38;5;28;01mif\u001B[39;00m sys\u001B[38;5;241m.\u001B[39mplatform\u001B[38;5;241m.\u001B[39mstartswith(\u001B[38;5;124m\"\u001B[39m\u001B[38;5;124mwin\u001B[39m\u001B[38;5;124m\"\u001B[39m):\n\u001B[1;32m---> 11\u001B[0m     \u001B[38;5;28;01mdef\u001B[39;00m\u001B[38;5;250m \u001B[39m\u001B[38;5;21mgetpreferredencoding\u001B[39m(do_setlocale\u001B[38;5;241m=\u001B[39m\u001B[38;5;28;01mTrue\u001B[39;00m):\n\u001B[0;32m     12\u001B[0m         \u001B[38;5;28;01mif\u001B[39;00m sys\u001B[38;5;241m.\u001B[39mflags\u001B[38;5;241m.\u001B[39mutf8_mode:\n\u001B[0;32m     13\u001B[0m             \u001B[38;5;28;01mreturn\u001B[39;00m \u001B[38;5;124m'\u001B[39m\u001B[38;5;124mUTF-8\u001B[39m\u001B[38;5;124m'\u001B[39m\n",
      "\u001B[1;31mKeyboardInterrupt\u001B[0m: "
     ]
    }
   ],
   "execution_count": 43
  },
  {
   "metadata": {
    "jupyter": {
     "is_executing": true
    },
    "ExecuteTime": {
     "start_time": "2025-07-16T17:05:06.254858Z"
    }
   },
   "cell_type": "code",
   "source": [
    "from Bio.Seq import Seq\n",
    "from Bio.SeqRecord import SeqRecord\n",
    "# Cell 1: Imports and setup\n",
    "from Bio import SeqIO\n",
    "import os\n",
    "from pathlib import Path\n",
    "from concurrent.futures import ThreadPoolExecutor\n",
    "from tqdm import tqdm\n",
    "import time\n",
    "\n",
    "\n",
    "# Cell 2: Define helper functions\n",
    "def process_fasta_file(file_path, good_phage_ids_set):\n",
    "    \"\"\"Process a single FASTA file and return matching sequences and labels.\"\"\"\n",
    "    sequences = []\n",
    "    labels = []\n",
    "\n",
    "    try:\n",
    "        with open(file_path, 'r') as f:\n",
    "            for record in SeqIO.parse(f, 'fasta'):\n",
    "                if record.id in good_phage_ids_set:\n",
    "                    sequences.append(str(record.seq))\n",
    "                    labels.append(record.id)\n",
    "    except Exception as e:\n",
    "        print(f\"Warning: Error processing file {file_path}: {e}\")\n",
    "\n",
    "    return sequences, labels\n",
    "\n",
    "\n",
    "def get_fasta_files(phage_scope_dir):\n",
    "    \"\"\"Get all FASTA files from the directory structure.\"\"\"\n",
    "    fasta_files = []\n",
    "    phage_scope_path = Path(phage_scope_dir)\n",
    "\n",
    "    for folder_path in phage_scope_path.iterdir():\n",
    "        if folder_path.is_dir():\n",
    "            for file_path in folder_path.iterdir():\n",
    "                if file_path.is_file():\n",
    "                    fasta_files.append(file_path)\n",
    "\n",
    "    return fasta_files\n",
    "\n",
    "\n",
    "# Cell 3: Main optimized function\n",
    "def load_phage_sequences_optimized(phage_scope_dir, good_phage_ids, max_workers=4, show_progress=True):\n",
    "    \"\"\"\n",
    "    Optimized version to load phage sequences with parallel processing.\n",
    "    \"\"\"\n",
    "    print(f\"Converting {len(good_phage_ids)} phage IDs to set for fast lookup...\")\n",
    "    good_phage_ids_set = set(good_phage_ids)\n",
    "\n",
    "    print(\"Scanning directory structure...\")\n",
    "    fasta_files = get_fasta_files(phage_scope_dir)\n",
    "    print(f\"Found {len(fasta_files)} files to process\")\n",
    "\n",
    "    sequences = []\n",
    "    labels = []\n",
    "\n",
    "    # Process files in parallel with progress bar\n",
    "    with ThreadPoolExecutor(max_workers=max_workers) as executor:\n",
    "        if show_progress:\n",
    "            futures = [executor.submit(process_fasta_file, file_path, good_phage_ids_set)\n",
    "                       for file_path in fasta_files]\n",
    "\n",
    "            for future in tqdm(futures, desc=\"Processing files\"):\n",
    "                file_sequences, file_labels = future.result()\n",
    "                sequences.extend(file_sequences)\n",
    "                labels.extend(file_labels)\n",
    "        else:\n",
    "            futures = [executor.submit(process_fasta_file, file_path, good_phage_ids_set)\n",
    "                       for file_path in fasta_files]\n",
    "\n",
    "            for future in futures:\n",
    "                file_sequences, file_labels = future.result()\n",
    "                sequences.extend(file_sequences)\n",
    "                labels.extend(file_labels)\n",
    "\n",
    "    return sequences, labels\n",
    "\n",
    "\n",
    "# Cell 4: Your original code (optimized)\n",
    "phage_scope_dir = r\"E:\\master\\final_project\\data\\phage_scope\"\n",
    "good_phage_ids = good_meta_phage_scope_df.Phage_ID.values\n",
    "\n",
    "# Time the execution\n",
    "start_time = time.time()\n",
    "\n",
    "# Convert to set for O(1) lookup (this is the key optimization)\n",
    "good_phage_ids_set = set(good_phage_ids)\n",
    "\n",
    "sequences = []\n",
    "labels = []\n",
    "\n",
    "# Get all files first\n",
    "all_files = []\n",
    "for folder in os.listdir(phage_scope_dir):\n",
    "    if os.path.isdir(os.path.join(phage_scope_dir, folder)):\n",
    "        folder_path = os.path.join(phage_scope_dir, folder)\n",
    "        for file in os.listdir(folder_path):\n",
    "            all_files.append(os.path.join(folder_path, file))\n",
    "\n",
    "print(f\"Processing {len(all_files)} files...\")\n",
    "\n",
    "# Process with progress bar\n",
    "for file_path in tqdm(all_files, desc=\"Processing files\"):\n",
    "    try:\n",
    "        with open(file_path, 'r') as f:\n",
    "            for record in SeqIO.parse(f, 'fasta'):\n",
    "                if record.id in good_phage_ids_set:  # O(1) lookup instead of O(n)\n",
    "                    sequences.append(str(record.seq))\n",
    "                    labels.append(record.id)\n",
    "    except Exception as e:\n",
    "        print(f\"Warning: Error processing {file_path}: {e}\")\n",
    "\n",
    "end_time = time.time()\n",
    "print(f\"\\nCompleted in {end_time - start_time:.2f} seconds\")\n",
    "print(f\"Found {len(sequences)} sequences matching your criteria\")\n",
    "\n",
    "\n",
    "def save_sequences_to_fasta_biopython(sequences, labels, output_file):\n",
    "    \"\"\"Save sequences using BioPython SeqRecord for better formatting.\"\"\"\n",
    "    records = []\n",
    "    for seq, label in zip(sequences, labels):\n",
    "        record = SeqRecord(Seq(seq), id=label)\n",
    "        records.append(record)\n",
    "\n",
    "    SeqIO.write(records, output_file, \"fasta\")\n",
    "    print(f\"Saved {len(records)} sequences to {output_file}\")\n",
    "\n",
    "\n",
    "# Use BioPython version (recommended)\n",
    "output_file_bp = r\"E:\\master\\final_project\\data\\phage_scope\\good_phage_scope.fasta\"\n",
    "save_sequences_to_fasta_biopython(sequences, labels, output_file_bp)"
   ],
   "id": "19e1dca59a05802a",
   "outputs": [
    {
     "name": "stdout",
     "output_type": "stream",
     "text": [
      "Processing 441641 files...\n"
     ]
    },
    {
     "name": "stderr",
     "output_type": "stream",
     "text": [
      "Processing files:  10%|█         | 44412/441641 [00:37<1:10:47, 93.52it/s]"
     ]
    }
   ],
   "execution_count": null
  },
  {
   "metadata": {
    "ExecuteTime": {
     "end_time": "2025-07-16T16:47:52.151388Z",
     "start_time": "2025-07-16T16:47:52.078706Z"
    }
   },
   "cell_type": "code",
   "source": "meta_phage_scope_df['Phage_ID'].str.contains('TempPhD_cluster_1', na=False)",
   "id": "89ee12cf5bd1eebd",
   "outputs": [
    {
     "data": {
      "text/plain": [
       "0         False\n",
       "1         False\n",
       "2         False\n",
       "3         False\n",
       "4         False\n",
       "          ...  \n",
       "441632    False\n",
       "441633    False\n",
       "441634    False\n",
       "441635    False\n",
       "441636    False\n",
       "Name: Phage_ID, Length: 441637, dtype: bool"
      ]
     },
     "execution_count": 40,
     "metadata": {},
     "output_type": "execute_result"
    }
   ],
   "execution_count": 40
  },
  {
   "metadata": {},
   "cell_type": "code",
   "outputs": [],
   "execution_count": null,
   "source": "",
   "id": "183987c2a3d110ca"
  }
 ],
 "metadata": {
  "kernelspec": {
   "display_name": "Python 3",
   "language": "python",
   "name": "python3"
  },
  "language_info": {
   "codemirror_mode": {
    "name": "ipython",
    "version": 2
   },
   "file_extension": ".py",
   "mimetype": "text/x-python",
   "name": "python",
   "nbconvert_exporter": "python",
   "pygments_lexer": "ipython2",
   "version": "2.7.6"
  }
 },
 "nbformat": 4,
 "nbformat_minor": 5
}
