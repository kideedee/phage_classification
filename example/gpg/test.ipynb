{
 "cells": [
  {
   "cell_type": "code",
   "id": "initial_id",
   "metadata": {
    "collapsed": true,
    "ExecuteTime": {
     "end_time": "2025-07-20T00:45:43.745789Z",
     "start_time": "2025-07-20T00:45:43.628275Z"
    }
   },
   "source": [
    "from functools import partial\n",
    "from multiprocessing import Pool\n",
    "\n",
    "import numpy as np\n",
    "from Bio import SeqIO\n",
    "\n",
    "from example.gpg.encode_seq_py import matrix_encoding"
   ],
   "outputs": [],
   "execution_count": 1
  },
  {
   "metadata": {
    "ExecuteTime": {
     "end_time": "2025-07-20T00:50:02.042888Z",
     "start_time": "2025-07-20T00:50:01.560308Z"
    }
   },
   "cell_type": "code",
   "source": [
    "dna_seq = {}\n",
    "for seq_record in SeqIO.parse(\"E:\\master\\\\final_project\\data\\my_data\\\\fasta\\\\100_400\\\\1\\\\test\\data.fa\", \"fasta\"):\n",
    "    dna_seq[seq_record.id] = seq_record.seq\n",
    "k = 3\n",
    "d = 6\n",
    "seqtype = \"DNA\""
   ],
   "id": "e63f7230a7eaba11",
   "outputs": [],
   "execution_count": 23
  },
  {
   "metadata": {
    "ExecuteTime": {
     "end_time": "2025-07-20T00:50:02.492894Z",
     "start_time": "2025-07-20T00:50:02.052886Z"
    }
   },
   "cell_type": "code",
   "source": [
    "seq_list = list(dna_seq.values())[:100]\n",
    "pool = Pool(10)\n",
    "partial_encode_seq = partial(matrix_encoding, K=k, d=d, seqtype=seqtype)\n",
    "feature = np.array(pool.map(partial_encode_seq, seq_list))\n",
    "pool.close()\n",
    "pool.join()\n",
    "pnode_feature = feature.reshape(-1, d, 4 ** (k * 2))\n",
    "pnode_feature = np.moveaxis(pnode_feature, 1, 2)\n",
    "zero_layer = feature.reshape(-1, d, 4 ** k, 4 ** k)[:, 0, :, :]\n",
    "fnode_feature = np.sum(zero_layer, axis=2).reshape(-1, 4 ** k, 1)"
   ],
   "id": "c9ed269ce73c969f",
   "outputs": [],
   "execution_count": 24
  },
  {
   "metadata": {
    "ExecuteTime": {
     "end_time": "2025-07-20T15:52:21.337751Z",
     "start_time": "2025-07-20T15:52:21.328749Z"
    }
   },
   "cell_type": "code",
   "source": "feature.shape",
   "id": "c0577455911327c5",
   "outputs": [
    {
     "data": {
      "text/plain": [
       "(100, 24576)"
      ]
     },
     "execution_count": 30,
     "metadata": {},
     "output_type": "execute_result"
    }
   ],
   "execution_count": 30
  },
  {
   "metadata": {
    "ExecuteTime": {
     "end_time": "2025-07-20T15:57:32.805714Z",
     "start_time": "2025-07-20T15:57:32.796714Z"
    }
   },
   "cell_type": "code",
   "source": "feature.reshape(-1, d, 4 ** k, 4 ** k).shape",
   "id": "31b0e65b082b65ab",
   "outputs": [
    {
     "data": {
      "text/plain": [
       "(100, 6, 64, 64)"
      ]
     },
     "execution_count": 52,
     "metadata": {},
     "output_type": "execute_result"
    }
   ],
   "execution_count": 52
  },
  {
   "metadata": {
    "ExecuteTime": {
     "end_time": "2025-07-20T15:57:00.807333Z",
     "start_time": "2025-07-20T15:57:00.794333Z"
    }
   },
   "cell_type": "code",
   "source": "zero_layer = feature.reshape(-1, d, 4 ** k, 4 ** k)[:, 0, :, :]",
   "id": "3f0fa9f4fa048dca",
   "outputs": [],
   "execution_count": 50
  },
  {
   "metadata": {
    "ExecuteTime": {
     "end_time": "2025-07-20T15:57:04.104357Z",
     "start_time": "2025-07-20T15:57:04.088043Z"
    }
   },
   "cell_type": "code",
   "source": "zero_layer.shape",
   "id": "2b5e12b3c6524fe6",
   "outputs": [
    {
     "data": {
      "text/plain": [
       "(100, 64, 64)"
      ]
     },
     "execution_count": 51,
     "metadata": {},
     "output_type": "execute_result"
    }
   ],
   "execution_count": 51
  },
  {
   "metadata": {
    "ExecuteTime": {
     "end_time": "2025-07-20T16:00:02.013697Z",
     "start_time": "2025-07-20T16:00:01.995698Z"
    }
   },
   "cell_type": "code",
   "source": [
    "fnode_feature = np.sum(zero_layer, axis=2).reshape(-1, 4 ** k, 1)\n",
    "fnode_feature.shape"
   ],
   "id": "e219cf66d7096753",
   "outputs": [
    {
     "data": {
      "text/plain": [
       "(100, 64, 1)"
      ]
     },
     "execution_count": 53,
     "metadata": {},
     "output_type": "execute_result"
    }
   ],
   "execution_count": 53
  },
  {
   "metadata": {
    "ExecuteTime": {
     "end_time": "2025-07-20T16:01:24.746219Z",
     "start_time": "2025-07-20T16:01:24.732218Z"
    }
   },
   "cell_type": "code",
   "source": "fnode_feature[0]",
   "id": "b8894e22ff6b677b",
   "outputs": [
    {
     "data": {
      "text/plain": [
       "array([[ 1.65562914],\n",
       "       [ 1.98675497],\n",
       "       [ 0.66225166],\n",
       "       [ 3.64238411],\n",
       "       [ 0.33112583],\n",
       "       [ 1.32450331],\n",
       "       [ 0.        ],\n",
       "       [ 3.31125828],\n",
       "       [ 0.        ],\n",
       "       [ 0.33112583],\n",
       "       [ 0.33112583],\n",
       "       [ 1.65562914],\n",
       "       [ 4.63576159],\n",
       "       [ 0.33112583],\n",
       "       [ 1.32450331],\n",
       "       [ 4.96688742],\n",
       "       [ 1.32450331],\n",
       "       [ 0.33112583],\n",
       "       [ 0.66225166],\n",
       "       [ 1.65562914],\n",
       "       [ 0.99337748],\n",
       "       [ 0.33112583],\n",
       "       [ 0.        ],\n",
       "       [ 1.98675497],\n",
       "       [ 0.        ],\n",
       "       [ 0.        ],\n",
       "       [ 0.        ],\n",
       "       [ 0.        ],\n",
       "       [ 1.65562914],\n",
       "       [ 2.31788079],\n",
       "       [ 1.32450331],\n",
       "       [ 4.30463576],\n",
       "       [ 0.99337748],\n",
       "       [ 0.66225166],\n",
       "       [ 0.33112583],\n",
       "       [ 0.66225166],\n",
       "       [ 0.        ],\n",
       "       [ 0.33112583],\n",
       "       [ 0.        ],\n",
       "       [ 0.99337748],\n",
       "       [ 0.        ],\n",
       "       [ 0.33112583],\n",
       "       [ 0.        ],\n",
       "       [ 0.66225166],\n",
       "       [ 0.66225166],\n",
       "       [ 0.33112583],\n",
       "       [ 1.32450331],\n",
       "       [ 1.98675497],\n",
       "       [ 4.30463576],\n",
       "       [ 1.98675497],\n",
       "       [ 0.66225166],\n",
       "       [ 4.96688742],\n",
       "       [ 2.64900662],\n",
       "       [ 1.32450331],\n",
       "       [ 0.        ],\n",
       "       [ 3.31125828],\n",
       "       [ 2.64900662],\n",
       "       [ 0.66225166],\n",
       "       [ 0.66225166],\n",
       "       [ 1.98675497],\n",
       "       [ 4.96688742],\n",
       "       [ 4.30463576],\n",
       "       [ 1.98675497],\n",
       "       [10.92715232]])"
      ]
     },
     "execution_count": 56,
     "metadata": {},
     "output_type": "execute_result"
    }
   ],
   "execution_count": 56
  }
 ],
 "metadata": {
  "kernelspec": {
   "display_name": "Python 3",
   "language": "python",
   "name": "python3"
  },
  "language_info": {
   "codemirror_mode": {
    "name": "ipython",
    "version": 2
   },
   "file_extension": ".py",
   "mimetype": "text/x-python",
   "name": "python",
   "nbconvert_exporter": "python",
   "pygments_lexer": "ipython2",
   "version": "2.7.6"
  }
 },
 "nbformat": 4,
 "nbformat_minor": 5
}
