{
 "cells": [
  {
   "cell_type": "code",
   "id": "initial_id",
   "metadata": {
    "collapsed": true,
    "ExecuteTime": {
     "end_time": "2025-07-14T18:57:43.367377Z",
     "start_time": "2025-07-14T18:57:43.354377Z"
    }
   },
   "source": [
    "from Bio.Seq import Seq\n",
    "\n",
    "# Tạo đối tượng Seq\n",
    "dna_seq = Seq(\"AUGGTGTTGATGGCATAGCCGTAA\")\n",
    "\n",
    "# Chuyển đổi thành protein\n",
    "protein = dna_seq.translate()\n",
    "print(f\"Protein: {protein}\")\n",
    "\n",
    "# Lấy các codon\n",
    "codons = [str(dna_seq[i:i+3]) for i in range(0, len(dna_seq)-2, 3)]\n",
    "print(f\"Codons: {codons}\")"
   ],
   "outputs": [
    {
     "name": "stdout",
     "output_type": "stream",
     "text": [
      "Protein: MVLMA*P*\n",
      "Codons: ['AUG', 'GTG', 'TTG', 'ATG', 'GCA', 'TAG', 'CCG', 'TAA']\n"
     ]
    }
   ],
   "execution_count": 5
  },
  {
   "metadata": {
    "ExecuteTime": {
     "end_time": "2025-07-14T18:53:17.259348Z",
     "start_time": "2025-07-14T18:53:17.247342Z"
    }
   },
   "cell_type": "code",
   "source": [
    "from Bio.Data import CodonTable\n",
    "\n",
    "table = CodonTable.unambiguous_dna_by_id[1]\n",
    "codons = list(table.forward_table.keys()) + list(table.stop_codons)"
   ],
   "id": "b1241bae500ebe04",
   "outputs": [],
   "execution_count": 2
  },
  {
   "metadata": {
    "ExecuteTime": {
     "end_time": "2025-07-14T18:53:20.858602Z",
     "start_time": "2025-07-14T18:53:20.837886Z"
    }
   },
   "cell_type": "code",
   "source": "table",
   "id": "4adb782a9162a59a",
   "outputs": [
    {
     "data": {
      "text/plain": [
       "NCBICodonTableDNA(id=1, names=['Standard', 'SGC0'], ...)"
      ]
     },
     "execution_count": 3,
     "metadata": {},
     "output_type": "execute_result"
    }
   ],
   "execution_count": 3
  },
  {
   "metadata": {},
   "cell_type": "code",
   "outputs": [],
   "execution_count": null,
   "source": "",
   "id": "e6c321746909a319"
  }
 ],
 "metadata": {
  "kernelspec": {
   "display_name": "Python 3",
   "language": "python",
   "name": "python3"
  },
  "language_info": {
   "codemirror_mode": {
    "name": "ipython",
    "version": 2
   },
   "file_extension": ".py",
   "mimetype": "text/x-python",
   "name": "python",
   "nbconvert_exporter": "python",
   "pygments_lexer": "ipython2",
   "version": "2.7.6"
  }
 },
 "nbformat": 4,
 "nbformat_minor": 5
}
