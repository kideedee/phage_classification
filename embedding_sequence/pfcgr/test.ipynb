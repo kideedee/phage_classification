{
 "cells": [
  {
   "cell_type": "code",
   "id": "initial_id",
   "metadata": {
    "collapsed": true,
    "ExecuteTime": {
     "end_time": "2025-08-05T02:39:07.502923Z",
     "start_time": "2025-08-05T02:39:07.443352Z"
    }
   },
   "source": [
    "import h5py\n",
    "\n",
    "from embedding_sequence.pfcgr.pfcgr import PFCGR"
   ],
   "outputs": [],
   "execution_count": 13
  },
  {
   "metadata": {
    "ExecuteTime": {
     "end_time": "2025-08-05T02:28:46.278794Z",
     "start_time": "2025-08-05T02:28:46.234380Z"
    }
   },
   "cell_type": "code",
   "source": [
    "# Create PFCGR instance\n",
    "pfcgr = PFCGR(k=4)  # Using k=4 for demonstration\n",
    "\n",
    "# Example DNA sequence\n",
    "test_sequence = \"ATCGATCGATCGATCGAAATCGATCGATCGATCGAAATCGATCGATCGATCGAA\"\n",
    "\n",
    "# Test input validation\n",
    "try:\n",
    "    pfcgr.generate_pfcgr(\"\")  # Should raise ValueError\n",
    "except ValueError as e:\n",
    "    print(f\"Caught expected error: {e}\")\n",
    "\n",
    "# Generate traditional FCGR\n",
    "fcgr_matrix = pfcgr.generate_fcgr(test_sequence)\n",
    "print(f\"FCGR matrix shape: {fcgr_matrix.shape}\")\n",
    "\n",
    "# Generate PFCGR in different formats\n",
    "pfcgr_channels = pfcgr.generate_pfcgr(test_sequence, return_format='channels')\n",
    "print(f\"PFCGR channels shape: {pfcgr_channels.shape}\")\n",
    "\n",
    "# Test with presence mask\n",
    "pfcgr_with_mask = pfcgr.generate_pfcgr(test_sequence, return_format='channels', include_mask=True)\n",
    "print(f\"PFCGR with mask shape: {pfcgr_with_mask.shape}\")\n",
    "\n",
    "# Test different normalization methods\n",
    "pfcgr_zscore = pfcgr.generate_pfcgr(test_sequence, normalization='zscore')\n",
    "print(f\"PFCGR with z-score normalization shape: {pfcgr_zscore.shape}\")\n",
    "\n",
    "pfcgr_separate = pfcgr.generate_pfcgr(test_sequence, return_format='separate')\n",
    "print(f\"PFCGR separate matrices: {list(pfcgr_separate.keys())}\")\n",
    "\n",
    "pfcgr_tabular = pfcgr.generate_pfcgr(test_sequence, return_format='tabular')\n",
    "print(f\"PFCGR tabular features: {len(pfcgr_tabular)} features\")\n",
    "\n",
    "# Get feature names\n",
    "feature_names = pfcgr.get_feature_names()\n",
    "print(f\"First 5 feature names: {feature_names[:5]}\")\n",
    "\n",
    "# Test with sequence containing non-ACGT characters\n",
    "mixed_sequence = \"ATCGATNNNGATCGATCGAA\"\n",
    "pfcgr_mixed = pfcgr.generate_pfcgr(mixed_sequence)\n",
    "print(f\"PFCGR from mixed sequence shape: {pfcgr_mixed.shape}\")"
   ],
   "id": "cb78f5b8fe3d6e96",
   "outputs": [
    {
     "name": "stdout",
     "output_type": "stream",
     "text": [
      "Caught expected error: Sequence cannot be empty\n",
      "FCGR matrix shape: (16, 16)\n",
      "PFCGR channels shape: (5, 16, 16)\n",
      "PFCGR with mask shape: (6, 16, 16)\n",
      "PFCGR with z-score normalization shape: (5, 16, 16)\n",
      "PFCGR separate matrices: ['frequency', 'mean', 'std', 'skewness', 'kurtosis']\n",
      "PFCGR tabular features: 1280 features\n",
      "First 5 feature names: ['AAAA_frequency', 'AAAA_mean', 'AAAA_std', 'AAAA_skewness', 'AAAA_kurtosis']\n",
      "PFCGR from mixed sequence shape: (5, 16, 16)\n"
     ]
    }
   ],
   "execution_count": 2
  },
  {
   "metadata": {
    "ExecuteTime": {
     "end_time": "2025-08-05T02:29:24.012518Z",
     "start_time": "2025-08-05T02:29:24.001522Z"
    }
   },
   "cell_type": "code",
   "source": "fcgr_matrix",
   "id": "eccfebb42e52e7b9",
   "outputs": [
    {
     "data": {
      "text/plain": [
       "array([[0.        , 0.        , 0.        , 0.        , 0.        ,\n",
       "        0.        , 0.        , 0.        , 0.        , 0.        ,\n",
       "        0.        , 0.        , 0.        , 0.        , 0.        ,\n",
       "        0.        ],\n",
       "       [0.        , 0.16666667, 0.        , 0.        , 0.        ,\n",
       "        0.        , 0.        , 0.        , 0.        , 0.        ,\n",
       "        0.        , 0.        , 0.        , 0.        , 0.        ,\n",
       "        0.        ],\n",
       "       [0.        , 0.        , 0.        , 0.16666667, 0.        ,\n",
       "        0.        , 0.        , 0.        , 0.        , 0.        ,\n",
       "        0.        , 0.        , 0.        , 0.        , 0.        ,\n",
       "        0.        ],\n",
       "       [0.        , 0.        , 0.        , 0.        , 0.        ,\n",
       "        0.        , 0.        , 0.        , 0.        , 0.        ,\n",
       "        0.        , 0.        , 0.        , 0.        , 0.        ,\n",
       "        0.        ],\n",
       "       [0.        , 0.        , 0.        , 0.        , 0.        ,\n",
       "        0.        , 0.        , 0.        , 0.25      , 0.        ,\n",
       "        0.        , 0.        , 0.        , 0.        , 0.        ,\n",
       "        0.        ],\n",
       "       [0.        , 0.        , 0.        , 0.        , 0.        ,\n",
       "        0.        , 1.        , 0.        , 0.        , 0.75      ,\n",
       "        0.        , 0.        , 0.        , 0.        , 0.        ,\n",
       "        0.        ],\n",
       "       [0.        , 0.        , 0.        , 0.        , 0.        ,\n",
       "        0.        , 0.        , 0.        , 0.        , 0.        ,\n",
       "        0.        , 0.        , 0.        , 0.        , 0.        ,\n",
       "        0.        ],\n",
       "       [0.        , 0.        , 0.        , 0.        , 0.        ,\n",
       "        0.        , 0.        , 0.        , 0.        , 0.        ,\n",
       "        0.        , 0.        , 0.        , 0.        , 0.        ,\n",
       "        0.        ],\n",
       "       [0.16666667, 0.        , 0.        , 0.        , 0.        ,\n",
       "        0.        , 0.        , 0.        , 0.        , 0.        ,\n",
       "        0.        , 0.        , 0.        , 0.        , 0.        ,\n",
       "        0.        ],\n",
       "       [0.        , 0.        , 0.        , 0.        , 0.        ,\n",
       "        0.        , 0.        , 0.        , 0.        , 0.        ,\n",
       "        0.        , 0.        , 0.        , 0.        , 0.        ,\n",
       "        0.        ],\n",
       "       [0.        , 0.        , 0.        , 0.75      , 0.        ,\n",
       "        0.        , 0.        , 0.        , 0.        , 0.        ,\n",
       "        0.        , 0.        , 1.        , 0.        , 0.        ,\n",
       "        0.        ],\n",
       "       [0.        , 0.        , 0.        , 0.        , 0.        ,\n",
       "        0.        , 0.        , 0.        , 0.        , 0.        ,\n",
       "        0.        , 0.        , 0.        , 0.        , 0.        ,\n",
       "        0.        ],\n",
       "       [0.        , 0.        , 0.        , 0.        , 0.        ,\n",
       "        0.        , 0.        , 0.        , 0.        , 0.        ,\n",
       "        0.        , 0.        , 0.        , 0.        , 0.        ,\n",
       "        0.        ],\n",
       "       [0.        , 0.        , 0.        , 0.        , 0.        ,\n",
       "        0.        , 0.        , 0.        , 0.        , 0.        ,\n",
       "        0.        , 0.        , 0.        , 0.        , 0.        ,\n",
       "        0.        ],\n",
       "       [0.        , 0.        , 0.        , 0.        , 0.        ,\n",
       "        0.        , 0.        , 0.        , 0.        , 0.        ,\n",
       "        0.        , 0.        , 0.        , 0.        , 0.        ,\n",
       "        0.        ],\n",
       "       [0.        , 0.        , 0.        , 0.        , 0.        ,\n",
       "        0.        , 0.        , 0.        , 0.        , 0.        ,\n",
       "        0.        , 0.        , 0.        , 0.        , 0.        ,\n",
       "        0.        ]], dtype=float32)"
      ]
     },
     "execution_count": 4,
     "metadata": {},
     "output_type": "execute_result"
    }
   ],
   "execution_count": 4
  },
  {
   "metadata": {
    "ExecuteTime": {
     "end_time": "2025-08-05T02:36:12.967587Z",
     "start_time": "2025-08-05T02:36:12.922515Z"
    }
   },
   "cell_type": "code",
   "source": [
    "from embedding_sequence.fcgr.fcgr import FCGR\n",
    "\n",
    "fcgr = FCGR(k=4)\n",
    "matrix = fcgr(test_sequence)\n",
    "print(matrix.shape)"
   ],
   "id": "1bda156afb97ced2",
   "outputs": [
    {
     "name": "stdout",
     "output_type": "stream",
     "text": [
      "(16, 16)\n"
     ]
    }
   ],
   "execution_count": 10
  },
  {
   "metadata": {
    "ExecuteTime": {
     "end_time": "2025-08-05T02:36:16.665374Z",
     "start_time": "2025-08-05T02:36:16.653201Z"
    }
   },
   "cell_type": "code",
   "source": "matrix",
   "id": "efb73e7a19da70d3",
   "outputs": [
    {
     "data": {
      "text/plain": [
       "array([[ 0.,  0.,  0.,  0.,  0.,  0.,  0.,  0.,  0.,  0.,  0.,  0.,  0.,\n",
       "         0.,  0.,  0.],\n",
       "       [ 0.,  0.,  0.,  0.,  0.,  0.,  0.,  0.,  0.,  0.,  0.,  0.,  0.,\n",
       "         0.,  2.,  0.],\n",
       "       [ 0.,  0.,  0.,  0.,  0.,  0.,  0.,  0.,  0.,  0.,  0.,  0.,  3.,\n",
       "         0.,  0.,  0.],\n",
       "       [ 0.,  0.,  0.,  0.,  0.,  0.,  0.,  0.,  0.,  0.,  0.,  0.,  0.,\n",
       "         0.,  0.,  0.],\n",
       "       [ 0.,  0.,  0.,  0.,  0.,  0.,  0.,  2.,  0.,  0.,  0.,  0.,  0.,\n",
       "         0.,  0.,  0.],\n",
       "       [ 0.,  0.,  0.,  0.,  0.,  0.,  9.,  0.,  0., 12.,  0.,  0.,  0.,\n",
       "         0.,  0.,  0.],\n",
       "       [ 0.,  0.,  0.,  0.,  0.,  0.,  0.,  0.,  0.,  0.,  0.,  0.,  0.,\n",
       "         0.,  0.,  0.],\n",
       "       [ 0.,  0.,  0.,  0.,  0.,  0.,  0.,  0.,  0.,  0.,  0.,  0.,  0.,\n",
       "         0.,  0.,  0.],\n",
       "       [ 0.,  0.,  0.,  0.,  0.,  0.,  0.,  0.,  0.,  0.,  0.,  0.,  0.,\n",
       "         0.,  0.,  2.],\n",
       "       [ 0.,  0.,  0.,  0.,  0.,  0.,  0.,  0.,  0.,  0.,  0.,  0.,  0.,\n",
       "         0.,  0.,  0.],\n",
       "       [ 0.,  0.,  0., 12.,  0.,  0.,  0.,  0.,  0.,  0.,  0.,  0.,  9.,\n",
       "         0.,  0.,  0.],\n",
       "       [ 0.,  0.,  0.,  0.,  0.,  0.,  0.,  0.,  0.,  0.,  0.,  0.,  0.,\n",
       "         0.,  0.,  0.],\n",
       "       [ 0.,  0.,  0.,  0.,  0.,  0.,  0.,  0.,  0.,  0.,  0.,  0.,  0.,\n",
       "         0.,  0.,  0.],\n",
       "       [ 0.,  0.,  0.,  0.,  0.,  0.,  0.,  0.,  0.,  0.,  0.,  0.,  0.,\n",
       "         0.,  0.,  0.],\n",
       "       [ 0.,  0.,  0.,  0.,  0.,  0.,  0.,  0.,  0.,  0.,  0.,  0.,  0.,\n",
       "         0.,  0.,  0.],\n",
       "       [ 0.,  0.,  0.,  0.,  0.,  0.,  0.,  0.,  0.,  0.,  0.,  0.,  0.,\n",
       "         0.,  0.,  0.]])"
      ]
     },
     "execution_count": 11,
     "metadata": {},
     "output_type": "execute_result"
    }
   ],
   "execution_count": 11
  },
  {
   "metadata": {
    "ExecuteTime": {
     "end_time": "2025-08-05T02:41:25.961910Z",
     "start_time": "2025-08-05T02:41:24.864610Z"
    }
   },
   "cell_type": "code",
   "source": [
    "import numpy as np\n",
    "\n",
    "vectors = None\n",
    "with h5py.File(\"C:\\\\Users\\Admin\\Temp\\\\1200_1800\\\\fold_1\\\\test\\data.h5\", \"r\") as f:\n",
    "    print(f['labels'].shape)\n",
    "    vectors = f['vectors'][:].astype(np.float32)"
   ],
   "id": "9f72f447cbf8f1f8",
   "outputs": [
    {
     "name": "stdout",
     "output_type": "stream",
     "text": [
      "(24164,)\n"
     ]
    }
   ],
   "execution_count": 27
  },
  {
   "metadata": {
    "ExecuteTime": {
     "end_time": "2025-08-05T02:41:34.257712Z",
     "start_time": "2025-08-05T02:41:34.245251Z"
    }
   },
   "cell_type": "code",
   "source": "vectors[0]",
   "id": "28e75285a814d628",
   "outputs": [
    {
     "data": {
      "text/plain": [
       "array([[0., 0., 0., ..., 4., 1., 2.],\n",
       "       [0., 0., 0., ..., 0., 4., 3.],\n",
       "       [0., 0., 0., ..., 4., 2., 2.],\n",
       "       ...,\n",
       "       [0., 0., 0., ..., 0., 0., 2.],\n",
       "       [0., 0., 0., ..., 1., 1., 1.],\n",
       "       [0., 0., 0., ..., 1., 1., 3.]], dtype=float32)"
      ]
     },
     "execution_count": 29,
     "metadata": {},
     "output_type": "execute_result"
    }
   ],
   "execution_count": 29
  },
  {
   "metadata": {},
   "cell_type": "code",
   "outputs": [],
   "execution_count": null,
   "source": "",
   "id": "3ec5bb002e5a3748"
  }
 ],
 "metadata": {
  "kernelspec": {
   "display_name": "Python 3",
   "language": "python",
   "name": "python3"
  },
  "language_info": {
   "codemirror_mode": {
    "name": "ipython",
    "version": 2
   },
   "file_extension": ".py",
   "mimetype": "text/x-python",
   "name": "python",
   "nbconvert_exporter": "python",
   "pygments_lexer": "ipython2",
   "version": "2.7.6"
  }
 },
 "nbformat": 4,
 "nbformat_minor": 5
}
