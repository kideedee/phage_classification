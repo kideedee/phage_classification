{
 "cells": [
  {
   "cell_type": "code",
   "id": "initial_id",
   "metadata": {
    "collapsed": true,
    "ExecuteTime": {
     "end_time": "2025-07-28T18:37:54.593786Z",
     "start_time": "2025-07-28T18:37:54.059779Z"
    }
   },
   "source": [
    "from embedding_sequence.pfcgr.pfcgr import PFCGR\n",
    "\n",
    "# Create PFCGR instance\n",
    "pfcgr = PFCGR(k=4)  # Using k=4 for demonstration\n",
    "\n",
    "# Example DNA sequence\n",
    "test_sequence = \"ATCGATCGATCGATCGAAATCGATCGATCGATCGAAATCGATCGATCGATCGAA\"\n",
    "\n",
    "# Test input validation\n",
    "try:\n",
    "    pfcgr.generate_pfcgr(\"\")  # Should raise ValueError\n",
    "except ValueError as e:\n",
    "    print(f\"Caught expected error: {e}\")\n",
    "\n",
    "# Generate traditional FCGR\n",
    "fcgr_matrix = pfcgr.generate_fcgr(test_sequence)\n",
    "print(f\"FCGR matrix shape: {fcgr_matrix.shape}\")\n",
    "\n",
    "# Generate PFCGR in different formats\n",
    "pfcgr_channels = pfcgr.generate_pfcgr(test_sequence, return_format='channels')\n",
    "print(f\"PFCGR channels shape: {pfcgr_channels.shape}\")\n",
    "\n",
    "# Test with presence mask\n",
    "pfcgr_with_mask = pfcgr.generate_pfcgr(test_sequence, return_format='channels', include_mask=True)\n",
    "print(f\"PFCGR with mask shape: {pfcgr_with_mask.shape}\")\n",
    "\n",
    "# Test different normalization methods\n",
    "pfcgr_zscore = pfcgr.generate_pfcgr(test_sequence, normalization='zscore')\n",
    "print(f\"PFCGR with z-score normalization shape: {pfcgr_zscore.shape}\")\n",
    "\n",
    "pfcgr_separate = pfcgr.generate_pfcgr(test_sequence, return_format='separate')\n",
    "print(f\"PFCGR separate matrices: {list(pfcgr_separate.keys())}\")\n",
    "\n",
    "pfcgr_tabular = pfcgr.generate_pfcgr(test_sequence, return_format='tabular')\n",
    "print(f\"PFCGR tabular features: {len(pfcgr_tabular)} features\")\n",
    "\n",
    "# Get feature names\n",
    "feature_names = pfcgr.get_feature_names()\n",
    "print(f\"First 5 feature names: {feature_names[:5]}\")\n",
    "\n",
    "# Test with sequence containing non-ACGT characters\n",
    "mixed_sequence = \"ATCGATNNNGATCGATCGAA\"\n",
    "pfcgr_mixed = pfcgr.generate_pfcgr(mixed_sequence)\n",
    "print(f\"PFCGR from mixed sequence shape: {pfcgr_mixed.shape}\")"
   ],
   "outputs": [
    {
     "name": "stdout",
     "output_type": "stream",
     "text": [
      "Caught expected error: Sequence cannot be empty\n",
      "FCGR matrix shape: (16, 16)\n",
      "PFCGR channels shape: (5, 16, 16)\n",
      "PFCGR with mask shape: (6, 16, 16)\n",
      "PFCGR with z-score normalization shape: (5, 16, 16)\n",
      "PFCGR separate matrices: ['frequency', 'mean', 'std', 'skewness', 'kurtosis']\n",
      "PFCGR tabular features: 1280 features\n",
      "First 5 feature names: ['AAAA_frequency', 'AAAA_mean', 'AAAA_std', 'AAAA_skewness', 'AAAA_kurtosis']\n",
      "PFCGR from mixed sequence shape: (5, 16, 16)\n"
     ]
    }
   ],
   "execution_count": 1
  },
  {
   "metadata": {},
   "cell_type": "code",
   "outputs": [],
   "execution_count": null,
   "source": "",
   "id": "cb78f5b8fe3d6e96"
  }
 ],
 "metadata": {
  "kernelspec": {
   "display_name": "Python 3",
   "language": "python",
   "name": "python3"
  },
  "language_info": {
   "codemirror_mode": {
    "name": "ipython",
    "version": 2
   },
   "file_extension": ".py",
   "mimetype": "text/x-python",
   "name": "python",
   "nbconvert_exporter": "python",
   "pygments_lexer": "ipython2",
   "version": "2.7.6"
  }
 },
 "nbformat": 4,
 "nbformat_minor": 5
}
