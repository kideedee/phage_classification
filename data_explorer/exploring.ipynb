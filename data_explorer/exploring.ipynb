{
 "cells": [
  {
   "cell_type": "code",
   "id": "initial_id",
   "metadata": {
    "collapsed": true,
    "ExecuteTime": {
     "end_time": "2024-12-25T16:51:11.267706Z",
     "start_time": "2024-12-25T16:51:11.192696Z"
    }
   },
   "source": [
    "import numpy as np\n",
    "import pandas as pd\n",
    "import matplotlib.pyplot as plt\n",
    "import scipy.io\n",
    "import seaborn as sns\n",
    "import os\n",
    "import h5py"
   ],
   "outputs": [],
   "execution_count": 1
  },
  {
   "metadata": {
    "ExecuteTime": {
     "end_time": "2024-12-25T18:36:04.719087Z",
     "start_time": "2024-12-25T18:36:04.716250Z"
    }
   },
   "cell_type": "code",
   "source": [
    "group = \"100_400\"\n",
    "data_dir = f\"../data/{group}\"\n",
    "train_dir = os.path.join(data_dir, \"train\")\n",
    "test_dir = os.path.join(data_dir, \"test\")\n",
    "file_train = sorted([f for f in os.listdir(train_dir)])\n",
    "file_test = sorted([f for f in os.listdir(test_dir)])\n",
    "print(file_train)\n",
    "print(\"\\n\")\n",
    "print(file_test)"
   ],
   "id": "55e0343e3e2726cf",
   "outputs": [
    {
     "name": "stdout",
     "output_type": "stream",
     "text": [
      "['P_train_ds_100_400_1.mat', 'P_train_ds_100_400_2.mat', 'P_train_ds_100_400_3.mat', 'P_train_ds_100_400_4.mat', 'P_train_ds_100_400_5.mat', 'T_train_ds_100_400_1.mat', 'T_train_ds_100_400_2.mat', 'T_train_ds_100_400_3.mat', 'T_train_ds_100_400_4.mat', 'T_train_ds_100_400_5.mat']\n",
      "\n",
      "\n",
      "['100_400_1_test_label.csv', '100_400_2_test_label.csv', '100_400_3_test_label.csv', '100_400_4_test_label.csv', '100_400_5_test_label.csv', 'P_test_100_400_1.mat', 'P_test_100_400_2.mat', 'P_test_100_400_3.mat', 'P_test_100_400_4.mat', 'P_test_100_400_5.mat', 'label_100_400_1.mat']\n"
     ]
    }
   ],
   "execution_count": 43
  },
  {
   "metadata": {
    "ExecuteTime": {
     "end_time": "2024-12-25T18:36:18.261225Z",
     "start_time": "2024-12-25T18:36:18.257958Z"
    }
   },
   "cell_type": "code",
   "source": [
    "train_set = h5py.File(os.path.join(test_dir, 'label_100_400_1.mat'))\n",
    "dataset = train_set[list(train_set.keys())[0]]\n",
    "print(\"Shape:\", dataset.shape)\n",
    "print(\"Total elements:\", dataset.size)\n",
    "print(train_set.keys())\n",
    "train_set = train_set['T_test'][:]\n",
    "print(train_set.shape)\n",
    "train_set = train_set.transpose()\n",
    "print(train_set.shape)"
   ],
   "id": "d047b9e43e28a19d",
   "outputs": [
    {
     "name": "stdout",
     "output_type": "stream",
     "text": [
      "Shape: (1, 20000)\n",
      "Total elements: 20000\n",
      "<KeysViewHDF5 ['T_test']>\n",
      "(1, 20000)\n",
      "(20000, 1)\n"
     ]
    }
   ],
   "execution_count": 45
  },
  {
   "metadata": {
    "ExecuteTime": {
     "end_time": "2024-12-25T18:37:59.174799Z",
     "start_time": "2024-12-25T18:37:59.170395Z"
    }
   },
   "cell_type": "code",
   "source": "np.unique(train_set, return_counts=True)",
   "id": "77383d6ae948d0b2",
   "outputs": [
    {
     "data": {
      "text/plain": [
       "(array([0., 1.]), array([ 9579, 10421]))"
      ]
     },
     "execution_count": 52,
     "metadata": {},
     "output_type": "execute_result"
    }
   ],
   "execution_count": 52
  },
  {
   "metadata": {
    "ExecuteTime": {
     "end_time": "2024-12-25T18:38:46.616517Z",
     "start_time": "2024-12-25T18:38:46.608676Z"
    }
   },
   "cell_type": "code",
   "source": [
    "temp = pd.read_csv(os.path.join(test_dir, '100_400_1_test_label.csv'))\n",
    "unique_values_counts = temp.apply(pd.Series.value_counts)\n",
    "print(unique_values_counts)"
   ],
   "id": "9779a63b0c30cc41",
   "outputs": [
    {
     "name": "stdout",
     "output_type": "stream",
     "text": [
      "       0\n",
      "0       \n",
      "1  10421\n",
      "0   9578\n"
     ]
    }
   ],
   "execution_count": 54
  },
  {
   "metadata": {
    "ExecuteTime": {
     "end_time": "2024-12-25T18:39:54.565196Z",
     "start_time": "2024-12-25T18:39:54.558947Z"
    }
   },
   "cell_type": "code",
   "source": "temp.to_numpy().transpose()",
   "id": "2d7f999e11ad9eb3",
   "outputs": [
    {
     "data": {
      "text/plain": [
       "array([[0, 0, 0, ..., 1, 1, 1]])"
      ]
     },
     "execution_count": 56,
     "metadata": {},
     "output_type": "execute_result"
    }
   ],
   "execution_count": 56
  },
  {
   "metadata": {
    "ExecuteTime": {
     "end_time": "2024-12-25T18:22:16.909658Z",
     "start_time": "2024-12-25T18:22:16.906198Z"
    }
   },
   "cell_type": "code",
   "source": [
    "test_set = h5py.File(os.path.join(test_dir, 'label_100_400_1.mat'))\n",
    "print(test_set.keys())\n",
    "test_set = test_set['T_test'][:]\n",
    "print(test_set.shape)\n",
    "test_set = test_set.transpose()\n",
    "print(test_set.shape)\n",
    "print(test_set[:10])"
   ],
   "id": "14f7acce3a8c0dd",
   "outputs": [
    {
     "name": "stdout",
     "output_type": "stream",
     "text": [
      "<KeysViewHDF5 ['T_test']>\n",
      "(1, 20000)\n",
      "(20000, 1)\n",
      "[[1.]\n",
      " [1.]\n",
      " [1.]\n",
      " [1.]\n",
      " [1.]\n",
      " [1.]\n",
      " [1.]\n",
      " [1.]\n",
      " [1.]\n",
      " [1.]]\n"
     ]
    }
   ],
   "execution_count": 42
  },
  {
   "metadata": {
    "ExecuteTime": {
     "end_time": "2024-12-25T03:01:04.164376Z",
     "start_time": "2024-12-25T03:01:04.160520Z"
    }
   },
   "cell_type": "code",
   "source": [
    "dir = \"/media/sonvq9699/Study/master/dee_phage_data/dee_phage_data/dee_phage_data/all_data_to_train_model/all_data_to_train_model/100_400\"\n",
    "file_names = [f for f in os.listdir(dir)]\n",
    "file_names"
   ],
   "id": "871f2ba89a95d873",
   "outputs": [
    {
     "data": {
      "text/plain": [
       "['100_400_all_train_model.h5',\n",
       " 'P_train_ds.mat',\n",
       " 'temp_100_400.fna',\n",
       " 'T_train_ds.mat',\n",
       " 'viru_100_400.fna']"
      ]
     },
     "execution_count": 11,
     "metadata": {},
     "output_type": "execute_result"
    }
   ],
   "execution_count": 11
  },
  {
   "metadata": {
    "ExecuteTime": {
     "end_time": "2024-12-25T17:23:52.362161Z",
     "start_time": "2024-12-25T17:23:52.203622Z"
    }
   },
   "cell_type": "code",
   "source": [
    "from Bio import SeqIO\n",
    "\n",
    "# Đọc file .fna\n",
    "fasta_sequences = SeqIO.parse(os.path.join(\"../data/1/100_400\", \"viru_100_400.fna\"), 'fasta')\n",
    "\n",
    "count = 0\n",
    "# Duyệt qua từng sequence\n",
    "for sequence in fasta_sequences:\n",
    "    count += 1\n",
    "print(count)"
   ],
   "id": "c67487fdacb3333d",
   "outputs": [
    {
     "name": "stdout",
     "output_type": "stream",
     "text": [
      "40000\n"
     ]
    }
   ],
   "execution_count": 32
  },
  {
   "metadata": {
    "ExecuteTime": {
     "end_time": "2024-12-25T03:18:05.821658Z",
     "start_time": "2024-12-25T03:18:05.810581Z"
    }
   },
   "cell_type": "code",
   "source": [
    "\n",
    "dir = \"/media/sonvq9699/Study/master/dee_phage_data/dee_phage_data/dee_phage_data/training/training/MetaSim_simulating\"\n",
    "f = [f for f in os.listdir(dir)]\n",
    "f"
   ],
   "id": "29676bc3d4966a3d",
   "outputs": [
    {
     "data": {
      "text/plain": [
       "['800_1200_2_test.fna',\n",
       " 'train_temp_400_800_3.fna',\n",
       " '100_400_1_test.fna',\n",
       " '100_400_2_test.fna',\n",
       " '100_400_3_test.fna',\n",
       " '100_400_4_test.fna',\n",
       " '100_400_5_test.fna',\n",
       " '1200_1800_1_test.fna',\n",
       " '1200_1800_2_test.fna',\n",
       " '1200_1800_3_test.fna',\n",
       " '1200_1800_4_test.fna',\n",
       " '1200_1800_5_test.fna',\n",
       " '400_800_1_test.fna',\n",
       " '400_800_2_test.fna',\n",
       " '400_800_3_test.fna',\n",
       " '400_800_4_test.fna',\n",
       " '400_800_5_test.fna',\n",
       " '800_1200_1_test.fna',\n",
       " '800_1200_3_test.fna',\n",
       " '800_1200_4_test.fna',\n",
       " '800_1200_5_test.fna',\n",
       " 'train_temp_100_400_1.fna',\n",
       " 'train_temp_100_400_2.fna',\n",
       " 'train_temp_100_400_3.fna',\n",
       " 'train_temp_100_400_4.fna',\n",
       " 'train_temp_100_400_5.fna',\n",
       " 'train_temp_1200_1800_1.fna',\n",
       " 'train_temp_1200_1800_2.fna',\n",
       " 'train_temp_1200_1800_3.fna',\n",
       " 'train_temp_1200_1800_4.fna',\n",
       " 'train_temp_1200_1800_5.fna',\n",
       " 'train_temp_400_800_1.fna',\n",
       " 'train_temp_400_800_2.fna',\n",
       " 'train_temp_400_800_4.fna',\n",
       " 'train_temp_400_800_5.fna',\n",
       " 'train_temp_800_1200_1.fna',\n",
       " 'train_temp_800_1200_2.fna',\n",
       " 'train_temp_800_1200_3.fna',\n",
       " 'train_temp_800_1200_4.fna',\n",
       " 'train_temp_800_1200_5.fna',\n",
       " 'train_viru_100_400_1.fna',\n",
       " 'train_viru_100_400_2.fna',\n",
       " 'train_viru_100_400_3.fna',\n",
       " 'train_viru_100_400_4.fna',\n",
       " 'train_viru_100_400_5.fna',\n",
       " 'train_viru_1200_1800_1.fna',\n",
       " 'train_viru_1200_1800_2.fna',\n",
       " 'train_viru_1200_1800_3.fna',\n",
       " 'train_viru_1200_1800_4.fna',\n",
       " 'train_viru_1200_1800_5.fna',\n",
       " 'train_viru_400_800_1.fna',\n",
       " 'train_viru_400_800_2.fna',\n",
       " 'train_viru_400_800_3.fna',\n",
       " 'train_viru_400_800_4.fna',\n",
       " 'train_viru_400_800_5.fna',\n",
       " 'train_viru_800_1200_1.fna',\n",
       " 'train_viru_800_1200_2.fna',\n",
       " 'train_viru_800_1200_3.fna',\n",
       " 'train_viru_800_1200_4.fna',\n",
       " 'train_viru_800_1200_5.fna',\n",
       " 'val_compare.m']"
      ]
     },
     "execution_count": 22,
     "metadata": {},
     "output_type": "execute_result"
    }
   ],
   "execution_count": 22
  },
  {
   "metadata": {
    "ExecuteTime": {
     "end_time": "2024-12-25T03:18:24.633621Z",
     "start_time": "2024-12-25T03:18:24.492418Z"
    }
   },
   "cell_type": "code",
   "source": [
    "from Bio import SeqIO\n",
    "\n",
    "# Đọc file .fna\n",
    "fasta_sequences = SeqIO.parse(os.path.join(dir, \"800_1200_5_test.fna\"), 'fasta')\n",
    "\n",
    "count = 0\n",
    "# Duyệt qua từng sequence\n",
    "for sequence in fasta_sequences:\n",
    "    count += 1\n",
    "\n",
    "    if count%10000==0:\n",
    "        print(\"count: {}\".format(count))\n",
    "        # sequence.id - ID của trình tự\n",
    "        # sequence.seq - chuỗi trình tự\n",
    "        # sequence.description - mô tả đầy đủ\n",
    "        print(f\"ID: {sequence.id}\")\n",
    "        print(f\"Sequence: {sequence.seq}\")\n",
    "        print(f\"Description: {sequence.description}\")"
   ],
   "id": "e274fb46a1a67728",
   "outputs": [
    {
     "name": "stdout",
     "output_type": "stream",
     "text": [
      "count: 10000\n",
      "ID: r10000.1\n",
      "Sequence: AAGCCGCTCGCGTGGAACGCAGCGCACGAACAGTTCTTCGCCGCCCGCGGCCGGCGCCAGCGCGTCTTTTGCTCGTCGCTTGCGGACGTGTTCGACAACGCGGTCTATCCGATGTGGCGAGTCGATCTCTTCGATTTGATCAGCAACACGCCAAATCTCGACTGGCTGCTACTGACGAAGCGAATCGGAAACGCGCGGGATATGATTTCCAGCGTCCTCGGCAGCATCATGCGCGATGAGCGTGAGTGGCCGTGGCCGCATGTCTGGCTCGGCGCGACGATCGTGAATCAGGCCGAGGCCGACCGCGACATTCCGAAGCTGCTCGCAGTGCCCGCTCGCGTGCGCTTCCTGTCGATGGAGCCTTTGCTCGGGCCGGTTGACCTTCGCTTCCACATCTACAGCGAGCCCACCGGCAATTTTCGTACGCACGGCGGCAAGCGCCAGCTCGAACTACGCCGGCCAGCCGACGGCGGCCTACATTGGGTGATCGCCGGCGGCGAAAGCGGCCACGGCGCCCGCCCGATGCATCCCGACTGGGCTCGCTCGCTGCGCGACCAGTGCGCAGCCGCCGGCGTGCCGTTCCTATTCAAGCAATGGGGCGAGTGGGCACCGCGAACAACTGACGAACAGAAGCTCCTTCCAGTCCCTTGCAGTCGCACCACTTCGTGGCCAGACGGGACTGTTGGATGTGGCGACTACCAGTCGAACGGTGACTACGGGAAGTGTCTTTTCCGCGTCGGCAAGAAAGCCACCGGCCGCATGCTTGACGGCCGCAGGCACGACGAATTCCCCGAGGTGACGCGATGAGCGGAAATTCGCAGTTCCCTAAAGCGGCACTAACTCCGGAGCTCAGCAAGCCTTGTATCGATAAGTGCGGCGGTATTCGAAAAGGAGTTCGAGAGAAACTTTCGCGCCTCGTCGCCCGGGGGAAATTCTGGAGCCGTCGTCAGATGAGCAATCATAAG\n",
      "Description: r10000.1 |SOURCES={KEY=ebdedb1b...,bw,30980-31945}|ERRORS={}|SOURCE_1=\"Temp_gi|77|ref|NC_003309| Bacteriophage phiE125 linear\" (ebdedb1bce34cc742040977c920fb1846a976e5f)\n",
      "count: 20000\n",
      "ID: r20000.1\n",
      "Sequence: AAATGGCCGATGAAGCTATACTTCGTCCTACCAAAGTTTCCATGCAGAACACCAAAGCATATGGCTCATTGGTTCAACTTGGTATGCAGTTCAAATCGTTCACTATTAAGTCTCTGAATGGTCGTACTATCCGTGCAATCTATGAAGGAACTAAGAATGGACGAGCCATTGACCAGACCATTGCTGCTGTACTGTCTATGGGATTAGCTGCTGGTTTCTATGCGATTCGCGCCCAAGTTGCTGCTCAAGGTATTCCAGAAGCACAACGTCAAGAGTATCTGGACAATGCATTGAATGATAAAATGATTGCTTATGCGGCTATTTCACGTAGTTCAATCGTAGGTTCACCTTTAGGTTTATTTAACATGTTCGCTGCTCCATTGGGATTTGACCCTGCGAAGCAAGTCCGTACAAGTATCTTACCGACTCCTCCTGTAGAGCGTCCTAAAGGCGCTCTGCTCTATGCTCCTCAGTTTGGAGATGAGTTGATTAACCAGATTCCTGCTGCTGGTATCTTAAAGTCCGGCTATCAGGTTGGTTATAACGCTATCGGAATGATGGGAGCTACAGGATACGATGAGATTCAATATCGGACTGGTCTTTACAATGGACTGAAAGGGTTGATTCCTAATGACCCTGTTTCACAAGCTGTCCTGTTAGGAGTCTTTGAGGAACAAGGAATCATGCAACGAATGAAGTAACTTGATTAATTAACCCTGACTATAGGGAGAGAGGGGCGTAAAGTTCCTCTCTATAAGATTAACTTTAAGAGGAGGCTTTATGTCAGGCACTCGTGCTCCTAAGACTATTGTGGTTTATGATATCACAGGTCAAACAGACTATACGATTCCCTTCGAGTATCTTGCTCGTAAGTTCGTAGTGGTTACTCTTATTGGTCAAGACCGTAAGGTTCTGACTTTAAATACCGACTATCGGTTTACTACAAAGACGACTATCGGTCTATCAGACCCAAGTCCTGTAGGTTACGATAAGATTGAGATTCGTCGATTCACTTCAGCTACTGACCGTCTTGTAGATTTTCATGATGGTTCTATTCTTCGTGCATACGATTTGAACCTTTCACAGATTCAAACTCTTCATGTTGCTGAGGAAGCTCGTGACCTTGCAGGTGACTCTATTGCTGTTGATGATAATGGTGACTTAGACGCCCGTGGTCGTAAGATTGTTAACCTTGCCGAT\n",
      "Description: r20000.1 |SOURCES={KEY=2a9e361b...,fw,32535-33735}|ERRORS={}|SOURCE_1=\"Viru_gi|99|ref|NC_007149| Vibriophage VP4 linear\" (2a9e361b73a0825e33d97c6a49b3dc34f9d43ae5)\n"
     ]
    }
   ],
   "execution_count": 24
  },
  {
   "metadata": {
    "ExecuteTime": {
     "end_time": "2024-12-25T03:26:58.021084Z",
     "start_time": "2024-12-25T03:26:58.014848Z"
    }
   },
   "cell_type": "code",
   "source": [
    "\n",
    "import scipy\n",
    "def load_mat(file_path):\n",
    "    try:\n",
    "        return scipy.io.loadmat(file_path)\n",
    "    except NotImplementedError:\n",
    "        return h5py.File(file_path, 'r')"
   ],
   "id": "3cdd7fdd5376364b",
   "outputs": [],
   "execution_count": 28
  },
  {
   "metadata": {
    "ExecuteTime": {
     "end_time": "2024-12-25T03:41:26.804389Z",
     "start_time": "2024-12-25T03:41:26.801351Z"
    }
   },
   "cell_type": "code",
   "source": [
    "data = load_mat(os.path.join(\"/media/sonvq9699/Study/master/dee_phage_data/dee_phage_data/dee_phage_data/training/training/five_fold_validation_prediction_label\", \"label_100_400_1.mat\"))\n",
    "data = data['T_test'][:].transpose()"
   ],
   "id": "f1f0effb102c558c",
   "outputs": [],
   "execution_count": 41
  },
  {
   "metadata": {
    "ExecuteTime": {
     "end_time": "2024-12-25T03:28:12.614926Z",
     "start_time": "2024-12-25T03:28:12.611765Z"
    }
   },
   "cell_type": "code",
   "source": "data.keys()",
   "id": "1e2536506e53f11f",
   "outputs": [
    {
     "data": {
      "text/plain": [
       "<KeysViewHDF5 ['T_test']>"
      ]
     },
     "execution_count": 30,
     "metadata": {},
     "output_type": "execute_result"
    }
   ],
   "execution_count": 30
  },
  {
   "metadata": {
    "ExecuteTime": {
     "end_time": "2024-12-25T03:41:32.236074Z",
     "start_time": "2024-12-25T03:41:32.232644Z"
    }
   },
   "cell_type": "code",
   "source": "data[:10]",
   "id": "c6bcff336ff67d4b",
   "outputs": [
    {
     "data": {
      "text/plain": [
       "array([[1.],\n",
       "       [1.],\n",
       "       [1.],\n",
       "       [1.],\n",
       "       [1.],\n",
       "       [1.],\n",
       "       [1.],\n",
       "       [1.],\n",
       "       [1.],\n",
       "       [1.]])"
      ]
     },
     "execution_count": 42,
     "metadata": {},
     "output_type": "execute_result"
    }
   ],
   "execution_count": 42
  },
  {
   "metadata": {
    "ExecuteTime": {
     "end_time": "2024-12-25T03:29:44.443674Z",
     "start_time": "2024-12-25T03:29:44.435958Z"
    }
   },
   "cell_type": "code",
   "source": "type(data)",
   "id": "64c726ebd70c0f31",
   "outputs": [
    {
     "data": {
      "text/plain": [
       "numpy.ndarray"
      ]
     },
     "execution_count": 36,
     "metadata": {},
     "output_type": "execute_result"
    }
   ],
   "execution_count": 36
  },
  {
   "metadata": {
    "ExecuteTime": {
     "end_time": "2024-12-25T03:34:09.561790Z",
     "start_time": "2024-12-25T03:34:09.552028Z"
    }
   },
   "cell_type": "code",
   "source": [
    "unique_values, counts = np.unique(data, return_counts=True)\n",
    "unique_values, counts"
   ],
   "id": "547eb929384d033f",
   "outputs": [
    {
     "data": {
      "text/plain": [
       "(array([0., 1.]), array([ 9579, 10421]))"
      ]
     },
     "execution_count": 39,
     "metadata": {},
     "output_type": "execute_result"
    }
   ],
   "execution_count": 39
  },
  {
   "metadata": {},
   "cell_type": "code",
   "outputs": [],
   "execution_count": null,
   "source": "",
   "id": "5fe33e7a3dfc0ed3"
  }
 ],
 "metadata": {
  "kernelspec": {
   "display_name": "Python 3",
   "language": "python",
   "name": "python3"
  },
  "language_info": {
   "codemirror_mode": {
    "name": "ipython",
    "version": 2
   },
   "file_extension": ".py",
   "mimetype": "text/x-python",
   "name": "python",
   "nbconvert_exporter": "python",
   "pygments_lexer": "ipython2",
   "version": "2.7.6"
  }
 },
 "nbformat": 4,
 "nbformat_minor": 5
}
