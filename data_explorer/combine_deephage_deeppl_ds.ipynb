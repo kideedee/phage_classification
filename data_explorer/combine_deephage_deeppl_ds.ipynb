{
 "cells": [
  {
   "cell_type": "code",
   "id": "initial_id",
   "metadata": {
    "collapsed": true,
    "ExecuteTime": {
     "end_time": "2025-03-31T18:16:38.031051Z",
     "start_time": "2025-03-31T18:16:37.588440Z"
    }
   },
   "source": [
    "from collections import Counter\n",
    "\n",
    "import pandas as pd\n",
    "from Bio import SeqIO\n",
    "from sklearn.model_selection import train_test_split"
   ],
   "outputs": [],
   "execution_count": 141
  },
  {
   "metadata": {
    "ExecuteTime": {
     "end_time": "2025-03-30T18:42:17.628483Z",
     "start_time": "2025-03-30T18:42:17.620490Z"
    }
   },
   "cell_type": "code",
   "source": [
    "# Đọc file FASTA\n",
    "def read_fasta_file(file_path):\n",
    "    records = []\n",
    "    accession_number = []\n",
    "    error_records = []\n",
    "    for record in SeqIO.parse(file_path, \"fasta\"):\n",
    "        records.append(record)\n",
    "        try:\n",
    "            accession_number.append(record.id.split(\"|\")[3])\n",
    "        except IndexError:\n",
    "            accession_number.append(f'{record.id.split(\"_\")[2]}_{record.id.split(\"_\")[3]}')\n",
    "    return records, accession_number, error_records"
   ],
   "id": "cbbbd1e2f72ac08e",
   "outputs": [],
   "execution_count": 75
  },
  {
   "metadata": {
    "ExecuteTime": {
     "end_time": "2025-03-30T18:44:22.931589Z",
     "start_time": "2025-03-30T18:44:22.307040Z"
    }
   },
   "cell_type": "code",
   "source": [
    "# Dữ liệu DeePhage\n",
    "ds1_temp = \"../data/deephage_data/Dataset-1_temperate.fasta\"\n",
    "ds1_viru = \"../data/deephage_data/Dataset-1_virulent.fasta\"\n",
    "ds2_temp = \"../data/deephage_data/Dataset-2_temperate.fasta\"\n",
    "ds2_viru = \"../data/deephage_data/Dataset-2_virulent.fasta\"\n",
    "\n",
    "ds1_temp_records, ds1_temp_accession_numbers, ds1_temp_error_records = read_fasta_file(ds1_temp)\n",
    "ds1_viru_records, ds1_viru_accession_numbers, ds1_viru_error_records = read_fasta_file(ds1_viru)\n",
    "ds2_temp_records, ds2_temp_accession_numbers, ds2_temp_error_records = read_fasta_file(ds2_temp)\n",
    "ds2_viru_records, ds2_viru_accession_numbers, ds2_viru_error_records = read_fasta_file(ds2_viru)\n",
    "\n",
    "deephage_accession_numbers = ds1_temp_accession_numbers + ds1_viru_accession_numbers + ds2_temp_accession_numbers + ds2_viru_accession_numbers\n",
    "\n",
    "print(\"Dataset 1 - Temperate:\", len(ds1_temp_records))\n",
    "print(\"Dataset 1 - Virulent:\", len(ds1_viru_records))\n",
    "print(\"Dataset 2 - Temperate:\", len(ds2_temp_records))\n",
    "print(\"Dataset 2 - Virulent:\", len(ds2_viru_records))\n",
    "\n",
    "print(\"Total temperate: \", len(ds1_temp_records) + len(ds2_temp_records))\n",
    "print(\"Total virulent: \", len(ds1_viru_records) + len(ds2_viru_records))"
   ],
   "id": "17b9c6bfde929b13",
   "outputs": [
    {
     "name": "stdout",
     "output_type": "stream",
     "text": [
      "Dataset 1 - Temperate: 148\n",
      "Dataset 1 - Virulent: 77\n",
      "Dataset 2 - Temperate: 429\n",
      "Dataset 2 - Virulent: 1211\n",
      "Total temperate:  577\n",
      "Total virulent:  1288\n"
     ]
    }
   ],
   "execution_count": 80
  },
  {
   "metadata": {
    "ExecuteTime": {
     "end_time": "2025-03-31T04:02:22.971672Z",
     "start_time": "2025-03-31T04:02:22.953666Z"
    }
   },
   "cell_type": "code",
   "source": [
    "deephage_ds1_temp_df = pd.DataFrame(zip(ds1_temp_accession_numbers, [\"Lysogenic\"] * len(ds1_temp_accession_numbers),\n",
    "                                        [\"dataset_1\"] * len(ds1_temp_accession_numbers)),\n",
    "                                    columns=[\"accession_number\", \"lifecycle\", \"note\"])\n",
    "deephage_ds1_viru_df = pd.DataFrame(zip(ds1_viru_accession_numbers, [\"Lytic\"] * len(ds1_viru_accession_numbers),\n",
    "                                        [\"dataset_1\"] * len(ds1_viru_accession_numbers)),\n",
    "                                    columns=[\"accession_number\", \"lifecycle\", \"note\"])\n",
    "deephage_ds2_temp_df = pd.DataFrame(zip(ds2_temp_accession_numbers, [\"Lysogenic\"] * len(ds2_temp_accession_numbers),\n",
    "                                        [\"dataset_2\"] * len(ds2_temp_accession_numbers)),\n",
    "                                    columns=[\"accession_number\", \"lifecycle\", \"note\"])\n",
    "deephage_ds2_viru_df = pd.DataFrame(zip(ds2_viru_accession_numbers, [\"Lytic\"] * len(ds2_viru_accession_numbers),\n",
    "                                        [\"dataset_2\"] * len(ds2_viru_accession_numbers)),\n",
    "                                    columns=[\"accession_number\", \"lifecycle\", \"note\"])\n",
    "\n",
    "# Concatenate the DataFrames\n",
    "deephage_ds_df = pd.concat([deephage_ds1_temp_df, deephage_ds1_viru_df, deephage_ds2_temp_df, deephage_ds2_viru_df],\n",
    "                           ignore_index=True)\n",
    "deephage_ds_df['source'] = 'deephage'\n",
    "deephage_ds_df.shape"
   ],
   "id": "60bdc3ae2814c7c6",
   "outputs": [
    {
     "data": {
      "text/plain": [
       "(1865, 4)"
      ]
     },
     "execution_count": 116,
     "metadata": {},
     "output_type": "execute_result"
    }
   ],
   "execution_count": 116
  },
  {
   "metadata": {
    "ExecuteTime": {
     "end_time": "2025-03-31T04:02:23.375326Z",
     "start_time": "2025-03-31T04:02:23.367329Z"
    }
   },
   "cell_type": "code",
   "source": "deephage_ds_df.head()",
   "id": "cef21390900f87ab",
   "outputs": [
    {
     "data": {
      "text/plain": [
       "  accession_number  lifecycle       note    source\n",
       "0        NC_013055  Lysogenic  dataset_1  deephage\n",
       "1        NC_011976  Lysogenic  dataset_1  deephage\n",
       "2        NC_011613  Lysogenic  dataset_1  deephage\n",
       "3        NC_011611  Lysogenic  dataset_1  deephage\n",
       "4        NC_011357  Lysogenic  dataset_1  deephage"
      ],
      "text/html": [
       "<div>\n",
       "<style scoped>\n",
       "    .dataframe tbody tr th:only-of-type {\n",
       "        vertical-align: middle;\n",
       "    }\n",
       "\n",
       "    .dataframe tbody tr th {\n",
       "        vertical-align: top;\n",
       "    }\n",
       "\n",
       "    .dataframe thead th {\n",
       "        text-align: right;\n",
       "    }\n",
       "</style>\n",
       "<table border=\"1\" class=\"dataframe\">\n",
       "  <thead>\n",
       "    <tr style=\"text-align: right;\">\n",
       "      <th></th>\n",
       "      <th>accession_number</th>\n",
       "      <th>lifecycle</th>\n",
       "      <th>note</th>\n",
       "      <th>source</th>\n",
       "    </tr>\n",
       "  </thead>\n",
       "  <tbody>\n",
       "    <tr>\n",
       "      <th>0</th>\n",
       "      <td>NC_013055</td>\n",
       "      <td>Lysogenic</td>\n",
       "      <td>dataset_1</td>\n",
       "      <td>deephage</td>\n",
       "    </tr>\n",
       "    <tr>\n",
       "      <th>1</th>\n",
       "      <td>NC_011976</td>\n",
       "      <td>Lysogenic</td>\n",
       "      <td>dataset_1</td>\n",
       "      <td>deephage</td>\n",
       "    </tr>\n",
       "    <tr>\n",
       "      <th>2</th>\n",
       "      <td>NC_011613</td>\n",
       "      <td>Lysogenic</td>\n",
       "      <td>dataset_1</td>\n",
       "      <td>deephage</td>\n",
       "    </tr>\n",
       "    <tr>\n",
       "      <th>3</th>\n",
       "      <td>NC_011611</td>\n",
       "      <td>Lysogenic</td>\n",
       "      <td>dataset_1</td>\n",
       "      <td>deephage</td>\n",
       "    </tr>\n",
       "    <tr>\n",
       "      <th>4</th>\n",
       "      <td>NC_011357</td>\n",
       "      <td>Lysogenic</td>\n",
       "      <td>dataset_1</td>\n",
       "      <td>deephage</td>\n",
       "    </tr>\n",
       "  </tbody>\n",
       "</table>\n",
       "</div>"
      ]
     },
     "execution_count": 117,
     "metadata": {},
     "output_type": "execute_result"
    }
   ],
   "execution_count": 117
  },
  {
   "metadata": {
    "ExecuteTime": {
     "end_time": "2025-03-31T04:02:24.335157Z",
     "start_time": "2025-03-31T04:02:24.215601Z"
    }
   },
   "cell_type": "code",
   "source": [
    "deep_pl_dataset = \"../data/deep_pl_data/deep_pl_dataset.xlsx\"\n",
    "train_df = pd.read_excel(deep_pl_dataset, sheet_name=\"Training dataset\")\n",
    "test_df = pd.read_excel(deep_pl_dataset, sheet_name=\"Test dataset\")\n",
    "\n",
    "print(\"DeepPL Train:\", train_df.shape)\n",
    "print(Counter(train_df['Lifecycle']))\n",
    "\n",
    "print(\"DeepPL Test:\", test_df.shape)\n",
    "print(Counter(test_df['Lifecycle']))\n",
    "\n",
    "deep_pl_accession_numbers = train_df['Accession number'].tolist() + test_df['Accession number'].tolist()"
   ],
   "id": "9039f013e0f4a81c",
   "outputs": [
    {
     "name": "stdout",
     "output_type": "stream",
     "text": [
      "DeepPL Train: (1806, 4)\n",
      "Counter({'Lytic': 1227, 'Lysogenic': 579})\n",
      "DeepPL Test: (374, 3)\n",
      "Counter({'Lytic': 245, 'Lysogenic': 129})\n"
     ]
    }
   ],
   "execution_count": 118
  },
  {
   "metadata": {
    "ExecuteTime": {
     "end_time": "2025-03-31T04:02:25.064127Z",
     "start_time": "2025-03-31T04:02:25.052127Z"
    }
   },
   "cell_type": "code",
   "source": [
    "deep_pl_train_df = train_df[['Accession number', 'Lifecycle', 'Usage']]\n",
    "deep_pl_train_df = deep_pl_train_df.rename(columns={\n",
    "    'Accession number': 'accession_number',\n",
    "    'Lifecycle': 'lifecycle',\n",
    "    'Usage': 'note'\n",
    "})\n",
    "deep_pl_train_df['source'] = 'deep_pl'\n",
    "\n",
    "deep_pd_test_df = test_df[['Accession number', 'Lifecycle', 'Usage']]\n",
    "deep_pd_test_df = deep_pd_test_df.rename(columns={\n",
    "    'Accession number': 'accession_number',\n",
    "    'Lifecycle': 'lifecycle',\n",
    "    'Usage': 'note'\n",
    "})\n",
    "deep_pd_test_df['source'] = 'deep_pl'\n",
    "\n",
    "deep_pl_df = pd.concat([deep_pl_train_df, deep_pd_test_df], ignore_index=True)"
   ],
   "id": "b4ac1f7318661599",
   "outputs": [],
   "execution_count": 119
  },
  {
   "metadata": {
    "ExecuteTime": {
     "end_time": "2025-03-31T04:02:25.637275Z",
     "start_time": "2025-03-31T04:02:25.617275Z"
    }
   },
   "cell_type": "code",
   "source": "deep_pl_df.sample(5)",
   "id": "ce8a7ddb99008ba0",
   "outputs": [
    {
     "data": {
      "text/plain": [
       "     accession_number  lifecycle      note   source\n",
       "1334        NC_028817      Lytic  Training  deep_pl\n",
       "2122         MW217515      Lytic      Test  deep_pl\n",
       "19          NC_020488  Lysogenic  Training  deep_pl\n",
       "1847         KY658674  Lysogenic      Test  deep_pl\n",
       "1411        NC_019925      Lytic  Training  deep_pl"
      ],
      "text/html": [
       "<div>\n",
       "<style scoped>\n",
       "    .dataframe tbody tr th:only-of-type {\n",
       "        vertical-align: middle;\n",
       "    }\n",
       "\n",
       "    .dataframe tbody tr th {\n",
       "        vertical-align: top;\n",
       "    }\n",
       "\n",
       "    .dataframe thead th {\n",
       "        text-align: right;\n",
       "    }\n",
       "</style>\n",
       "<table border=\"1\" class=\"dataframe\">\n",
       "  <thead>\n",
       "    <tr style=\"text-align: right;\">\n",
       "      <th></th>\n",
       "      <th>accession_number</th>\n",
       "      <th>lifecycle</th>\n",
       "      <th>note</th>\n",
       "      <th>source</th>\n",
       "    </tr>\n",
       "  </thead>\n",
       "  <tbody>\n",
       "    <tr>\n",
       "      <th>1334</th>\n",
       "      <td>NC_028817</td>\n",
       "      <td>Lytic</td>\n",
       "      <td>Training</td>\n",
       "      <td>deep_pl</td>\n",
       "    </tr>\n",
       "    <tr>\n",
       "      <th>2122</th>\n",
       "      <td>MW217515</td>\n",
       "      <td>Lytic</td>\n",
       "      <td>Test</td>\n",
       "      <td>deep_pl</td>\n",
       "    </tr>\n",
       "    <tr>\n",
       "      <th>19</th>\n",
       "      <td>NC_020488</td>\n",
       "      <td>Lysogenic</td>\n",
       "      <td>Training</td>\n",
       "      <td>deep_pl</td>\n",
       "    </tr>\n",
       "    <tr>\n",
       "      <th>1847</th>\n",
       "      <td>KY658674</td>\n",
       "      <td>Lysogenic</td>\n",
       "      <td>Test</td>\n",
       "      <td>deep_pl</td>\n",
       "    </tr>\n",
       "    <tr>\n",
       "      <th>1411</th>\n",
       "      <td>NC_019925</td>\n",
       "      <td>Lytic</td>\n",
       "      <td>Training</td>\n",
       "      <td>deep_pl</td>\n",
       "    </tr>\n",
       "  </tbody>\n",
       "</table>\n",
       "</div>"
      ]
     },
     "execution_count": 120,
     "metadata": {},
     "output_type": "execute_result"
    }
   ],
   "execution_count": 120
  },
  {
   "metadata": {
    "ExecuteTime": {
     "end_time": "2025-03-31T15:56:06.548525Z",
     "start_time": "2025-03-31T15:56:06.502834Z"
    }
   },
   "cell_type": "code",
   "source": [
    "import numpy as np\n",
    "\n",
    "combined_df = pd.merge(deephage_ds_df, deep_pl_df, on='accession_number', suffixes=('_deephage', '_deep_pl'),\n",
    "                       how='outer', indicator=True)\n",
    "combined_df['is_valid'] = combined_df.apply(\n",
    "    lambda row: 'valid' if row['lifecycle_deephage'] == row['lifecycle_deep_pl'] or pd.isna(row['lifecycle_deephage']) or pd.isna(row['lifecycle_deep_pl']) else 'invalid', axis=1)\n",
    "\n",
    "combined_df['label'] = combined_df.apply(\n",
    "    lambda row: (\n",
    "        # Nếu lifecycle_deephage khác null và lifecycle_deep_pl khác null, lấy giá trị từ lifecycle_deephage\n",
    "        row['lifecycle_deephage'] if pd.notna(row['lifecycle_deephage']) and pd.notna(row['lifecycle_deep_pl']) else\n",
    "        # Nếu lifecycle_deephage là null và lifecycle_deep_pl khác null, lấy giá trị từ lifecycle_deep_pl\n",
    "        row['lifecycle_deep_pl'] if pd.isna(row['lifecycle_deephage']) and pd.notna(row['lifecycle_deep_pl']) else\n",
    "        # Nếu lifecycle_deephage khác null và lifecycle_deep_pl là null, lấy giá trị từ lifecycle_deephage\n",
    "        row['lifecycle_deephage'] if pd.notna(row['lifecycle_deephage']) and pd.isna(row['lifecycle_deep_pl']) else\n",
    "        # Trường hợp còn lại (cả hai đều null)\n",
    "        np.nan\n",
    "    ),\n",
    "    axis=1\n",
    ")\n",
    "combined_df.sample(5)"
   ],
   "id": "564f1bf693f52431",
   "outputs": [
    {
     "data": {
      "text/plain": [
       "     accession_number lifecycle_deephage note_deephage source_deephage  \\\n",
       "581         NC_007924          Lysogenic     dataset_2        deephage   \n",
       "213          MG676466                NaN           NaN             NaN   \n",
       "2179        NC_042354              Lytic     dataset_2        deephage   \n",
       "283          MT227924                NaN           NaN             NaN   \n",
       "1422        NC_024785              Lytic     dataset_2        deephage   \n",
       "\n",
       "     lifecycle_deep_pl note_deep_pl source_deep_pl      _merge is_valid  \\\n",
       "581          Lysogenic     Training        deep_pl        both    valid   \n",
       "213              Lytic         Test        deep_pl  right_only    valid   \n",
       "2179             Lytic     Training        deep_pl        both    valid   \n",
       "283          Lysogenic         Test        deep_pl  right_only    valid   \n",
       "1422             Lytic     Training        deep_pl        both    valid   \n",
       "\n",
       "          label  \n",
       "581   Lysogenic  \n",
       "213       Lytic  \n",
       "2179      Lytic  \n",
       "283   Lysogenic  \n",
       "1422      Lytic  "
      ],
      "text/html": [
       "<div>\n",
       "<style scoped>\n",
       "    .dataframe tbody tr th:only-of-type {\n",
       "        vertical-align: middle;\n",
       "    }\n",
       "\n",
       "    .dataframe tbody tr th {\n",
       "        vertical-align: top;\n",
       "    }\n",
       "\n",
       "    .dataframe thead th {\n",
       "        text-align: right;\n",
       "    }\n",
       "</style>\n",
       "<table border=\"1\" class=\"dataframe\">\n",
       "  <thead>\n",
       "    <tr style=\"text-align: right;\">\n",
       "      <th></th>\n",
       "      <th>accession_number</th>\n",
       "      <th>lifecycle_deephage</th>\n",
       "      <th>note_deephage</th>\n",
       "      <th>source_deephage</th>\n",
       "      <th>lifecycle_deep_pl</th>\n",
       "      <th>note_deep_pl</th>\n",
       "      <th>source_deep_pl</th>\n",
       "      <th>_merge</th>\n",
       "      <th>is_valid</th>\n",
       "      <th>label</th>\n",
       "    </tr>\n",
       "  </thead>\n",
       "  <tbody>\n",
       "    <tr>\n",
       "      <th>581</th>\n",
       "      <td>NC_007924</td>\n",
       "      <td>Lysogenic</td>\n",
       "      <td>dataset_2</td>\n",
       "      <td>deephage</td>\n",
       "      <td>Lysogenic</td>\n",
       "      <td>Training</td>\n",
       "      <td>deep_pl</td>\n",
       "      <td>both</td>\n",
       "      <td>valid</td>\n",
       "      <td>Lysogenic</td>\n",
       "    </tr>\n",
       "    <tr>\n",
       "      <th>213</th>\n",
       "      <td>MG676466</td>\n",
       "      <td>NaN</td>\n",
       "      <td>NaN</td>\n",
       "      <td>NaN</td>\n",
       "      <td>Lytic</td>\n",
       "      <td>Test</td>\n",
       "      <td>deep_pl</td>\n",
       "      <td>right_only</td>\n",
       "      <td>valid</td>\n",
       "      <td>Lytic</td>\n",
       "    </tr>\n",
       "    <tr>\n",
       "      <th>2179</th>\n",
       "      <td>NC_042354</td>\n",
       "      <td>Lytic</td>\n",
       "      <td>dataset_2</td>\n",
       "      <td>deephage</td>\n",
       "      <td>Lytic</td>\n",
       "      <td>Training</td>\n",
       "      <td>deep_pl</td>\n",
       "      <td>both</td>\n",
       "      <td>valid</td>\n",
       "      <td>Lytic</td>\n",
       "    </tr>\n",
       "    <tr>\n",
       "      <th>283</th>\n",
       "      <td>MT227924</td>\n",
       "      <td>NaN</td>\n",
       "      <td>NaN</td>\n",
       "      <td>NaN</td>\n",
       "      <td>Lysogenic</td>\n",
       "      <td>Test</td>\n",
       "      <td>deep_pl</td>\n",
       "      <td>right_only</td>\n",
       "      <td>valid</td>\n",
       "      <td>Lysogenic</td>\n",
       "    </tr>\n",
       "    <tr>\n",
       "      <th>1422</th>\n",
       "      <td>NC_024785</td>\n",
       "      <td>Lytic</td>\n",
       "      <td>dataset_2</td>\n",
       "      <td>deephage</td>\n",
       "      <td>Lytic</td>\n",
       "      <td>Training</td>\n",
       "      <td>deep_pl</td>\n",
       "      <td>both</td>\n",
       "      <td>valid</td>\n",
       "      <td>Lytic</td>\n",
       "    </tr>\n",
       "  </tbody>\n",
       "</table>\n",
       "</div>"
      ]
     },
     "execution_count": 134,
     "metadata": {},
     "output_type": "execute_result"
    }
   ],
   "execution_count": 134
  },
  {
   "metadata": {
    "ExecuteTime": {
     "end_time": "2025-03-31T15:56:11.299524Z",
     "start_time": "2025-03-31T15:56:11.282837Z"
    }
   },
   "cell_type": "code",
   "source": "combined_df.sample(10)",
   "id": "bd2821d21de0f0c1",
   "outputs": [
    {
     "data": {
      "text/plain": [
       "     accession_number lifecycle_deephage note_deephage source_deephage  \\\n",
       "1235        NC_021867              Lytic     dataset_2        deephage   \n",
       "581         NC_007924          Lysogenic     dataset_2        deephage   \n",
       "2168        NC_042338          Lysogenic     dataset_2        deephage   \n",
       "167          KX581095                NaN           NaN             NaN   \n",
       "297          MW073017                NaN           NaN             NaN   \n",
       "1296        NC_023007          Lysogenic     dataset_2        deephage   \n",
       "191          KY883641                NaN           NaN             NaN   \n",
       "486         NC_005356          Lysogenic     dataset_1        deephage   \n",
       "1451        NC_025434          Lysogenic     dataset_2        deephage   \n",
       "1653        NC_028743          Lysogenic     dataset_2        deephage   \n",
       "\n",
       "     lifecycle_deep_pl note_deep_pl source_deep_pl      _merge is_valid  \\\n",
       "1235         Lysogenic     Training        deep_pl        both  invalid   \n",
       "581          Lysogenic     Training        deep_pl        both    valid   \n",
       "2168         Lysogenic     Training        deep_pl        both    valid   \n",
       "167          Lysogenic         Test        deep_pl  right_only    valid   \n",
       "297              Lytic         Test        deep_pl  right_only    valid   \n",
       "1296         Lysogenic     Training        deep_pl        both    valid   \n",
       "191              Lytic         Test        deep_pl  right_only    valid   \n",
       "486          Lysogenic     Training        deep_pl        both    valid   \n",
       "1451         Lysogenic     Training        deep_pl        both    valid   \n",
       "1653         Lysogenic     Training        deep_pl        both    valid   \n",
       "\n",
       "          label  \n",
       "1235      Lytic  \n",
       "581   Lysogenic  \n",
       "2168  Lysogenic  \n",
       "167   Lysogenic  \n",
       "297       Lytic  \n",
       "1296  Lysogenic  \n",
       "191       Lytic  \n",
       "486   Lysogenic  \n",
       "1451  Lysogenic  \n",
       "1653  Lysogenic  "
      ],
      "text/html": [
       "<div>\n",
       "<style scoped>\n",
       "    .dataframe tbody tr th:only-of-type {\n",
       "        vertical-align: middle;\n",
       "    }\n",
       "\n",
       "    .dataframe tbody tr th {\n",
       "        vertical-align: top;\n",
       "    }\n",
       "\n",
       "    .dataframe thead th {\n",
       "        text-align: right;\n",
       "    }\n",
       "</style>\n",
       "<table border=\"1\" class=\"dataframe\">\n",
       "  <thead>\n",
       "    <tr style=\"text-align: right;\">\n",
       "      <th></th>\n",
       "      <th>accession_number</th>\n",
       "      <th>lifecycle_deephage</th>\n",
       "      <th>note_deephage</th>\n",
       "      <th>source_deephage</th>\n",
       "      <th>lifecycle_deep_pl</th>\n",
       "      <th>note_deep_pl</th>\n",
       "      <th>source_deep_pl</th>\n",
       "      <th>_merge</th>\n",
       "      <th>is_valid</th>\n",
       "      <th>label</th>\n",
       "    </tr>\n",
       "  </thead>\n",
       "  <tbody>\n",
       "    <tr>\n",
       "      <th>1235</th>\n",
       "      <td>NC_021867</td>\n",
       "      <td>Lytic</td>\n",
       "      <td>dataset_2</td>\n",
       "      <td>deephage</td>\n",
       "      <td>Lysogenic</td>\n",
       "      <td>Training</td>\n",
       "      <td>deep_pl</td>\n",
       "      <td>both</td>\n",
       "      <td>invalid</td>\n",
       "      <td>Lytic</td>\n",
       "    </tr>\n",
       "    <tr>\n",
       "      <th>581</th>\n",
       "      <td>NC_007924</td>\n",
       "      <td>Lysogenic</td>\n",
       "      <td>dataset_2</td>\n",
       "      <td>deephage</td>\n",
       "      <td>Lysogenic</td>\n",
       "      <td>Training</td>\n",
       "      <td>deep_pl</td>\n",
       "      <td>both</td>\n",
       "      <td>valid</td>\n",
       "      <td>Lysogenic</td>\n",
       "    </tr>\n",
       "    <tr>\n",
       "      <th>2168</th>\n",
       "      <td>NC_042338</td>\n",
       "      <td>Lysogenic</td>\n",
       "      <td>dataset_2</td>\n",
       "      <td>deephage</td>\n",
       "      <td>Lysogenic</td>\n",
       "      <td>Training</td>\n",
       "      <td>deep_pl</td>\n",
       "      <td>both</td>\n",
       "      <td>valid</td>\n",
       "      <td>Lysogenic</td>\n",
       "    </tr>\n",
       "    <tr>\n",
       "      <th>167</th>\n",
       "      <td>KX581095</td>\n",
       "      <td>NaN</td>\n",
       "      <td>NaN</td>\n",
       "      <td>NaN</td>\n",
       "      <td>Lysogenic</td>\n",
       "      <td>Test</td>\n",
       "      <td>deep_pl</td>\n",
       "      <td>right_only</td>\n",
       "      <td>valid</td>\n",
       "      <td>Lysogenic</td>\n",
       "    </tr>\n",
       "    <tr>\n",
       "      <th>297</th>\n",
       "      <td>MW073017</td>\n",
       "      <td>NaN</td>\n",
       "      <td>NaN</td>\n",
       "      <td>NaN</td>\n",
       "      <td>Lytic</td>\n",
       "      <td>Test</td>\n",
       "      <td>deep_pl</td>\n",
       "      <td>right_only</td>\n",
       "      <td>valid</td>\n",
       "      <td>Lytic</td>\n",
       "    </tr>\n",
       "    <tr>\n",
       "      <th>1296</th>\n",
       "      <td>NC_023007</td>\n",
       "      <td>Lysogenic</td>\n",
       "      <td>dataset_2</td>\n",
       "      <td>deephage</td>\n",
       "      <td>Lysogenic</td>\n",
       "      <td>Training</td>\n",
       "      <td>deep_pl</td>\n",
       "      <td>both</td>\n",
       "      <td>valid</td>\n",
       "      <td>Lysogenic</td>\n",
       "    </tr>\n",
       "    <tr>\n",
       "      <th>191</th>\n",
       "      <td>KY883641</td>\n",
       "      <td>NaN</td>\n",
       "      <td>NaN</td>\n",
       "      <td>NaN</td>\n",
       "      <td>Lytic</td>\n",
       "      <td>Test</td>\n",
       "      <td>deep_pl</td>\n",
       "      <td>right_only</td>\n",
       "      <td>valid</td>\n",
       "      <td>Lytic</td>\n",
       "    </tr>\n",
       "    <tr>\n",
       "      <th>486</th>\n",
       "      <td>NC_005356</td>\n",
       "      <td>Lysogenic</td>\n",
       "      <td>dataset_1</td>\n",
       "      <td>deephage</td>\n",
       "      <td>Lysogenic</td>\n",
       "      <td>Training</td>\n",
       "      <td>deep_pl</td>\n",
       "      <td>both</td>\n",
       "      <td>valid</td>\n",
       "      <td>Lysogenic</td>\n",
       "    </tr>\n",
       "    <tr>\n",
       "      <th>1451</th>\n",
       "      <td>NC_025434</td>\n",
       "      <td>Lysogenic</td>\n",
       "      <td>dataset_2</td>\n",
       "      <td>deephage</td>\n",
       "      <td>Lysogenic</td>\n",
       "      <td>Training</td>\n",
       "      <td>deep_pl</td>\n",
       "      <td>both</td>\n",
       "      <td>valid</td>\n",
       "      <td>Lysogenic</td>\n",
       "    </tr>\n",
       "    <tr>\n",
       "      <th>1653</th>\n",
       "      <td>NC_028743</td>\n",
       "      <td>Lysogenic</td>\n",
       "      <td>dataset_2</td>\n",
       "      <td>deephage</td>\n",
       "      <td>Lysogenic</td>\n",
       "      <td>Training</td>\n",
       "      <td>deep_pl</td>\n",
       "      <td>both</td>\n",
       "      <td>valid</td>\n",
       "      <td>Lysogenic</td>\n",
       "    </tr>\n",
       "  </tbody>\n",
       "</table>\n",
       "</div>"
      ]
     },
     "execution_count": 135,
     "metadata": {},
     "output_type": "execute_result"
    }
   ],
   "execution_count": 135
  },
  {
   "metadata": {
    "ExecuteTime": {
     "end_time": "2025-03-31T15:50:04.123532Z",
     "start_time": "2025-03-31T15:50:04.106528Z"
    }
   },
   "cell_type": "code",
   "source": "combined_df.columns",
   "id": "ac8d416b51d9e32",
   "outputs": [
    {
     "data": {
      "text/plain": [
       "Index(['accession_number', 'lifecycle_deephage', 'note_deephage',\n",
       "       'source_deephage', 'lifecycle_deep_pl', 'note_deep_pl',\n",
       "       'source_deep_pl', '_merge', 'is_valid'],\n",
       "      dtype='object')"
      ]
     },
     "execution_count": 130,
     "metadata": {},
     "output_type": "execute_result"
    }
   ],
   "execution_count": 130
  },
  {
   "metadata": {
    "ExecuteTime": {
     "end_time": "2025-03-31T18:12:27.013914Z",
     "start_time": "2025-03-31T18:12:26.980913Z"
    }
   },
   "cell_type": "code",
   "source": [
    "combined_df.to_csv(\"../data/my_data/aggregated_deephage_deeppl_data/combined_ds.csv\", index=False)\n",
    "combined_valid_df = combined_df[combined_df['is_valid'] == 'valid']\n",
    "combined_valid_df.to_csv(\"../data/my_data/aggregated_deephage_deeppl_data/valid_ds.csv\", index=False)"
   ],
   "id": "31de66f06f4431a5",
   "outputs": [],
   "execution_count": 139
  },
  {
   "metadata": {
    "ExecuteTime": {
     "end_time": "2025-03-31T18:16:42.962793Z",
     "start_time": "2025-03-31T18:16:42.942785Z"
    }
   },
   "cell_type": "code",
   "source": [
    "train_df, test_df = train_test_split(combined_valid_df, test_size=0.2, stratify=combined_valid_df['label'], random_state=42)\n",
    "train_df.to_csv(\"../data/my_data/aggregated_deephage_deeppl_data/train.csv\", index=False)\n",
    "test_df.to_csv(\"../data/my_data/aggregated_deephage_deeppl_data/test.csv\", index=False)"
   ],
   "id": "b1d356ff8e4b4f75",
   "outputs": [],
   "execution_count": 142
  }
 ],
 "metadata": {
  "kernelspec": {
   "display_name": "Python 3",
   "language": "python",
   "name": "python3"
  },
  "language_info": {
   "codemirror_mode": {
    "name": "ipython",
    "version": 2
   },
   "file_extension": ".py",
   "mimetype": "text/x-python",
   "name": "python",
   "nbconvert_exporter": "python",
   "pygments_lexer": "ipython2",
   "version": "2.7.6"
  }
 },
 "nbformat": 4,
 "nbformat_minor": 5
}
