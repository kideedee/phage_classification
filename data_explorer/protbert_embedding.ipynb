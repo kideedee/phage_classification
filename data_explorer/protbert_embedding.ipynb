{
 "cells": [
  {
   "cell_type": "code",
   "id": "initial_id",
   "metadata": {
    "collapsed": true,
    "ExecuteTime": {
     "end_time": "2025-02-02T16:00:59.739892Z",
     "start_time": "2025-02-02T16:00:59.633026Z"
    }
   },
   "source": [
    "import os\n",
    "\n",
    "import h5py\n",
    "import numpy as np"
   ],
   "outputs": [],
   "execution_count": 1
  },
  {
   "metadata": {
    "ExecuteTime": {
     "end_time": "2025-02-02T16:01:21.616602Z",
     "start_time": "2025-02-02T16:01:21.611603Z"
    }
   },
   "cell_type": "code",
   "source": [
    "mode = 'fill'\n",
    "type = 'train'\n",
    "data_dir = f\"../data/my_data/protbert_embedding_with_label/{mode}/{type}\""
   ],
   "id": "ed56484127516af6",
   "outputs": [],
   "execution_count": 3
  },
  {
   "metadata": {},
   "cell_type": "code",
   "outputs": [],
   "execution_count": null,
   "source": [
    "for folder in os.listdir(data_dir):\n",
    "    if folder == '1200_1800' or folder == '800_1200' or folder == '100_400':\n",
    "        continue\n",
    "    print(folder)\n",
    "    for file in os.listdir(f\"{data_dir}/{folder}\"):\n",
    "        with h5py.File(os.path.join(data_dir, folder, file), 'a') as f:\n",
    "            print(list(f.keys()))\n",
    "            print(f['embeddings'].shape)\n",
    "            \n",
    "            if file.__contains__('temp'):\n",
    "                labels = np.array([0]*40000)\n",
    "            else:\n",
    "                labels = np.array([1]*40000)\n",
    "            f.create_dataset('labels', data=labels)"
   ],
   "id": "d80b6840d65d5d22"
  },
  {
   "metadata": {
    "ExecuteTime": {
     "end_time": "2025-02-02T16:34:12.544977Z",
     "start_time": "2025-02-02T16:34:12.529981Z"
    }
   },
   "cell_type": "code",
   "source": [
    "with h5py.File('../data/my_data/protbert_embedding_with_label/trim/train/100_400/train_100_400_1.h5', 'r') as f:\n",
    "    print(list(f.keys()))\n",
    "    print(f['labels'].shape)\n",
    "    print(f['labels'][0])\n",
    "    print(f['embeddings'][0].shape)\n",
    "    print(f['embeddings'][0])\n",
    "    f['labels']"
   ],
   "id": "ae103d236f29083e",
   "outputs": [
    {
     "name": "stdout",
     "output_type": "stream",
     "text": [
      "['embeddings', 'labels']\n",
      "(80000,)\n",
      "0\n",
      "(1024,)\n",
      "[ 0.03148131 -0.01706864  0.06480893 ...  0.02452047 -0.01499737\n",
      "  0.01736045]\n"
     ]
    }
   ],
   "execution_count": 7
  },
  {
   "metadata": {},
   "cell_type": "code",
   "outputs": [],
   "execution_count": null,
   "source": "",
   "id": "91698d561008be4a"
  }
 ],
 "metadata": {
  "kernelspec": {
   "display_name": "Python 3",
   "language": "python",
   "name": "python3"
  },
  "language_info": {
   "codemirror_mode": {
    "name": "ipython",
    "version": 2
   },
   "file_extension": ".py",
   "mimetype": "text/x-python",
   "name": "python",
   "nbconvert_exporter": "python",
   "pygments_lexer": "ipython2",
   "version": "2.7.6"
  }
 },
 "nbformat": 4,
 "nbformat_minor": 5
}
