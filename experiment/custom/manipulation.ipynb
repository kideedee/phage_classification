{
 "cells": [
  {
   "cell_type": "code",
   "id": "initial_id",
   "metadata": {
    "collapsed": true,
    "ExecuteTime": {
     "end_time": "2025-04-06T15:08:56.948158Z",
     "start_time": "2025-04-06T15:08:56.330940Z"
    }
   },
   "source": [
    "import numpy as np\n",
    "import pandas as pd\n",
    "from Bio.Seq import Seq\n",
    "from gensim.models import Word2Vec\n",
    "\n",
    "from common.csv_sequence_windowing import window_sequences_parallel\n",
    "from common.env_config import config"
   ],
   "outputs": [],
   "execution_count": 1
  },
  {
   "metadata": {
    "ExecuteTime": {
     "end_time": "2025-04-06T15:08:58.955411Z",
     "start_time": "2025-04-06T15:08:57.985664Z"
    }
   },
   "cell_type": "code",
   "source": [
    "train_df = pd.read_csv(config.TRAIN_DATA_CSV_FILE)\n",
    "val_df = pd.read_csv(config.VAL_DATA_CSV_FILE)\n",
    "\n",
    "print(\"Train DataFrame shape:\", train_df.shape)\n",
    "print(\"Test DataFrame shape:\", val_df.shape)"
   ],
   "id": "b72990519716a82d",
   "outputs": [
    {
     "name": "stdout",
     "output_type": "stream",
     "text": [
      "Train DataFrame shape: (1733, 2)\n",
      "Test DataFrame shape: (434, 2)\n"
     ]
    }
   ],
   "execution_count": 2
  },
  {
   "metadata": {
    "ExecuteTime": {
     "end_time": "2025-04-06T15:08:59.667757Z",
     "start_time": "2025-04-06T15:08:59.655775Z"
    }
   },
   "cell_type": "code",
   "source": [
    "train_df = train_df.dropna()\n",
    "val_df = val_df.dropna()\n",
    "print(\"Train DataFrame shape after dropping NaN values:\", train_df.shape)\n",
    "print(\"Test DataFrame shape after dropping NaN values:\", val_df.shape)"
   ],
   "id": "aaff41595995d093",
   "outputs": [
    {
     "name": "stdout",
     "output_type": "stream",
     "text": [
      "Train DataFrame shape after dropping NaN values: (1733, 2)\n",
      "Test DataFrame shape after dropping NaN values: (433, 2)\n"
     ]
    }
   ],
   "execution_count": 3
  },
  {
   "metadata": {
    "ExecuteTime": {
     "end_time": "2025-04-06T15:09:04.254416Z",
     "start_time": "2025-04-06T15:09:00.788767Z"
    }
   },
   "cell_type": "code",
   "source": [
    "windowed_train_df = window_sequences_parallel(train_df, overlap_percent=50)\n",
    "windowed_val_df = window_sequences_parallel(val_df, overlap_percent=50)\n",
    "\n",
    "del train_df\n",
    "del val_df"
   ],
   "id": "89071db10e93d2df",
   "outputs": [
    {
     "name": "stderr",
     "output_type": "stream",
     "text": [
      "[Parallel(n_jobs=-1)]: Using backend LokyBackend with 20 concurrent workers.\n",
      "[Parallel(n_jobs=-1)]: Done   1 tasks      | elapsed:    1.2s\n",
      "[Parallel(n_jobs=-1)]: Done  10 tasks      | elapsed:    1.2s\n",
      "[Parallel(n_jobs=-1)]: Done  21 tasks      | elapsed:    1.3s\n",
      "[Parallel(n_jobs=-1)]: Done  32 tasks      | elapsed:    1.3s\n",
      "[Parallel(n_jobs=-1)]: Done  45 tasks      | elapsed:    1.3s\n",
      "[Parallel(n_jobs=-1)]: Done  58 tasks      | elapsed:    1.3s\n",
      "[Parallel(n_jobs=-1)]: Batch computation too fast (0.18926339120779512s.) Setting batch_size=2.\n",
      "[Parallel(n_jobs=-1)]: Done  73 tasks      | elapsed:    1.4s\n",
      "[Parallel(n_jobs=-1)]: Done  88 tasks      | elapsed:    1.4s\n",
      "[Parallel(n_jobs=-1)]: Done 105 tasks      | elapsed:    1.4s\n",
      "[Parallel(n_jobs=-1)]: Batch computation too fast (0.038996219635009766s.) Setting batch_size=4.\n",
      "[Parallel(n_jobs=-1)]: Done 125 tasks      | elapsed:    1.4s\n",
      "[Parallel(n_jobs=-1)]: Done 162 tasks      | elapsed:    1.4s\n",
      "[Parallel(n_jobs=-1)]: Done 200 tasks      | elapsed:    1.5s\n",
      "[Parallel(n_jobs=-1)]: Batch computation too fast (0.051000356674194336s.) Setting batch_size=8.\n",
      "[Parallel(n_jobs=-1)]: Done 284 tasks      | elapsed:    1.5s\n",
      "[Parallel(n_jobs=-1)]: Batch computation too fast (0.08562898635864258s.) Setting batch_size=16.\n",
      "[Parallel(n_jobs=-1)]: Done 376 tasks      | elapsed:    1.6s\n",
      "[Parallel(n_jobs=-1)]: Done 560 tasks      | elapsed:    1.7s\n",
      "[Parallel(n_jobs=-1)]: Batch computation too fast (0.18699908256530762s.) Setting batch_size=32.\n",
      "[Parallel(n_jobs=-1)]: Done 808 tasks      | elapsed:    1.9s\n",
      "[Parallel(n_jobs=-1)]: Done 1208 tasks      | elapsed:    2.0s\n",
      "[Parallel(n_jobs=-1)]: Done 1356 tasks      | elapsed:    2.1s\n",
      "[Parallel(n_jobs=-1)]: Done 1410 tasks      | elapsed:    2.1s\n",
      "[Parallel(n_jobs=-1)]: Done 1464 tasks      | elapsed:    2.1s\n",
      "[Parallel(n_jobs=-1)]: Done 1522 tasks      | elapsed:    2.1s\n",
      "[Parallel(n_jobs=-1)]: Done 1580 tasks      | elapsed:    2.2s\n",
      "[Parallel(n_jobs=-1)]: Done 1642 tasks      | elapsed:    2.2s\n",
      "[Parallel(n_jobs=-1)]: Done 1694 out of 1733 | elapsed:    2.2s remaining:    0.0s\n",
      "[Parallel(n_jobs=-1)]: Done 1733 out of 1733 | elapsed:    2.3s finished\n",
      "[Parallel(n_jobs=-1)]: Using backend LokyBackend with 20 concurrent workers.\n",
      "[Parallel(n_jobs=-1)]: Done   1 tasks      | elapsed:    0.0s\n",
      "[Parallel(n_jobs=-1)]: Batch computation too fast (0.0050814151763916016s.) Setting batch_size=2.\n",
      "[Parallel(n_jobs=-1)]: Done  10 tasks      | elapsed:    0.0s\n",
      "[Parallel(n_jobs=-1)]: Done  21 tasks      | elapsed:    0.0s\n",
      "[Parallel(n_jobs=-1)]: Done  32 tasks      | elapsed:    0.0s\n",
      "[Parallel(n_jobs=-1)]: Batch computation too fast (0.03599953651428223s.) Setting batch_size=4.\n",
      "[Parallel(n_jobs=-1)]: Done  50 tasks      | elapsed:    0.0s\n",
      "[Parallel(n_jobs=-1)]: Done  76 tasks      | elapsed:    0.0s\n",
      "[Parallel(n_jobs=-1)]: Done 106 tasks      | elapsed:    0.0s\n",
      "[Parallel(n_jobs=-1)]: Batch computation too fast (0.05200052261352539s.) Setting batch_size=8.\n",
      "[Parallel(n_jobs=-1)]: Done 152 tasks      | elapsed:    0.0s\n",
      "[Parallel(n_jobs=-1)]: Done 220 tasks      | elapsed:    0.0s\n",
      "[Parallel(n_jobs=-1)]: Done 282 tasks      | elapsed:    0.1s\n",
      "[Parallel(n_jobs=-1)]: Done 301 tasks      | elapsed:    0.1s\n",
      "[Parallel(n_jobs=-1)]: Done 320 tasks      | elapsed:    0.1s\n",
      "[Parallel(n_jobs=-1)]: Done 341 tasks      | elapsed:    0.1s\n",
      "[Parallel(n_jobs=-1)]: Done 362 tasks      | elapsed:    0.1s\n",
      "[Parallel(n_jobs=-1)]: Done 385 tasks      | elapsed:    0.1s\n",
      "[Parallel(n_jobs=-1)]: Done 433 out of 433 | elapsed:    0.2s finished\n"
     ]
    }
   ],
   "execution_count": 4
  },
  {
   "metadata": {
    "ExecuteTime": {
     "end_time": "2025-04-06T15:09:05.519363Z",
     "start_time": "2025-04-06T15:09:05.508353Z"
    }
   },
   "cell_type": "code",
   "source": [
    "X_train = windowed_train_df[\"sequence\"].values\n",
    "y_train = windowed_train_df[\"target\"].values\n",
    "X_val = windowed_val_df[\"sequence\"].values\n",
    "y_val = windowed_val_df[\"target\"].values\n",
    "\n",
    "del windowed_train_df\n",
    "del windowed_val_df\n",
    "\n",
    "print(f\"Số phage trong tập huấn luyện: {len(X_train)}\")\n",
    "print(f\"Số phage trong tập kiểm tra: {len(X_val)}\")"
   ],
   "id": "c4efbf01ae8452c8",
   "outputs": [
    {
     "name": "stdout",
     "output_type": "stream",
     "text": [
      "Số phage trong tập huấn luyện: 497186\n",
      "Số phage trong tập kiểm tra: 127237\n"
     ]
    }
   ],
   "execution_count": 5
  },
  {
   "metadata": {
    "ExecuteTime": {
     "end_time": "2025-04-06T15:09:09.243783Z",
     "start_time": "2025-04-06T15:09:07.240184Z"
    }
   },
   "cell_type": "code",
   "source": [
    "def reverse_complement_augmentation(sequences, labels):\n",
    "    \"\"\"Tạo dữ liệu bổ sung bằng cách đảo ngược bổ sung chuỗi DNA.\"\"\"\n",
    "    augmented_sequences = []\n",
    "    augmented_labels = []\n",
    "\n",
    "    for seq, label in zip(sequences, labels):\n",
    "        # Thêm chuỗi gốc\n",
    "        augmented_sequences.append(seq)\n",
    "        augmented_labels.append(label)\n",
    "\n",
    "        # Thêm chuỗi đảo ngược bổ sung\n",
    "        reverse_comp = str(Seq(seq).reverse_complement())\n",
    "        augmented_sequences.append(reverse_comp)\n",
    "        augmented_labels.append(label)\n",
    "\n",
    "    return np.array(augmented_sequences), np.array(augmented_labels)\n",
    "\n",
    "\n",
    "# Áp dụng reverse complement augmentation\n",
    "X_train_aug, y_train_aug = reverse_complement_augmentation(X_train, y_train)\n",
    "\n",
    "del X_train\n",
    "del y_train\n",
    "\n",
    "print(f\"Số phage trong tập huấn luyện sau augmentation: {len(X_train_aug)}\")"
   ],
   "id": "c734db35106c2495",
   "outputs": [
    {
     "name": "stdout",
     "output_type": "stream",
     "text": [
      "Số phage trong tập huấn luyện sau augmentation: 994372\n"
     ]
    }
   ],
   "execution_count": 6
  },
  {
   "metadata": {
    "ExecuteTime": {
     "end_time": "2025-04-06T15:18:59.547537Z",
     "start_time": "2025-04-06T15:09:09.250783Z"
    }
   },
   "cell_type": "code",
   "source": [
    "def generate_kmers(sequence, k=6):\n",
    "    \"\"\"Tạo k-mers từ một chuỗi DNA bằng cách dùng sliding window.\"\"\"\n",
    "    return [sequence[i:i + k] for i in range(len(sequence) - k + 1)]\n",
    "\n",
    "\n",
    "def prepare_sequences_for_word2vec(sequences, k=6):\n",
    "    \"\"\"Chuẩn bị chuỗi cho Word2Vec bằng cách chuyển đổi thành các kmer.\"\"\"\n",
    "    corpus = []\n",
    "    for seq in sequences:\n",
    "        # Tạo k-mers và chỉ giữ những k-mer hợp lệ (chỉ chứa A, C, G, T)\n",
    "        valid_kmers = [kmer for kmer in generate_kmers(seq, k)\n",
    "                       if all(nucleotide in \"ACGT\" for nucleotide in kmer)]\n",
    "        corpus.append(valid_kmers)\n",
    "    return corpus\n",
    "\n",
    "\n",
    "# # Chuẩn bị dữ liệu cho Word2Vec\n",
    "# corpus = prepare_sequences_for_word2vec(X_train_aug, k=6)\n",
    "#\n",
    "# # Huấn luyện mô hình Word2Vec với Skip-gram\n",
    "# word2vec_model = Word2Vec(\n",
    "#     sentences=corpus,\n",
    "#     vector_size=300,\n",
    "#     window=5,\n",
    "#     min_count=1,\n",
    "#     sample=1e-3,\n",
    "#     sg=1,  # Skip-gram model\n",
    "#     hs=0,  # Dùng negative sampling thay vì hierarchical softmax\n",
    "#     epochs=20,\n",
    "#     negative=5,\n",
    "#     workers=4,\n",
    "#     seed=42\n",
    "# )\n",
    "#\n",
    "# # Lưu mô hình\n",
    "# word2vec_model.save(\"phage_word2vec_model.bin\")\n",
    "\n",
    "\n",
    "word2vec_model = Word2Vec.load(\"phage_word2vec_model.bin\")\n",
    "\n",
    "\n",
    "# Tạo vector cho mỗi chuỗi bằng cách tính trung bình các vector từ các k-mer\n",
    "def sequence_to_vector(sequence, word2vec_model, k=6):\n",
    "    \"\"\"Chuyển đổi một chuỗi DNA thành vector đặc trưng sử dụng Word2Vec.\"\"\"\n",
    "    kmers = generate_kmers(sequence, k)\n",
    "    valid_kmers = [kmer for kmer in kmers if kmer in word2vec_model.wv.key_to_index]\n",
    "\n",
    "    if not valid_kmers:\n",
    "        return np.zeros(word2vec_model.vector_size)\n",
    "\n",
    "    # Tính trung bình các vector\n",
    "    vectors = [word2vec_model.wv[kmer] for kmer in valid_kmers]\n",
    "    return np.mean(vectors, axis=0)\n",
    "\n",
    "\n",
    "# Chuyển đổi chuỗi thành vector đặc trưng\n",
    "X_train_vectors = np.array([sequence_to_vector(seq, word2vec_model) for seq in X_train_aug])\n",
    "X_val_vectors = np.array([sequence_to_vector(seq, word2vec_model) for seq in X_val])\n",
    "\n",
    "print(f\"X_train_vectors shape: {X_train_vectors.shape}\")\n",
    "print(f\"y_train shape: {y_train_aug.shape}\")\n",
    "print(f\"X_val_vectors shape: {X_val_vectors.shape}\")\n",
    "print(f\"y_val shape: {y_val.shape}\")"
   ],
   "id": "73ee532ffcbb4bac",
   "outputs": [
    {
     "name": "stdout",
     "output_type": "stream",
     "text": [
      "X_train_vectors shape: (994372, 300)\n",
      "y_train shape: (994372,)\n",
      "X_val_vectors shape: (127237, 300)\n",
      "y_val shape: (127237,)\n"
     ]
    }
   ],
   "execution_count": 7
  },
  {
   "metadata": {
    "ExecuteTime": {
     "end_time": "2025-04-06T15:19:09.527349Z",
     "start_time": "2025-04-06T15:19:07.448827Z"
    }
   },
   "cell_type": "code",
   "source": [
    "np.save(\"word2vec_train_vector.npy\",X_train_vectors)\n",
    "np.save(\"y_train.npy\",y_train_aug)\n",
    "np.save(\"word2vec_val_vector.npy\",X_val_vectors)\n",
    "np.save(\"y_val.npy\",y_val)"
   ],
   "id": "513ac1d8e43a10ab",
   "outputs": [],
   "execution_count": 8
  }
 ],
 "metadata": {
  "kernelspec": {
   "display_name": "Python 3",
   "language": "python",
   "name": "python3"
  },
  "language_info": {
   "codemirror_mode": {
    "name": "ipython",
    "version": 2
   },
   "file_extension": ".py",
   "mimetype": "text/x-python",
   "name": "python",
   "nbconvert_exporter": "python",
   "pygments_lexer": "ipython2",
   "version": "2.7.6"
  }
 },
 "nbformat": 4,
 "nbformat_minor": 5
}
