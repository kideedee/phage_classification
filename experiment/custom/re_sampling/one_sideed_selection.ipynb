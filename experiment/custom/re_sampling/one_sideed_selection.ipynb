{
 "cells": [
  {
   "cell_type": "code",
   "id": "initial_id",
   "metadata": {
    "collapsed": true,
    "ExecuteTime": {
     "end_time": "2025-04-07T10:07:18.764969Z",
     "start_time": "2025-04-07T10:05:13.682007Z"
    }
   },
   "source": [
    "import os\n",
    "import pandas as pd\n",
    "import cudf\n",
    "import cupy as cp\n",
    "from cuml.neighbors import NearestNeighbors\n",
    "import numpy as np\n",
    "from imblearn.under_sampling import OneSidedSelection\n",
    "\n",
    "from common.env_config import config\n",
    "\n",
    "# Giả sử X_train và y_train là dữ liệu của bạn\n",
    "\n",
    "X_train = np.load(\"word2vec_train_vector.npy\")\n",
    "y_train = np.load(\"y_train.npy\")\n",
    "print(X_train.shape, y_train.shape)\n",
    "\n",
    "# Chuyển đổi dữ liệu sang định dạng GPU\n",
    "X_gpu = cudf.DataFrame(X_train)\n",
    "y_gpu = cudf.Series(y_train)\n",
    "\n",
    "# Sử dụng KNN trên GPU để tìm điểm lân cận nhanh hơn\n",
    "print(\"Start training KNN ...\")\n",
    "knn_gpu = NearestNeighbors(n_neighbors=5)\n",
    "knn_gpu.fit(X_gpu)\n",
    "distances, indices = knn_gpu.kneighbors(X_gpu)\n",
    "\n",
    "# Chuyển kết quả về CPU để sử dụng với OneSidedSelection\n",
    "print(\"Exchange GPU to CPU\")\n",
    "distances_cpu = distances.values_host\n",
    "indices_cpu = indices.values_host\n",
    "X_cpu = X_gpu.to_pandas()\n",
    "y_cpu = y_gpu.to_pandas()"
   ],
   "outputs": [
    {
     "name": "stdout",
     "output_type": "stream",
     "text": [
      "(994372, 300) (994372,)\n",
      "Start training KNN ...\n",
      "Exchange GPU to CPU\n"
     ]
    }
   ],
   "execution_count": 1
  },
  {
   "metadata": {
    "ExecuteTime": {
     "end_time": "2025-04-07T10:10:32.035264137Z",
     "start_time": "2025-04-07T10:07:31.450386Z"
    }
   },
   "cell_type": "code",
   "source": [
    "# Thực hiện OneSidedSelection trên CPU với kết quả từ GPU\n",
    "print(\"Start training OneSidedSelection ...\")\n",
    "oss = OneSidedSelection(n_neighbors=1, n_seeds_S=200, n_jobs=-1)\n",
    "X_resampled, y_resampled = oss.fit_resample(X_cpu, y_cpu)\n",
    "print(X_resampled.shape, y_resampled.shape)"
   ],
   "id": "683f3f83975a8fbb",
   "outputs": [
    {
     "name": "stdout",
     "output_type": "stream",
     "text": [
      "Start training OneSidedSelection ...\n"
     ]
    }
   ],
   "execution_count": null
  },
  {
   "metadata": {},
   "cell_type": "code",
   "outputs": [],
   "execution_count": null,
   "source": "",
   "id": "4ec10bef96d8b8f3"
  }
 ],
 "metadata": {
  "kernelspec": {
   "display_name": "Python 3",
   "language": "python",
   "name": "python3"
  },
  "language_info": {
   "codemirror_mode": {
    "name": "ipython",
    "version": 2
   },
   "file_extension": ".py",
   "mimetype": "text/x-python",
   "name": "python",
   "nbconvert_exporter": "python",
   "pygments_lexer": "ipython2",
   "version": "2.7.6"
  }
 },
 "nbformat": 4,
 "nbformat_minor": 5
}
