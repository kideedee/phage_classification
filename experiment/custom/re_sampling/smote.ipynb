{
 "cells": [
  {
   "metadata": {
    "ExecuteTime": {
     "end_time": "2025-04-07T10:30:48.649081Z",
     "start_time": "2025-04-07T10:30:48.642493Z"
    }
   },
   "cell_type": "code",
   "source": [
    "import numpy as np\n",
    "from imblearn.over_sampling import SVMSMOTE\n",
    "from sklearn.datasets import make_classification\n",
    "from cuml.neighbors import NearestNeighbors\n",
    "from cuml.svm import SVC"
   ],
   "id": "e39e69eea791e01",
   "outputs": [],
   "execution_count": 10
  },
  {
   "metadata": {
    "ExecuteTime": {
     "end_time": "2025-04-07T10:30:49.921474Z",
     "start_time": "2025-04-07T10:30:49.436504Z"
    }
   },
   "cell_type": "code",
   "source": [
    "X_train = np.load(\"word2vec_train_vector.npy\")\n",
    "y_train = np.load(\"y_train.npy\")\n",
    "print(X_train.shape, y_train.shape)"
   ],
   "id": "d26c07bbacba8301",
   "outputs": [
    {
     "name": "stdout",
     "output_type": "stream",
     "text": [
      "(994372, 300) (994372,)\n"
     ]
    }
   ],
   "execution_count": 11
  },
  {
   "metadata": {
    "ExecuteTime": {
     "end_time": "2025-04-07T10:31:19.560176Z",
     "start_time": "2025-04-07T10:31:19.555973Z"
    }
   },
   "cell_type": "code",
   "source": "X_train[0]",
   "id": "189f933be3be25bf",
   "outputs": [
    {
     "data": {
      "text/plain": [
       "array([-1.29525987e-02,  1.85034811e-01,  5.55096865e-02,  4.04699482e-02,\n",
       "       -1.17009267e-01, -1.19585447e-01,  1.56577766e-01, -5.66713735e-02,\n",
       "       -2.51536164e-03,  5.40111475e-02,  2.43222341e-02, -9.16895047e-02,\n",
       "       -3.56970966e-01,  2.50710994e-01,  1.38686806e-01,  6.42760321e-02,\n",
       "       -1.10400029e-01,  2.26538302e-03,  6.44911304e-02,  9.61638466e-02,\n",
       "       -3.47243845e-02,  7.63154626e-02, -1.92960277e-02, -6.56623691e-02,\n",
       "        2.96386145e-02, -1.00696720e-01,  6.94591850e-02, -1.33384347e-01,\n",
       "       -1.56517550e-01,  9.63915139e-02, -2.10311145e-01, -1.02443546e-01,\n",
       "       -1.63427159e-01, -6.86370805e-02, -5.51304743e-02,  1.41731292e-01,\n",
       "        3.17338437e-01,  1.26478985e-01,  3.85488831e-02,  1.05231881e-01,\n",
       "       -7.84558877e-02,  2.67572224e-01,  2.34290987e-01, -8.56749043e-02,\n",
       "       -8.66069570e-02, -3.96924801e-02, -3.17438468e-02,  3.96249741e-02,\n",
       "        3.88611704e-02, -1.84810266e-01,  7.47486800e-02,  2.50063926e-01,\n",
       "       -2.83368498e-01, -1.03820078e-01, -4.11874168e-02,  2.44078524e-02,\n",
       "        1.06577165e-01, -1.14461454e-02,  2.02023208e-01, -1.32775202e-01,\n",
       "       -6.89253164e-03, -2.94291247e-02,  3.94456461e-02, -6.65792078e-02,\n",
       "        1.07480038e-03,  6.71050251e-02, -8.14554542e-02,  7.01961964e-02,\n",
       "       -4.89157662e-02,  2.37826575e-02,  1.84215177e-02,  9.44856033e-02,\n",
       "        1.45820426e-02,  2.04144884e-02,  1.14752099e-01, -2.93620043e-02,\n",
       "        1.35673672e-01, -2.47875899e-02,  1.09103724e-01, -2.43269324e-01,\n",
       "        2.12308392e-02,  3.48847099e-02,  3.14668447e-01, -7.69208148e-02,\n",
       "        1.52735770e-01, -6.48962110e-02,  3.74302417e-02,  1.18566193e-01,\n",
       "        4.75693531e-02,  9.49740708e-02, -7.25102127e-02,  1.27894819e-01,\n",
       "       -1.42518267e-01, -1.12337740e-02,  6.40099198e-02,  7.59630948e-02,\n",
       "        4.93437760e-02, -2.34373752e-02,  5.40359281e-02, -1.44818336e-01,\n",
       "        2.77200639e-02,  4.21714969e-02, -3.34763266e-02, -1.83414310e-01,\n",
       "        1.32922471e-01,  7.36809000e-02, -2.38822564e-01, -2.19095908e-02,\n",
       "        8.04272294e-02, -1.10946354e-02, -6.76711127e-02,  3.55073333e-01,\n",
       "        1.77768335e-01, -2.33188383e-02, -1.63002878e-01,  1.65804420e-02,\n",
       "        5.91692664e-02,  4.46144752e-02,  5.64094149e-02, -2.92199180e-02,\n",
       "       -1.42061720e-02, -1.75113991e-01, -5.14866449e-02, -9.29521397e-02,\n",
       "        2.62876809e-01, -3.01818818e-01, -2.05323551e-04,  2.81588268e-03,\n",
       "        2.60591740e-03,  3.93730104e-02, -3.18636149e-02, -2.45959476e-01,\n",
       "        3.59942280e-02,  1.65162936e-01,  8.98956358e-02, -8.14240351e-02,\n",
       "       -2.16192782e-01, -1.56130150e-01, -9.27881971e-02,  4.48662788e-02,\n",
       "        1.76483318e-02,  1.60051227e-01,  1.49527714e-01, -1.96457908e-01,\n",
       "        3.10190231e-01, -8.98445770e-02, -1.10116594e-01, -2.08956614e-01,\n",
       "       -1.10810816e-01,  1.01407938e-01,  6.16611913e-02,  1.16745727e-02,\n",
       "        2.16325402e-01, -1.12134323e-01, -1.16272926e-01,  1.56115830e-01,\n",
       "        1.36976801e-02,  9.00410395e-03, -3.77536304e-02, -1.74292058e-01,\n",
       "       -4.06327937e-03,  1.92259148e-01, -2.66277837e-03,  3.07243541e-02,\n",
       "       -1.26469925e-01,  1.06496833e-01, -1.03938706e-01, -4.20856848e-02,\n",
       "       -2.27249399e-01,  2.17828248e-02, -8.09578598e-02, -3.16816986e-01,\n",
       "       -1.24271937e-01,  1.19656183e-01,  2.52492070e-01, -6.33808039e-03,\n",
       "       -3.84478234e-02,  2.08876021e-02, -1.66392431e-01, -7.61570036e-03,\n",
       "       -3.89675424e-02,  8.23609829e-02,  1.82079282e-02, -1.50540814e-01,\n",
       "        1.32567167e-01, -8.09929371e-02, -3.92025895e-02,  1.11502714e-01,\n",
       "       -3.83718237e-02,  1.54124454e-01,  5.76085113e-02, -4.74322736e-02,\n",
       "       -3.65542695e-02, -8.27656984e-02, -9.26788449e-02, -9.91295930e-03,\n",
       "       -1.49134323e-01,  8.41343254e-02, -8.17241669e-02, -8.98925215e-02,\n",
       "       -3.95596921e-02,  3.10119614e-02, -8.07492062e-02, -4.34663109e-02,\n",
       "        7.63745978e-02,  1.04993656e-01, -1.74737796e-01,  5.14698848e-02,\n",
       "        8.88218731e-02,  2.98560619e-01,  4.28523272e-02, -3.01742256e-01,\n",
       "        2.56934851e-01, -1.32529467e-01,  1.68336838e-01, -5.35128713e-02,\n",
       "       -1.28571928e-01,  2.52703205e-02,  3.95909473e-02, -4.96534556e-02,\n",
       "       -3.64401174e-04,  1.90352023e-01, -1.75480261e-01,  5.34636751e-02,\n",
       "        3.74155454e-02,  1.18885264e-01,  1.39807194e-01, -6.35955192e-04,\n",
       "       -7.34893978e-02, -6.39509335e-02, -7.17266873e-02, -2.38872226e-02,\n",
       "        4.77234274e-02, -1.23322308e-01,  7.89489076e-02, -1.14958033e-01,\n",
       "        5.67391440e-02, -4.22187075e-02, -1.79204822e-01, -4.51066718e-03,\n",
       "       -9.87887308e-02,  3.63130122e-02,  2.34685421e-01, -5.17058782e-02,\n",
       "       -1.74059197e-01, -1.78293273e-01,  7.95040652e-02,  1.65851429e-01,\n",
       "        2.47131083e-02,  5.34174107e-02,  5.79155460e-02,  9.41813290e-02,\n",
       "       -2.21190706e-01, -7.12941661e-02,  5.00136465e-02,  5.80057316e-02,\n",
       "        1.59570038e-01, -2.17325330e-01, -2.49138437e-02,  9.65093449e-02,\n",
       "        1.06806019e-02,  7.81018957e-02, -1.58297911e-01,  4.21261266e-02,\n",
       "        1.21005416e-01, -3.54296789e-02, -5.13005815e-02, -6.84606060e-02,\n",
       "       -1.13714501e-01, -9.96127501e-02,  2.56849349e-01, -1.88878849e-02,\n",
       "       -9.75013673e-02, -1.41079361e-02, -2.22923011e-01, -2.12839663e-01,\n",
       "        1.63507596e-01,  8.37681144e-02, -1.61225170e-01, -9.98525843e-02,\n",
       "       -5.45128919e-02,  5.68364300e-02,  9.77774933e-02, -6.50792941e-03,\n",
       "        1.52716041e-01, -1.75025627e-01,  2.30626255e-01,  1.38843700e-01,\n",
       "        7.90107343e-03, -2.02002823e-01,  3.71500552e-02,  1.57392934e-01,\n",
       "        4.20427732e-02,  2.14794911e-02, -2.60899365e-02, -1.63668901e-01,\n",
       "       -3.76768172e-01,  1.47584498e-01,  2.08621070e-01,  8.71095657e-02])"
      ]
     },
     "execution_count": 15,
     "metadata": {},
     "output_type": "execute_result"
    }
   ],
   "execution_count": 15
  },
  {
   "metadata": {
    "ExecuteTime": {
     "end_time": "2025-04-07T10:31:42.858860Z",
     "start_time": "2025-04-07T10:31:42.856200Z"
    }
   },
   "cell_type": "code",
   "source": "y_train[0]",
   "id": "af12200bef0221c0",
   "outputs": [
    {
     "data": {
      "text/plain": [
       "1"
      ]
     },
     "execution_count": 16,
     "metadata": {},
     "output_type": "execute_result"
    }
   ],
   "execution_count": 16
  },
  {
   "metadata": {
    "ExecuteTime": {
     "end_time": "2025-04-07T10:31:06.586689Z",
     "start_time": "2025-04-07T10:31:06.248470Z"
    }
   },
   "cell_type": "code",
   "source": [
    "X, y = make_classification(\n",
    "  n_samples=100000,\n",
    "  n_features=100,\n",
    "  n_redundant=0,\n",
    "  n_informative=100,\n",
    "  n_classes=5,\n",
    "  n_clusters_per_class=1,\n",
    "  weights=[0.8, 0.05, 0.05, 0.05, 0.05]\n",
    ")\n",
    "print(X.shape, y.shape)"
   ],
   "id": "a7e21579da6577d",
   "outputs": [
    {
     "name": "stdout",
     "output_type": "stream",
     "text": [
      "(100000, 100) (100000,)\n"
     ]
    }
   ],
   "execution_count": 13
  },
  {
   "metadata": {
    "ExecuteTime": {
     "end_time": "2025-04-07T10:31:11.952930Z",
     "start_time": "2025-04-07T10:31:11.948652Z"
    }
   },
   "cell_type": "code",
   "source": "X[0]",
   "id": "1c4ce35d5d9d0827",
   "outputs": [
    {
     "data": {
      "text/plain": [
       "array([ -7.17844597,   5.06041077,   8.12363385,   7.75352782,\n",
       "        -8.84328524,   3.92556313,  -3.17942985,   5.64604787,\n",
       "        -0.74018225,  -2.18423471,  -3.54985533,  -4.30241996,\n",
       "         7.5102416 ,   2.1283836 ,  11.23716761,  -9.26762869,\n",
       "        -7.65870798,   3.5410399 ,  -8.00568321,  -1.04995983,\n",
       "         3.65940375,   4.02911371,   0.14169811,   5.28412158,\n",
       "         3.51510693, -11.27200465,  -3.57170497,  -0.64119809,\n",
       "         8.67719188,   1.61573646,   2.19564017,  -1.55892497,\n",
       "        -0.64664106,   3.85381569,  10.86210018,   4.12696723,\n",
       "        12.59700974,   5.45640465,  -0.3841536 ,  -6.50424556,\n",
       "         6.50273422,  -4.04159505,   8.04959346,   1.28220096,\n",
       "        -6.46534164,  -2.40101731,  -1.07407933,   3.5993476 ,\n",
       "        -1.54511647,  -0.9447397 ,  -1.53346904, -11.16081775,\n",
       "         4.40225451,   3.08992658,  -2.11021693,   2.14480466,\n",
       "        -3.39255598,  -3.92070297,   2.23690229,   2.95718583,\n",
       "         0.17834081,   4.64900633,   3.97401054, -10.83691035,\n",
       "         4.38955164,   6.68797407,  -7.36496587,   5.43451313,\n",
       "         5.1691507 ,  -6.69319359,  -1.44347127,  -2.73331627,\n",
       "         3.75960148,   5.02275882,  -2.80113256,  -1.9874654 ,\n",
       "         3.86290449,   2.94828261,  -4.2392998 ,  -5.47575679,\n",
       "         0.30305738,   1.7416535 ,   6.60682285,   9.3287387 ,\n",
       "         7.20362703,  -1.98405673,   2.27136192,   2.26244   ,\n",
       "        -8.14890445,   5.46360107,   6.19903925,  -3.52674274,\n",
       "        -4.40479958,  -1.82786067,  -3.64221025,  -4.5179057 ,\n",
       "         0.39993492,  -5.51696888,  -0.23210535,  -2.40811333])"
      ]
     },
     "execution_count": 14,
     "metadata": {},
     "output_type": "execute_result"
    }
   ],
   "execution_count": 14
  },
  {
   "metadata": {
    "ExecuteTime": {
     "end_time": "2025-04-07T10:31:58.377441Z",
     "start_time": "2025-04-07T10:31:58.370918Z"
    }
   },
   "cell_type": "code",
   "source": "y[5]",
   "id": "eb795a6faf4e5935",
   "outputs": [
    {
     "data": {
      "text/plain": [
       "0"
      ]
     },
     "execution_count": 22,
     "metadata": {},
     "output_type": "execute_result"
    }
   ],
   "execution_count": 22
  },
  {
   "metadata": {
    "ExecuteTime": {
     "end_time": "2025-04-07T10:37:01.171783Z",
     "start_time": "2025-04-07T10:37:00.892501Z"
    }
   },
   "cell_type": "code",
   "source": [
    "np.random.seed(42)\n",
    "\n",
    "# Specify the number of samples you want\n",
    "n_samples = 10000  # Adjust this based on your GPU memory\n",
    "\n",
    "# Generate random indices\n",
    "indices = np.random.choice(X_train.shape[0], size=n_samples, replace=False)\n",
    "\n",
    "# Create the sampled datasets\n",
    "X_train_sampled = X_train[indices]\n",
    "y_train_sampled = y_train[indices]\n",
    "\n",
    "nn = NearestNeighbors(n_neighbors=6)\n",
    "svm = SVC()\n",
    "X_resampled, y_resampled = SVMSMOTE(\n",
    "  k_neighbors=nn,\n",
    "  m_neighbors=nn,\n",
    "  svm_estimator=svm\n",
    ").fit_resample(X_train_sampled, y_train_sampled)"
   ],
   "id": "d1abe1e44102a905",
   "outputs": [
    {
     "name": "stdout",
     "output_type": "stream",
     "text": [
      "[2025-04-07 17:37:00.916] [CUML] [info] Unused keyword parameter: n_jobs during cuML estimator initialization\n",
      "[2025-04-07 17:37:00.916] [CUML] [info] Unused keyword parameter: n_jobs during cuML estimator initialization\n"
     ]
    }
   ],
   "execution_count": 26
  },
  {
   "metadata": {
    "ExecuteTime": {
     "end_time": "2025-04-07T10:47:05.591294Z",
     "start_time": "2025-04-07T10:47:04.980325Z"
    }
   },
   "cell_type": "code",
   "source": [
    "from imblearn.under_sampling import EditedNearestNeighbours\n",
    "from sklearn.datasets import make_classification\n",
    "from cuml.neighbors import NearestNeighbors\n",
    "\n",
    "X, y = make_classification(\n",
    "  n_samples=50000,\n",
    "  n_features=200,\n",
    "  n_redundant=0,\n",
    "  n_informative=100,\n",
    "  n_classes=2,\n",
    "  n_clusters_per_class=1,\n",
    "  weights=[0.9, 0.1]\n",
    ")\n",
    "\n",
    "nn = NearestNeighbors(n_neighbors=4)\n",
    "enn = EditedNearestNeighbours(n_neighbors=nn)\n",
    "X_res, y_res = enn.fit_resample(X, y)\n",
    "print(X_res.shape, y_res.shape)"
   ],
   "id": "f7e5854a7c4b04b2",
   "outputs": [
    {
     "name": "stdout",
     "output_type": "stream",
     "text": [
      "[2025-04-07 17:47:05.334] [CUML] [info] Unused keyword parameter: n_jobs during cuML estimator initialization\n",
      "(49146, 200) (49146,)\n"
     ]
    }
   ],
   "execution_count": 31
  },
  {
   "metadata": {
    "jupyter": {
     "is_executing": true
    },
    "ExecuteTime": {
     "start_time": "2025-04-07T11:01:09.862283Z"
    }
   },
   "cell_type": "code",
   "source": [
    "import numpy as np\n",
    "import cupy as cp\n",
    "from cuml.neighbors import KNeighborsClassifier\n",
    "from collections import Counter\n",
    "import random\n",
    "\n",
    "\n",
    "class CUDACondensedNearestNeighbour:\n",
    "    \"\"\"\n",
    "    CUDA-accelerated implementation of Condensed Nearest Neighbor algorithm\n",
    "    for undersampling imbalanced datasets.\n",
    "    \"\"\"\n",
    "\n",
    "    def __init__(self, n_neighbors=1, random_state=None):\n",
    "        self.n_neighbors = n_neighbors\n",
    "        self.random_state = random_state\n",
    "\n",
    "    def fit_resample(self, X, y):\n",
    "        \"\"\"\n",
    "        Resample X and y according to Condensed Nearest Neighbor algorithm.\n",
    "\n",
    "        Parameters\n",
    "        ----------\n",
    "        X : array-like of shape (n_samples, n_features)\n",
    "            Training data.\n",
    "        y : array-like of shape (n_samples,)\n",
    "            Target class labels.\n",
    "\n",
    "        Returns\n",
    "        -------\n",
    "        X_resampled : array-like of shape (n_samples_new, n_features)\n",
    "            Resampled training data.\n",
    "        y_resampled : array-like of shape (n_samples_new,)\n",
    "            Resampled target class labels.\n",
    "        \"\"\"\n",
    "        # Set random seed for reproducibility\n",
    "        if self.random_state is not None:\n",
    "            random.seed(self.random_state)\n",
    "            np.random.seed(self.random_state)\n",
    "\n",
    "        # Initialize the KNN classifier\n",
    "        if isinstance(self.n_neighbors, int):\n",
    "            knn = KNeighborsClassifier(n_neighbors=self.n_neighbors)\n",
    "        else:\n",
    "            knn = self.n_neighbors  # Use the provided classifier\n",
    "\n",
    "        # Get class information\n",
    "        classes = np.unique(y)\n",
    "        class_indices = {c: np.where(y == c)[0] for c in classes}\n",
    "\n",
    "        # Step 1: Initialize store set S with one random sample from each class\n",
    "        store_indices = []\n",
    "        for c in classes:\n",
    "            store_indices.append(random.choice(class_indices[c]))\n",
    "\n",
    "        # Convert to numpy arrays\n",
    "        X_store = X[store_indices]\n",
    "        y_store = y[store_indices]\n",
    "\n",
    "        # Step 2: Iteratively add misclassified samples\n",
    "        added = True\n",
    "        remaining_indices = np.setdiff1d(np.arange(len(X)), store_indices)\n",
    "\n",
    "        while added:\n",
    "            added = False\n",
    "\n",
    "            # Fit the KNN classifier on the current store set\n",
    "            knn.fit(X_store, y_store)\n",
    "\n",
    "            # Find samples that would be misclassified\n",
    "            X_remaining = X[remaining_indices]\n",
    "            y_remaining = y[remaining_indices]\n",
    "\n",
    "            # Predict in batches to avoid memory issues\n",
    "            batch_size = 10000  # Adjust based on your GPU memory\n",
    "            n_batches = int(np.ceil(len(X_remaining) / batch_size))\n",
    "            y_pred = np.zeros(len(X_remaining), dtype=y.dtype)\n",
    "\n",
    "            for i in range(n_batches):\n",
    "                start_idx = i * batch_size\n",
    "                end_idx = min((i + 1) * batch_size, len(X_remaining))\n",
    "                y_pred[start_idx:end_idx] = knn.predict(X_remaining[start_idx:end_idx])\n",
    "\n",
    "            # Identify misclassified samples\n",
    "            misclassified = y_pred != y_remaining\n",
    "\n",
    "            if np.any(misclassified):\n",
    "                # Add first misclassified sample to the store set\n",
    "                misclassified_idx = np.where(misclassified)[0][0]\n",
    "                original_idx = remaining_indices[misclassified_idx]\n",
    "\n",
    "                # Update store set\n",
    "                X_store = np.vstack([X_store, X[original_idx:original_idx+1]])\n",
    "                y_store = np.append(y_store, y[original_idx])\n",
    "\n",
    "                # Update remaining indices\n",
    "                remaining_indices = np.delete(remaining_indices, misclassified_idx)\n",
    "\n",
    "                added = True\n",
    "\n",
    "        return X_store, y_store\n",
    "\n",
    "import numpy as np\n",
    "from cuml.neighbors import KNeighborsClassifier\n",
    "# Import the custom class from wherever you saved it\n",
    "# from cuda_cnn import CUDACondensedNearestNeighbour\n",
    "\n",
    "# Load your data\n",
    "X_train = np.load(\"word2vec_train_vector.npy\")\n",
    "y_train = np.load(\"y_train.npy\")\n",
    "\n",
    "# Create a cuML KNN classifier\n",
    "knn = KNeighborsClassifier(n_neighbors=1)\n",
    "\n",
    "# Option 1: Pass the KNN instance directly\n",
    "cnn = CUDACondensedNearestNeighbour(n_neighbors=knn)\n",
    "\n",
    "# Option 2: Or just specify the number of neighbors\n",
    "# cnn = CUDACondensedNearestNeighbour(n_neighbors=1)\n",
    "\n",
    "# Perform undersampling\n",
    "X_res, y_res = cnn.fit_resample(X_train, y_train)\n",
    "\n",
    "print(f\"Original dataset shape: {X_train.shape}\")\n",
    "print(f\"Resampled dataset shape: {X_res.shape}\")"
   ],
   "id": "d02451edbf974333",
   "outputs": [],
   "execution_count": null
  }
 ],
 "metadata": {
  "kernelspec": {
   "display_name": "Python 3",
   "language": "python",
   "name": "python3"
  },
  "language_info": {
   "codemirror_mode": {
    "name": "ipython",
    "version": 2
   },
   "file_extension": ".py",
   "mimetype": "text/x-python",
   "name": "python",
   "nbconvert_exporter": "python",
   "pygments_lexer": "ipython2",
   "version": "2.7.6"
  }
 },
 "nbformat": 4,
 "nbformat_minor": 5
}
