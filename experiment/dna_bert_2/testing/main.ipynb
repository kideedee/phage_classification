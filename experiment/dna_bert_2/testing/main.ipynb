{
 "cells": [
  {
   "cell_type": "code",
   "id": "initial_id",
   "metadata": {
    "collapsed": true,
    "ExecuteTime": {
     "end_time": "2025-04-02T16:38:08.932924Z",
     "start_time": "2025-04-02T16:38:08.854989Z"
    }
   },
   "source": "import numpy as np",
   "outputs": [],
   "execution_count": 1
  },
  {
   "metadata": {
    "ExecuteTime": {
     "end_time": "2025-04-02T16:38:23.159589Z",
     "start_time": "2025-04-02T16:38:23.147598Z"
    }
   },
   "cell_type": "code",
   "source": "a = np.load(\"train_embeddings/dnabert2_embeddings.npz\")",
   "id": "2b92c75a674eca46",
   "outputs": [],
   "execution_count": 2
  },
  {
   "metadata": {
    "ExecuteTime": {
     "end_time": "2025-04-02T16:39:20.304830Z",
     "start_time": "2025-04-02T16:39:20.293133Z"
    }
   },
   "cell_type": "code",
   "source": "a['labels']",
   "id": "92c7eb4f0b3a2d44",
   "outputs": [
    {
     "data": {
      "text/plain": [
       "array([1, 1, 1, ..., 0, 0, 0])"
      ]
     },
     "execution_count": 7,
     "metadata": {},
     "output_type": "execute_result"
    }
   ],
   "execution_count": 7
  }
 ],
 "metadata": {
  "kernelspec": {
   "display_name": "Python 3",
   "language": "python",
   "name": "python3"
  },
  "language_info": {
   "codemirror_mode": {
    "name": "ipython",
    "version": 2
   },
   "file_extension": ".py",
   "mimetype": "text/x-python",
   "name": "python",
   "nbconvert_exporter": "python",
   "pygments_lexer": "ipython2",
   "version": "2.7.6"
  }
 },
 "nbformat": 4,
 "nbformat_minor": 5
}
