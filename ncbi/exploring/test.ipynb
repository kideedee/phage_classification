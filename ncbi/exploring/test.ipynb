{
 "cells": [
  {
   "cell_type": "code",
   "id": "initial_id",
   "metadata": {
    "collapsed": true,
    "ExecuteTime": {
     "end_time": "2025-03-18T01:47:38.512095Z",
     "start_time": "2025-03-18T01:47:37.493481Z"
    }
   },
   "source": [
    "import pandas as pd\n",
    "\n",
    "lysogenic_train_df = pd.read_csv('lysogenic_train.csv')\n",
    "lytic_train_df = pd.read_csv('lytic_train.csv')\n",
    "lysogenic_val_df = pd.read_csv('lysogenic_val.csv')\n",
    "lytic_val_df = pd.read_csv('lytic_val.csv')\n",
    "lysogenic_test_df = pd.read_csv('lysogenic_test.csv')\n",
    "lytic_test_df = pd.read_csv('lytic_test.csv')"
   ],
   "outputs": [],
   "execution_count": 6
  },
  {
   "metadata": {
    "ExecuteTime": {
     "end_time": "2025-03-18T01:47:39.341530Z",
     "start_time": "2025-03-18T01:47:39.330530Z"
    }
   },
   "cell_type": "code",
   "source": "lysogenic_train_df.head()",
   "id": "837e7d10df0619ee",
   "outputs": [
    {
     "data": {
      "text/plain": [
       "                             file_name    accession       name  \\\n",
       "0  train_NC_022774_Lysogneic_Group1.gb  NC_022774.1  NC_022774   \n",
       "1  train_NC_023599_Lysogneic_Group5.gb  NC_023599.1  NC_023599   \n",
       "2   train_AF527608_Lysogneic_Group2.gb   AF527608.1   AF527608   \n",
       "3  train_NC_024387_Lysogneic_Group3.gb  NC_024387.1  NC_024387   \n",
       "4  train_NC_010116_Lysogneic_Group3.gb  NC_010116.1  NC_010116   \n",
       "\n",
       "                                description  length  gc_content  num_features  \\\n",
       "0     Bacillus phage Slash, complete genome   80382    0.352318           356   \n",
       "1    Bacillus phage phiCM3, complete genome   38772    0.354818           113   \n",
       "2  Bacteriophage P22-pbi, complete sequence   41724    0.470904           192   \n",
       "3    Listeria phage LP-101, complete genome   43767    0.354514           141   \n",
       "4    Pseudomonas phage YuA, complete genome   58663    0.642620           173   \n",
       "\n",
       "                                            sequence  \n",
       "0  CTTCAGCTCGCGCGATCTGTTACCCTAACCGCTGTTATGGCCTAAA...  \n",
       "1  AAAGCATCCATTCGGGTGCTTTTTATTTCGGAGGAGGATGAAGGAT...  \n",
       "2  AGAGAAGATTTATCTGAAGTCGTTACGCGAGCAGAACAGGTCATCT...  \n",
       "3  GGGTCTTCTCCGCAGAAATATTAAAAAGTCTCATGAAGGAGGGAGG...  \n",
       "4  AATTTGCCAAGTTGTCTTGGGTTCCGTAAAATACGGCCCAAGATCA...  "
      ],
      "text/html": [
       "<div>\n",
       "<style scoped>\n",
       "    .dataframe tbody tr th:only-of-type {\n",
       "        vertical-align: middle;\n",
       "    }\n",
       "\n",
       "    .dataframe tbody tr th {\n",
       "        vertical-align: top;\n",
       "    }\n",
       "\n",
       "    .dataframe thead th {\n",
       "        text-align: right;\n",
       "    }\n",
       "</style>\n",
       "<table border=\"1\" class=\"dataframe\">\n",
       "  <thead>\n",
       "    <tr style=\"text-align: right;\">\n",
       "      <th></th>\n",
       "      <th>file_name</th>\n",
       "      <th>accession</th>\n",
       "      <th>name</th>\n",
       "      <th>description</th>\n",
       "      <th>length</th>\n",
       "      <th>gc_content</th>\n",
       "      <th>num_features</th>\n",
       "      <th>sequence</th>\n",
       "    </tr>\n",
       "  </thead>\n",
       "  <tbody>\n",
       "    <tr>\n",
       "      <th>0</th>\n",
       "      <td>train_NC_022774_Lysogneic_Group1.gb</td>\n",
       "      <td>NC_022774.1</td>\n",
       "      <td>NC_022774</td>\n",
       "      <td>Bacillus phage Slash, complete genome</td>\n",
       "      <td>80382</td>\n",
       "      <td>0.352318</td>\n",
       "      <td>356</td>\n",
       "      <td>CTTCAGCTCGCGCGATCTGTTACCCTAACCGCTGTTATGGCCTAAA...</td>\n",
       "    </tr>\n",
       "    <tr>\n",
       "      <th>1</th>\n",
       "      <td>train_NC_023599_Lysogneic_Group5.gb</td>\n",
       "      <td>NC_023599.1</td>\n",
       "      <td>NC_023599</td>\n",
       "      <td>Bacillus phage phiCM3, complete genome</td>\n",
       "      <td>38772</td>\n",
       "      <td>0.354818</td>\n",
       "      <td>113</td>\n",
       "      <td>AAAGCATCCATTCGGGTGCTTTTTATTTCGGAGGAGGATGAAGGAT...</td>\n",
       "    </tr>\n",
       "    <tr>\n",
       "      <th>2</th>\n",
       "      <td>train_AF527608_Lysogneic_Group2.gb</td>\n",
       "      <td>AF527608.1</td>\n",
       "      <td>AF527608</td>\n",
       "      <td>Bacteriophage P22-pbi, complete sequence</td>\n",
       "      <td>41724</td>\n",
       "      <td>0.470904</td>\n",
       "      <td>192</td>\n",
       "      <td>AGAGAAGATTTATCTGAAGTCGTTACGCGAGCAGAACAGGTCATCT...</td>\n",
       "    </tr>\n",
       "    <tr>\n",
       "      <th>3</th>\n",
       "      <td>train_NC_024387_Lysogneic_Group3.gb</td>\n",
       "      <td>NC_024387.1</td>\n",
       "      <td>NC_024387</td>\n",
       "      <td>Listeria phage LP-101, complete genome</td>\n",
       "      <td>43767</td>\n",
       "      <td>0.354514</td>\n",
       "      <td>141</td>\n",
       "      <td>GGGTCTTCTCCGCAGAAATATTAAAAAGTCTCATGAAGGAGGGAGG...</td>\n",
       "    </tr>\n",
       "    <tr>\n",
       "      <th>4</th>\n",
       "      <td>train_NC_010116_Lysogneic_Group3.gb</td>\n",
       "      <td>NC_010116.1</td>\n",
       "      <td>NC_010116</td>\n",
       "      <td>Pseudomonas phage YuA, complete genome</td>\n",
       "      <td>58663</td>\n",
       "      <td>0.642620</td>\n",
       "      <td>173</td>\n",
       "      <td>AATTTGCCAAGTTGTCTTGGGTTCCGTAAAATACGGCCCAAGATCA...</td>\n",
       "    </tr>\n",
       "  </tbody>\n",
       "</table>\n",
       "</div>"
      ]
     },
     "execution_count": 7,
     "metadata": {},
     "output_type": "execute_result"
    }
   ],
   "execution_count": 7
  },
  {
   "metadata": {
    "ExecuteTime": {
     "end_time": "2025-03-18T01:47:40.718494Z",
     "start_time": "2025-03-18T01:47:40.707458Z"
    }
   },
   "cell_type": "code",
   "source": [
    "print(lysogenic_train_df.shape)\n",
    "print(lytic_train_df.shape)"
   ],
   "id": "78a3225c9c7eee1f",
   "outputs": [
    {
     "name": "stdout",
     "output_type": "stream",
     "text": [
      "(463, 8)\n",
      "(981, 8)\n"
     ]
    }
   ],
   "execution_count": 8
  },
  {
   "metadata": {
    "ExecuteTime": {
     "end_time": "2025-03-18T02:04:40.252780Z",
     "start_time": "2025-03-18T02:04:40.241932Z"
    }
   },
   "cell_type": "code",
   "source": [
    "total_length = lysogenic_train_df['sequence'].str.len().sum()\n",
    "print(f\"Total length of all sequences: {total_length}\")"
   ],
   "id": "7f548ce92aa5d725",
   "outputs": [
    {
     "name": "stdout",
     "output_type": "stream",
     "text": [
      "Total length of all sequences: 20994338\n"
     ]
    }
   ],
   "execution_count": 17
  },
  {
   "metadata": {
    "ExecuteTime": {
     "end_time": "2025-03-18T02:04:52.677799Z",
     "start_time": "2025-03-18T02:04:52.657278Z"
    }
   },
   "cell_type": "code",
   "source": [
    "total_length = lytic_train_df['sequence'].str.len().sum()\n",
    "print(f\"Total length of all sequences: {total_length}\")"
   ],
   "id": "d9ce06f6b5e5ca79",
   "outputs": [
    {
     "name": "stdout",
     "output_type": "stream",
     "text": [
      "Total length of all sequences: 82230172\n"
     ]
    }
   ],
   "execution_count": 18
  }
 ],
 "metadata": {
  "kernelspec": {
   "display_name": "Python 3",
   "language": "python",
   "name": "python3"
  },
  "language_info": {
   "codemirror_mode": {
    "name": "ipython",
    "version": 2
   },
   "file_extension": ".py",
   "mimetype": "text/x-python",
   "name": "python",
   "nbconvert_exporter": "python",
   "pygments_lexer": "ipython2",
   "version": "2.7.6"
  }
 },
 "nbformat": 4,
 "nbformat_minor": 5
}
