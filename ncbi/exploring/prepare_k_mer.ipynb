{
 "cells": [
  {
   "cell_type": "code",
   "id": "initial_id",
   "metadata": {
    "collapsed": true,
    "ExecuteTime": {
     "end_time": "2025-03-09T04:52:29.266217Z",
     "start_time": "2025-03-09T04:52:29.251910Z"
    }
   },
   "source": [
    "import random\n",
    "\n",
    "\n",
    "def generate_kmer_6(sequence):\n",
    "    kmers = []\n",
    "    for i in range(len(sequence) - 5):\n",
    "        kmer = sequence[i:i + 6]\n",
    "        if 'N' not in kmer:  # Skip k-mers with non-ATGC characters\n",
    "            kmers.append(kmer)\n",
    "    return kmers\n",
    "\n",
    "\n",
    "def sliding_window_with_skip(sequences, window_size=100, skip_step=1):\n",
    "    windows = []\n",
    "    for seq in sequences:\n",
    "        if type(seq) is not str:\n",
    "            continue\n",
    "        if len(seq) < window_size:\n",
    "            continue\n",
    "\n",
    "        for i in range(0, len(seq) - window_size + 1, skip_step):\n",
    "            window = seq[i:i + window_size]\n",
    "            if all(base in \"ATGC\" for base in window):\n",
    "                windows.append(window)\n",
    "\n",
    "    return windows\n",
    "\n",
    "\n",
    "def clean_sequence(sequence):\n",
    "    bases = list(sequence)\n",
    "    for i, base in enumerate(bases):\n",
    "        if base not in \"ATGC\":\n",
    "            bases[i] = random.choice(\"ATGC\")\n",
    "    return ''.join(bases)\n",
    "\n",
    "\n",
    "def preprocess_data(lysogenic_seqs, lytic_seqs, window_size=100):\n",
    "\n",
    "    # Apply sliding window with skip_step=1 for lysogenic sequences\n",
    "    lysogenic_windows = sliding_window_with_skip(lysogenic_seqs, window_size=window_size, skip_step=1)\n",
    "\n",
    "    # Apply sliding window with skip_step=91 for lytic sequences\n",
    "    lytic_windows = sliding_window_with_skip(lytic_seqs, window_size=window_size, skip_step=91)\n",
    "\n",
    "    # Convert sequences to k-mer 6 representation\n",
    "    # lysogenic_kmers = [generate_kmer_6(window) for window in lysogenic_windows]\n",
    "    # lytic_kmers = [generate_kmer_6(window) for window in lytic_windows]\n",
    "\n",
    "    print(f\"Generated {len(lysogenic_windows)} lysogenic windows and {len(lytic_windows)} lytic windows\")\n",
    "\n",
    "    # Return balanced dataset by sampling if needed\n",
    "    min_count = min(len(lysogenic_windows), len(lytic_windows))\n",
    "\n",
    "    if len(lysogenic_windows) > min_count:\n",
    "        lysogenic_windows = random.sample(lysogenic_windows, min_count)\n",
    "        lysogenic_kmers = [generate_kmer_6(window) for window in lysogenic_windows]\n",
    "\n",
    "    if len(lytic_windows) > min_count:\n",
    "        lytic_windows = random.sample(lytic_windows, min_count)\n",
    "        lytic_kmers = [generate_kmer_6(window) for window in lytic_windows]\n",
    "\n",
    "    return {\n",
    "        'lysogenic_windows': lysogenic_windows,\n",
    "        'lytic_windows': lytic_windows,\n",
    "        # 'lysogenic_kmers': lysogenic_kmers,\n",
    "        # 'lytic_kmers': lytic_kmers\n",
    "    }"
   ],
   "outputs": [],
   "execution_count": 1
  },
  {
   "metadata": {
    "ExecuteTime": {
     "end_time": "2025-03-09T04:52:29.901526Z",
     "start_time": "2025-03-09T04:52:29.274694Z"
    }
   },
   "cell_type": "code",
   "source": [
    "import pandas as pd\n",
    "\n",
    "lysogenic_df = pd.read_csv('lysogenic_train.csv')\n",
    "lysogenic_df.dropna(inplace=True)\n",
    "lytic_df = pd.read_csv('lytic_train.csv')"
   ],
   "id": "27e1f2d7c13d9012",
   "outputs": [],
   "execution_count": 2
  },
  {
   "metadata": {
    "ExecuteTime": {
     "end_time": "2025-03-09T04:52:30.910332Z",
     "start_time": "2025-03-09T04:52:30.292500Z"
    }
   },
   "cell_type": "code",
   "source": "prepared_data = preprocess_data(lysogenic_df['sequence_filled'].values, lytic_df['sequence'].values, window_size=500)",
   "id": "731409b523e234eb",
   "outputs": [
    {
     "ename": "KeyError",
     "evalue": "'sequence_filled'",
     "output_type": "error",
     "traceback": [
      "\u001B[1;31m---------------------------------------------------------------------------\u001B[0m",
      "\u001B[1;31mKeyError\u001B[0m                                  Traceback (most recent call last)",
      "File \u001B[1;32mD:\\master\\documentation\\final_project\\code\\code\\venv\\lib\\site-packages\\pandas\\core\\indexes\\base.py:3653\u001B[0m, in \u001B[0;36mIndex.get_loc\u001B[1;34m(self, key)\u001B[0m\n\u001B[0;32m   3652\u001B[0m \u001B[38;5;28;01mtry\u001B[39;00m:\n\u001B[1;32m-> 3653\u001B[0m     \u001B[38;5;28;01mreturn\u001B[39;00m \u001B[38;5;28;43mself\u001B[39;49m\u001B[38;5;241;43m.\u001B[39;49m\u001B[43m_engine\u001B[49m\u001B[38;5;241;43m.\u001B[39;49m\u001B[43mget_loc\u001B[49m\u001B[43m(\u001B[49m\u001B[43mcasted_key\u001B[49m\u001B[43m)\u001B[49m\n\u001B[0;32m   3654\u001B[0m \u001B[38;5;28;01mexcept\u001B[39;00m \u001B[38;5;167;01mKeyError\u001B[39;00m \u001B[38;5;28;01mas\u001B[39;00m err:\n",
      "File \u001B[1;32mD:\\master\\documentation\\final_project\\code\\code\\venv\\lib\\site-packages\\pandas\\_libs\\index.pyx:147\u001B[0m, in \u001B[0;36mpandas._libs.index.IndexEngine.get_loc\u001B[1;34m()\u001B[0m\n",
      "File \u001B[1;32mD:\\master\\documentation\\final_project\\code\\code\\venv\\lib\\site-packages\\pandas\\_libs\\index.pyx:176\u001B[0m, in \u001B[0;36mpandas._libs.index.IndexEngine.get_loc\u001B[1;34m()\u001B[0m\n",
      "File \u001B[1;32mpandas\\_libs\\hashtable_class_helper.pxi:7080\u001B[0m, in \u001B[0;36mpandas._libs.hashtable.PyObjectHashTable.get_item\u001B[1;34m()\u001B[0m\n",
      "File \u001B[1;32mpandas\\_libs\\hashtable_class_helper.pxi:7088\u001B[0m, in \u001B[0;36mpandas._libs.hashtable.PyObjectHashTable.get_item\u001B[1;34m()\u001B[0m\n",
      "\u001B[1;31mKeyError\u001B[0m: 'sequence_filled'",
      "\nThe above exception was the direct cause of the following exception:\n",
      "\u001B[1;31mKeyError\u001B[0m                                  Traceback (most recent call last)",
      "Cell \u001B[1;32mIn[3], line 1\u001B[0m\n\u001B[1;32m----> 1\u001B[0m prepared_data \u001B[38;5;241m=\u001B[39m preprocess_data(\u001B[43mlysogenic_df\u001B[49m\u001B[43m[\u001B[49m\u001B[38;5;124;43m'\u001B[39;49m\u001B[38;5;124;43msequence_filled\u001B[39;49m\u001B[38;5;124;43m'\u001B[39;49m\u001B[43m]\u001B[49m\u001B[38;5;241m.\u001B[39mvalues, lytic_df[\u001B[38;5;124m'\u001B[39m\u001B[38;5;124msequence\u001B[39m\u001B[38;5;124m'\u001B[39m]\u001B[38;5;241m.\u001B[39mvalues, window_size\u001B[38;5;241m=\u001B[39m\u001B[38;5;241m500\u001B[39m)\n",
      "File \u001B[1;32mD:\\master\\documentation\\final_project\\code\\code\\venv\\lib\\site-packages\\pandas\\core\\frame.py:3761\u001B[0m, in \u001B[0;36mDataFrame.__getitem__\u001B[1;34m(self, key)\u001B[0m\n\u001B[0;32m   3759\u001B[0m \u001B[38;5;28;01mif\u001B[39;00m \u001B[38;5;28mself\u001B[39m\u001B[38;5;241m.\u001B[39mcolumns\u001B[38;5;241m.\u001B[39mnlevels \u001B[38;5;241m>\u001B[39m \u001B[38;5;241m1\u001B[39m:\n\u001B[0;32m   3760\u001B[0m     \u001B[38;5;28;01mreturn\u001B[39;00m \u001B[38;5;28mself\u001B[39m\u001B[38;5;241m.\u001B[39m_getitem_multilevel(key)\n\u001B[1;32m-> 3761\u001B[0m indexer \u001B[38;5;241m=\u001B[39m \u001B[38;5;28;43mself\u001B[39;49m\u001B[38;5;241;43m.\u001B[39;49m\u001B[43mcolumns\u001B[49m\u001B[38;5;241;43m.\u001B[39;49m\u001B[43mget_loc\u001B[49m\u001B[43m(\u001B[49m\u001B[43mkey\u001B[49m\u001B[43m)\u001B[49m\n\u001B[0;32m   3762\u001B[0m \u001B[38;5;28;01mif\u001B[39;00m is_integer(indexer):\n\u001B[0;32m   3763\u001B[0m     indexer \u001B[38;5;241m=\u001B[39m [indexer]\n",
      "File \u001B[1;32mD:\\master\\documentation\\final_project\\code\\code\\venv\\lib\\site-packages\\pandas\\core\\indexes\\base.py:3655\u001B[0m, in \u001B[0;36mIndex.get_loc\u001B[1;34m(self, key)\u001B[0m\n\u001B[0;32m   3653\u001B[0m     \u001B[38;5;28;01mreturn\u001B[39;00m \u001B[38;5;28mself\u001B[39m\u001B[38;5;241m.\u001B[39m_engine\u001B[38;5;241m.\u001B[39mget_loc(casted_key)\n\u001B[0;32m   3654\u001B[0m \u001B[38;5;28;01mexcept\u001B[39;00m \u001B[38;5;167;01mKeyError\u001B[39;00m \u001B[38;5;28;01mas\u001B[39;00m err:\n\u001B[1;32m-> 3655\u001B[0m     \u001B[38;5;28;01mraise\u001B[39;00m \u001B[38;5;167;01mKeyError\u001B[39;00m(key) \u001B[38;5;28;01mfrom\u001B[39;00m\u001B[38;5;250m \u001B[39m\u001B[38;5;21;01merr\u001B[39;00m\n\u001B[0;32m   3656\u001B[0m \u001B[38;5;28;01mexcept\u001B[39;00m \u001B[38;5;167;01mTypeError\u001B[39;00m:\n\u001B[0;32m   3657\u001B[0m     \u001B[38;5;66;03m# If we have a listlike key, _check_indexing_error will raise\u001B[39;00m\n\u001B[0;32m   3658\u001B[0m     \u001B[38;5;66;03m#  InvalidIndexError. Otherwise we fall through and re-raise\u001B[39;00m\n\u001B[0;32m   3659\u001B[0m     \u001B[38;5;66;03m#  the TypeError.\u001B[39;00m\n\u001B[0;32m   3660\u001B[0m     \u001B[38;5;28mself\u001B[39m\u001B[38;5;241m.\u001B[39m_check_indexing_error(key)\n",
      "\u001B[1;31mKeyError\u001B[0m: 'sequence_filled'"
     ]
    }
   ],
   "execution_count": 3
  },
  {
   "metadata": {
    "ExecuteTime": {
     "end_time": "2025-03-09T04:52:30.991722200Z",
     "start_time": "2025-03-04T21:21:14.170867Z"
    }
   },
   "cell_type": "code",
   "source": [
    "columns = ['sequence', 'label']\n",
    "labels = [0] * len(prepared_data['lysogenic_windows'])\n",
    "lysogenic_df = pd.DataFrame(zip(prepared_data['lysogenic_windows'], labels), columns=columns)\n",
    "lysogenic_df.head()"
   ],
   "id": "d9d0270b1d48d1d9",
   "outputs": [
    {
     "data": {
      "text/plain": [
       "                                            sequence  label\n",
       "0  GTTACTCTACTGTGGACACTGTGTGGACACTCTCGGCCTCAGTACC...      0\n",
       "1  TTACTCTACTGTGGACACTGTGTGGACACTCTCGGCCTCAGTACCA...      0\n",
       "2  TACTCTACTGTGGACACTGTGTGGACACTCTCGGCCTCAGTACCAC...      0\n",
       "3  ACTCTACTGTGGACACTGTGTGGACACTCTCGGCCTCAGTACCACC...      0\n",
       "4  CTCTACTGTGGACACTGTGTGGACACTCTCGGCCTCAGTACCACCT...      0"
      ],
      "text/html": [
       "<div>\n",
       "<style scoped>\n",
       "    .dataframe tbody tr th:only-of-type {\n",
       "        vertical-align: middle;\n",
       "    }\n",
       "\n",
       "    .dataframe tbody tr th {\n",
       "        vertical-align: top;\n",
       "    }\n",
       "\n",
       "    .dataframe thead th {\n",
       "        text-align: right;\n",
       "    }\n",
       "</style>\n",
       "<table border=\"1\" class=\"dataframe\">\n",
       "  <thead>\n",
       "    <tr style=\"text-align: right;\">\n",
       "      <th></th>\n",
       "      <th>sequence</th>\n",
       "      <th>label</th>\n",
       "    </tr>\n",
       "  </thead>\n",
       "  <tbody>\n",
       "    <tr>\n",
       "      <th>0</th>\n",
       "      <td>GTTACTCTACTGTGGACACTGTGTGGACACTCTCGGCCTCAGTACC...</td>\n",
       "      <td>0</td>\n",
       "    </tr>\n",
       "    <tr>\n",
       "      <th>1</th>\n",
       "      <td>TTACTCTACTGTGGACACTGTGTGGACACTCTCGGCCTCAGTACCA...</td>\n",
       "      <td>0</td>\n",
       "    </tr>\n",
       "    <tr>\n",
       "      <th>2</th>\n",
       "      <td>TACTCTACTGTGGACACTGTGTGGACACTCTCGGCCTCAGTACCAC...</td>\n",
       "      <td>0</td>\n",
       "    </tr>\n",
       "    <tr>\n",
       "      <th>3</th>\n",
       "      <td>ACTCTACTGTGGACACTGTGTGGACACTCTCGGCCTCAGTACCACC...</td>\n",
       "      <td>0</td>\n",
       "    </tr>\n",
       "    <tr>\n",
       "      <th>4</th>\n",
       "      <td>CTCTACTGTGGACACTGTGTGGACACTCTCGGCCTCAGTACCACCT...</td>\n",
       "      <td>0</td>\n",
       "    </tr>\n",
       "  </tbody>\n",
       "</table>\n",
       "</div>"
      ]
     },
     "execution_count": 21,
     "metadata": {},
     "output_type": "execute_result"
    }
   ],
   "execution_count": 21
  },
  {
   "metadata": {
    "ExecuteTime": {
     "end_time": "2025-03-09T04:52:31.052208200Z",
     "start_time": "2025-03-04T21:21:35.880087Z"
    }
   },
   "cell_type": "code",
   "source": "lysogenic_df.size",
   "id": "d55e647d3044527d",
   "outputs": [
    {
     "data": {
      "text/plain": [
       "38028"
      ]
     },
     "execution_count": 22,
     "metadata": {},
     "output_type": "execute_result"
    }
   ],
   "execution_count": 22
  },
  {
   "metadata": {
    "ExecuteTime": {
     "end_time": "2025-03-09T04:52:35.036793Z",
     "start_time": "2025-03-09T04:52:35.011257Z"
    }
   },
   "cell_type": "code",
   "source": [
    "columns = ['sequence', 'label']\n",
    "labels = [1] * len(prepared_data['lytic_windows'])\n",
    "lytic_df = pd.DataFrame(zip(prepared_data['lytic_windows'], labels), columns=columns)\n",
    "lytic_df.head()"
   ],
   "id": "415c874de10a5df6",
   "outputs": [
    {
     "ename": "NameError",
     "evalue": "name 'prepared_data' is not defined",
     "output_type": "error",
     "traceback": [
      "\u001B[1;31m---------------------------------------------------------------------------\u001B[0m",
      "\u001B[1;31mNameError\u001B[0m                                 Traceback (most recent call last)",
      "Cell \u001B[1;32mIn[4], line 2\u001B[0m\n\u001B[0;32m      1\u001B[0m columns \u001B[38;5;241m=\u001B[39m [\u001B[38;5;124m'\u001B[39m\u001B[38;5;124msequence\u001B[39m\u001B[38;5;124m'\u001B[39m, \u001B[38;5;124m'\u001B[39m\u001B[38;5;124mlabel\u001B[39m\u001B[38;5;124m'\u001B[39m]\n\u001B[1;32m----> 2\u001B[0m labels \u001B[38;5;241m=\u001B[39m [\u001B[38;5;241m1\u001B[39m] \u001B[38;5;241m*\u001B[39m \u001B[38;5;28mlen\u001B[39m(\u001B[43mprepared_data\u001B[49m[\u001B[38;5;124m'\u001B[39m\u001B[38;5;124mlytic_windows\u001B[39m\u001B[38;5;124m'\u001B[39m])\n\u001B[0;32m      3\u001B[0m lytic_df \u001B[38;5;241m=\u001B[39m pd\u001B[38;5;241m.\u001B[39mDataFrame(\u001B[38;5;28mzip\u001B[39m(prepared_data[\u001B[38;5;124m'\u001B[39m\u001B[38;5;124mlytic_windows\u001B[39m\u001B[38;5;124m'\u001B[39m], labels), columns\u001B[38;5;241m=\u001B[39mcolumns)\n\u001B[0;32m      4\u001B[0m lytic_df\u001B[38;5;241m.\u001B[39mhead()\n",
      "\u001B[1;31mNameError\u001B[0m: name 'prepared_data' is not defined"
     ]
    }
   ],
   "execution_count": 4
  },
  {
   "metadata": {
    "ExecuteTime": {
     "end_time": "2025-03-04T21:21:51.624855Z",
     "start_time": "2025-03-04T21:21:51.614077Z"
    }
   },
   "cell_type": "code",
   "source": "lytic_df.size",
   "id": "ec297cbd1adeca1e",
   "outputs": [
    {
     "data": {
      "text/plain": [
       "38028"
      ]
     },
     "execution_count": 24,
     "metadata": {},
     "output_type": "execute_result"
    }
   ],
   "execution_count": 24
  },
  {
   "metadata": {
    "ExecuteTime": {
     "end_time": "2025-03-04T21:22:34.630472Z",
     "start_time": "2025-03-04T21:22:34.599796Z"
    }
   },
   "cell_type": "code",
   "source": [
    "combined_df = pd.concat([lysogenic_df, lytic_df], ignore_index=True)\n",
    "shuffled_df = combined_df.sample(frac=1, random_state=42).reset_index(drop=True)\n",
    "shuffled_df.head()"
   ],
   "id": "64661881babdaf",
   "outputs": [
    {
     "data": {
      "text/plain": [
       "                                            sequence  label\n",
       "0  AGCACCATTGCGGTTTTCATTTCCGGCGTGTAGCGGATATCACGCG...      0\n",
       "1  CCTCGTTGATGGTTTCATTGATATCAGGGAGGGTGAGCTTGGTTGC...      1\n",
       "2  AGCAAGCACAAACAATACTAGATAAAAACGCAAACGACGTTATATT...      1\n",
       "3  GGCTGATGCCGATGGCCTCAGCGTACGAATTTCACCGAAGGGGGTC...      0\n",
       "4  ACGGTTCTGACAAACACCTCATCACCCGGGAATACTTTGGTGTTAG...      0"
      ],
      "text/html": [
       "<div>\n",
       "<style scoped>\n",
       "    .dataframe tbody tr th:only-of-type {\n",
       "        vertical-align: middle;\n",
       "    }\n",
       "\n",
       "    .dataframe tbody tr th {\n",
       "        vertical-align: top;\n",
       "    }\n",
       "\n",
       "    .dataframe thead th {\n",
       "        text-align: right;\n",
       "    }\n",
       "</style>\n",
       "<table border=\"1\" class=\"dataframe\">\n",
       "  <thead>\n",
       "    <tr style=\"text-align: right;\">\n",
       "      <th></th>\n",
       "      <th>sequence</th>\n",
       "      <th>label</th>\n",
       "    </tr>\n",
       "  </thead>\n",
       "  <tbody>\n",
       "    <tr>\n",
       "      <th>0</th>\n",
       "      <td>AGCACCATTGCGGTTTTCATTTCCGGCGTGTAGCGGATATCACGCG...</td>\n",
       "      <td>0</td>\n",
       "    </tr>\n",
       "    <tr>\n",
       "      <th>1</th>\n",
       "      <td>CCTCGTTGATGGTTTCATTGATATCAGGGAGGGTGAGCTTGGTTGC...</td>\n",
       "      <td>1</td>\n",
       "    </tr>\n",
       "    <tr>\n",
       "      <th>2</th>\n",
       "      <td>AGCAAGCACAAACAATACTAGATAAAAACGCAAACGACGTTATATT...</td>\n",
       "      <td>1</td>\n",
       "    </tr>\n",
       "    <tr>\n",
       "      <th>3</th>\n",
       "      <td>GGCTGATGCCGATGGCCTCAGCGTACGAATTTCACCGAAGGGGGTC...</td>\n",
       "      <td>0</td>\n",
       "    </tr>\n",
       "    <tr>\n",
       "      <th>4</th>\n",
       "      <td>ACGGTTCTGACAAACACCTCATCACCCGGGAATACTTTGGTGTTAG...</td>\n",
       "      <td>0</td>\n",
       "    </tr>\n",
       "  </tbody>\n",
       "</table>\n",
       "</div>"
      ]
     },
     "execution_count": 25,
     "metadata": {},
     "output_type": "execute_result"
    }
   ],
   "execution_count": 25
  },
  {
   "metadata": {
    "ExecuteTime": {
     "end_time": "2025-03-04T21:22:38.746846Z",
     "start_time": "2025-03-04T21:22:38.731847Z"
    }
   },
   "cell_type": "code",
   "source": [
    "from sklearn.model_selection import train_test_split\n",
    "\n",
    "train_df, test_df = train_test_split(shuffled_df, test_size=0.2, random_state=42)\n",
    "\n",
    "print(\"Training DataFrame:\")\n",
    "print(train_df.head())\n",
    "\n",
    "print(\"\\nTesting DataFrame:\")\n",
    "print(test_df.head())"
   ],
   "id": "21aff74bc4dc3e0f",
   "outputs": [
    {
     "name": "stdout",
     "output_type": "stream",
     "text": [
      "Training DataFrame:\n",
      "                                                sequence  label\n",
      "22193  GTGTTCTTCACTGTTATAGCTGCGGATTTTTACTTGTTCGTTTGGC...      0\n",
      "2499   TATAGTTTATTATATGGTGTAGACTCATCTAGAATACTCTTAAGTG...      1\n",
      "15920  AGCTTCCGTCTTCGCACGGTTTGCTTGCGTGTTGGCTTGGGTGGCA...      1\n",
      "8475   ACCTGAAAATTCGGGATCCAGAAAATCTCATCGACGTACAGGTCGC...      0\n",
      "21925  GAAGTGAAGAAAGTCGTTAGAACATCTCCTGTAGAAGTAGGAGATA...      1\n",
      "\n",
      "Testing DataFrame:\n",
      "                                                sequence  label\n",
      "12890  AGGAGAGTAAAAAAGAAGTGGTAAGAGTATATAAGGATAAAGACTA...      1\n",
      "29193  ATGTCATACTGACTCGTTCTTCCCCGAACGATCCAATCGCACTTAA...      1\n",
      "20374  ATTGCTTCTGGATGATGACAGCAGTGAGCGCGTCCAGAAAGTTCTG...      0\n",
      "3930   GTTTTGTACTTGGGTATGATAACGAATGTAATGTAATGTTATTATC...      1\n",
      "10226  GAATTGGTAACACCTTATTTTGTAGAATATGATTTAAATGGAGATA...      1\n"
     ]
    }
   ],
   "execution_count": 26
  },
  {
   "metadata": {
    "ExecuteTime": {
     "end_time": "2025-03-04T21:24:40.803335Z",
     "start_time": "2025-03-04T21:24:40.598781Z"
    }
   },
   "cell_type": "code",
   "source": [
    "train_df.to_csv(\"../../data/dnabert_2_preparation/train.csv\", index=False)\n",
    "test_df.to_csv(\"../../data/dnabert_2_preparation/dev.csv\", index=False)"
   ],
   "id": "7fe2e49e2ac0d859",
   "outputs": [],
   "execution_count": 27
  },
  {
   "metadata": {},
   "cell_type": "code",
   "outputs": [],
   "execution_count": null,
   "source": "",
   "id": "52f8107692ca9d70"
  }
 ],
 "metadata": {
  "kernelspec": {
   "display_name": "Python 3",
   "language": "python",
   "name": "python3"
  },
  "language_info": {
   "codemirror_mode": {
    "name": "ipython",
    "version": 2
   },
   "file_extension": ".py",
   "mimetype": "text/x-python",
   "name": "python",
   "nbconvert_exporter": "python",
   "pygments_lexer": "ipython2",
   "version": "2.7.6"
  }
 },
 "nbformat": 4,
 "nbformat_minor": 5
}
