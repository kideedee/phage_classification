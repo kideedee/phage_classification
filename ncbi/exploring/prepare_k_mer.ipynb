{
 "cells": [
  {
   "cell_type": "code",
   "id": "initial_id",
   "metadata": {
    "collapsed": true,
    "ExecuteTime": {
     "end_time": "2025-03-04T20:45:57.653669Z",
     "start_time": "2025-03-04T20:45:57.639332Z"
    }
   },
   "source": [
    "import random\n",
    "\n",
    "\n",
    "def generate_kmer_6(sequence):\n",
    "    kmers = []\n",
    "    for i in range(len(sequence) - 5):\n",
    "        kmer = sequence[i:i + 6]\n",
    "        if 'N' not in kmer:  # Skip k-mers with non-ATGC characters\n",
    "            kmers.append(kmer)\n",
    "    return kmers\n",
    "\n",
    "\n",
    "def sliding_window_with_skip(sequences, window_size=100, skip_step=1):\n",
    "    windows = []\n",
    "    for seq in sequences:\n",
    "        if type(seq) is not str:\n",
    "            continue\n",
    "        if len(seq) < window_size:\n",
    "            continue\n",
    "\n",
    "        for i in range(0, len(seq) - window_size + 1, skip_step):\n",
    "            window = seq[i:i + window_size]\n",
    "            if all(base in \"ATGC\" for base in window):\n",
    "                windows.append(window)\n",
    "\n",
    "    return windows\n",
    "\n",
    "\n",
    "def clean_sequence(sequence):\n",
    "    bases = list(sequence)\n",
    "    for i, base in enumerate(bases):\n",
    "        if base not in \"ATGC\":\n",
    "            bases[i] = random.choice(\"ATGC\")\n",
    "    return ''.join(bases)\n",
    "\n",
    "\n",
    "def preprocess_data(lysogenic_seqs, lytic_seqs, window_size=100):\n",
    "\n",
    "    # Apply sliding window with skip_step=1 for lysogenic sequences\n",
    "    lysogenic_windows = sliding_window_with_skip(lysogenic_seqs, window_size=window_size, skip_step=1)\n",
    "\n",
    "    # Apply sliding window with skip_step=91 for lytic sequences\n",
    "    lytic_windows = sliding_window_with_skip(lytic_seqs, window_size=window_size, skip_step=91)\n",
    "\n",
    "    # Convert sequences to k-mer 6 representation\n",
    "    # lysogenic_kmers = [generate_kmer_6(window) for window in lysogenic_windows]\n",
    "    # lytic_kmers = [generate_kmer_6(window) for window in lytic_windows]\n",
    "\n",
    "    print(f\"Generated {len(lysogenic_windows)} lysogenic windows and {len(lytic_windows)} lytic windows\")\n",
    "\n",
    "    # Return balanced dataset by sampling if needed\n",
    "    min_count = min(len(lysogenic_windows), len(lytic_windows))\n",
    "\n",
    "    if len(lysogenic_windows) > min_count:\n",
    "        lysogenic_windows = random.sample(lysogenic_windows, min_count)\n",
    "        lysogenic_kmers = [generate_kmer_6(window) for window in lysogenic_windows]\n",
    "\n",
    "    if len(lytic_windows) > min_count:\n",
    "        lytic_windows = random.sample(lytic_windows, min_count)\n",
    "        lytic_kmers = [generate_kmer_6(window) for window in lytic_windows]\n",
    "\n",
    "    return {\n",
    "        'lysogenic_windows': lysogenic_windows,\n",
    "        'lytic_windows': lytic_windows,\n",
    "        # 'lysogenic_kmers': lysogenic_kmers,\n",
    "        # 'lytic_kmers': lytic_kmers\n",
    "    }"
   ],
   "outputs": [],
   "execution_count": 1
  },
  {
   "metadata": {
    "ExecuteTime": {
     "end_time": "2025-03-04T21:17:44.001295Z",
     "start_time": "2025-03-04T21:17:43.392934Z"
    }
   },
   "cell_type": "code",
   "source": [
    "import pandas as pd\n",
    "\n",
    "lysogenic_df = pd.read_csv('lysogenic_train.csv')\n",
    "lysogenic_df.dropna(inplace=True)\n",
    "lytic_df = pd.read_csv('lytic_train.csv')"
   ],
   "id": "27e1f2d7c13d9012",
   "outputs": [],
   "execution_count": 19
  },
  {
   "metadata": {
    "ExecuteTime": {
     "end_time": "2025-03-04T21:19:53.741809Z",
     "start_time": "2025-03-04T21:17:44.008301Z"
    }
   },
   "cell_type": "code",
   "source": "prepared_data = preprocess_data(lysogenic_df['sequence_filled'].values, lytic_df['sequence'].values, window_size=500)",
   "id": "731409b523e234eb",
   "outputs": [
    {
     "name": "stdout",
     "output_type": "stream",
     "text": [
      "Generated 19014 lysogenic windows and 1113532 lytic windows\n"
     ]
    }
   ],
   "execution_count": 20
  },
  {
   "metadata": {
    "ExecuteTime": {
     "end_time": "2025-03-04T20:48:40.422897Z",
     "start_time": "2025-03-04T20:48:39.890810Z"
    }
   },
   "cell_type": "code",
   "source": [
    "# def count_kmers(kmer_lists):\n",
    "#     \"\"\"\n",
    "#     Count the total number of k-mers and unique k-mers\n",
    "#     Args:\n",
    "#         kmer_lists: A list of lists, where each inner list contains k-mers\n",
    "#     Returns:\n",
    "#         Dictionary with total count and unique count\n",
    "#     \"\"\"\n",
    "#     # Flatten the list of lists\n",
    "#     all_kmers = [kmer for sublist in kmer_lists for kmer in sublist]\n",
    "#     \n",
    "#     # Count total k-mers\n",
    "#     total_kmers = len(all_kmers)\n",
    "#     \n",
    "#     # Count unique k-mers\n",
    "#     unique_kmers = len(set(all_kmers))\n",
    "#     \n",
    "#     # Optional: Get frequency of each k-mer\n",
    "#     kmer_frequency = {}\n",
    "#     for kmer in all_kmers:\n",
    "#         kmer_frequency[kmer] = kmer_frequency.get(kmer, 0) + 1\n",
    "#     \n",
    "#     return {\n",
    "#         'total_count': total_kmers,\n",
    "#         'unique_count': unique_kmers,\n",
    "#         'frequency': kmer_frequency\n",
    "#     }\n",
    "# \n",
    "# # Count lysogenic k-mers\n",
    "# lysogenic_kmer_counts = count_kmers(prepared_data['lysogenic_kmers'])\n",
    "# \n",
    "# print(f\"Total lysogenic k-mers: {lysogenic_kmer_counts['total_count']}\")\n",
    "# print(f\"Unique lysogenic k-mers: {lysogenic_kmer_counts['unique_count']}\")\n",
    "# \n",
    "# # If you want to see the most common k-mers\n",
    "# sorted_kmers = sorted(lysogenic_kmer_counts['frequency'].items(), \n",
    "#                       key=lambda x: x[1], reverse=True)\n",
    "# print(\"Top 10 most common lysogenic k-mers:\")\n",
    "# for kmer, count in sorted_kmers[:10]:\n",
    "#     print(f\"{kmer}: {count}\")"
   ],
   "id": "5e8ab137a610c07",
   "outputs": [
    {
     "name": "stdout",
     "output_type": "stream",
     "text": [
      "Total lysogenic k-mers: 3990190\n",
      "Unique lysogenic k-mers: 4056\n",
      "Top 10 most common lysogenic k-mers:\n",
      "TTTTTT: 5375\n",
      "CATCAA: 4549\n",
      "TCTGGC: 4303\n",
      "GATGAT: 4059\n",
      "GAAAAA: 3951\n",
      "CAGCAA: 3771\n",
      "TTTTTA: 3754\n",
      "TTCATC: 3693\n",
      "GTTCTG: 3619\n",
      "CTTTTT: 3606\n"
     ]
    }
   ],
   "execution_count": 4
  },
  {
   "metadata": {
    "ExecuteTime": {
     "end_time": "2025-03-04T20:49:42.071178Z",
     "start_time": "2025-03-04T20:49:41.451298Z"
    }
   },
   "cell_type": "code",
   "source": [
    "# # Count lysogenic k-mers\n",
    "# lysogenic_kmer_counts = count_kmers(prepared_data['lytic_kmers'])\n",
    "# \n",
    "# print(f\"Total lysogenic k-mers: {lysogenic_kmer_counts['total_count']}\")\n",
    "# print(f\"Unique lysogenic k-mers: {lysogenic_kmer_counts['unique_count']}\")\n",
    "# \n",
    "# # If you want to see the most common k-mers\n",
    "# sorted_kmers = sorted(lysogenic_kmer_counts['frequency'].items(), \n",
    "#                       key=lambda x: x[1], reverse=True)\n",
    "# print(\"Top 10 most common lysogenic k-mers:\")\n",
    "# for kmer, count in sorted_kmers[:10]:\n",
    "#     print(f\"{kmer}: {count}\")"
   ],
   "id": "2b98d724a8a64202",
   "outputs": [
    {
     "name": "stdout",
     "output_type": "stream",
     "text": [
      "Total lysogenic k-mers: 3990190\n",
      "Unique lysogenic k-mers: 4096\n",
      "Top 10 most common lysogenic k-mers:\n",
      "AAAGAA: 3482\n",
      "GAAGAA: 3245\n",
      "AAGAAA: 3240\n",
      "AAGAAG: 3105\n",
      "TTCTTT: 3070\n",
      "TTTCTT: 2902\n",
      "TTTAAA: 2848\n",
      "AGAAGA: 2776\n",
      "TTCTTC: 2697\n",
      "TGATGA: 2678\n"
     ]
    }
   ],
   "execution_count": 6
  },
  {
   "metadata": {
    "ExecuteTime": {
     "end_time": "2025-03-04T21:21:14.204867Z",
     "start_time": "2025-03-04T21:21:14.170867Z"
    }
   },
   "cell_type": "code",
   "source": [
    "columns = ['sequence', 'label']\n",
    "labels = [0] * len(prepared_data['lysogenic_windows'])\n",
    "lysogenic_df = pd.DataFrame(zip(prepared_data['lysogenic_windows'], labels), columns=columns)\n",
    "lysogenic_df.head()"
   ],
   "id": "d9d0270b1d48d1d9",
   "outputs": [
    {
     "data": {
      "text/plain": [
       "                                            sequence  label\n",
       "0  GTTACTCTACTGTGGACACTGTGTGGACACTCTCGGCCTCAGTACC...      0\n",
       "1  TTACTCTACTGTGGACACTGTGTGGACACTCTCGGCCTCAGTACCA...      0\n",
       "2  TACTCTACTGTGGACACTGTGTGGACACTCTCGGCCTCAGTACCAC...      0\n",
       "3  ACTCTACTGTGGACACTGTGTGGACACTCTCGGCCTCAGTACCACC...      0\n",
       "4  CTCTACTGTGGACACTGTGTGGACACTCTCGGCCTCAGTACCACCT...      0"
      ],
      "text/html": [
       "<div>\n",
       "<style scoped>\n",
       "    .dataframe tbody tr th:only-of-type {\n",
       "        vertical-align: middle;\n",
       "    }\n",
       "\n",
       "    .dataframe tbody tr th {\n",
       "        vertical-align: top;\n",
       "    }\n",
       "\n",
       "    .dataframe thead th {\n",
       "        text-align: right;\n",
       "    }\n",
       "</style>\n",
       "<table border=\"1\" class=\"dataframe\">\n",
       "  <thead>\n",
       "    <tr style=\"text-align: right;\">\n",
       "      <th></th>\n",
       "      <th>sequence</th>\n",
       "      <th>label</th>\n",
       "    </tr>\n",
       "  </thead>\n",
       "  <tbody>\n",
       "    <tr>\n",
       "      <th>0</th>\n",
       "      <td>GTTACTCTACTGTGGACACTGTGTGGACACTCTCGGCCTCAGTACC...</td>\n",
       "      <td>0</td>\n",
       "    </tr>\n",
       "    <tr>\n",
       "      <th>1</th>\n",
       "      <td>TTACTCTACTGTGGACACTGTGTGGACACTCTCGGCCTCAGTACCA...</td>\n",
       "      <td>0</td>\n",
       "    </tr>\n",
       "    <tr>\n",
       "      <th>2</th>\n",
       "      <td>TACTCTACTGTGGACACTGTGTGGACACTCTCGGCCTCAGTACCAC...</td>\n",
       "      <td>0</td>\n",
       "    </tr>\n",
       "    <tr>\n",
       "      <th>3</th>\n",
       "      <td>ACTCTACTGTGGACACTGTGTGGACACTCTCGGCCTCAGTACCACC...</td>\n",
       "      <td>0</td>\n",
       "    </tr>\n",
       "    <tr>\n",
       "      <th>4</th>\n",
       "      <td>CTCTACTGTGGACACTGTGTGGACACTCTCGGCCTCAGTACCACCT...</td>\n",
       "      <td>0</td>\n",
       "    </tr>\n",
       "  </tbody>\n",
       "</table>\n",
       "</div>"
      ]
     },
     "execution_count": 21,
     "metadata": {},
     "output_type": "execute_result"
    }
   ],
   "execution_count": 21
  },
  {
   "metadata": {
    "ExecuteTime": {
     "end_time": "2025-03-04T21:21:35.886090Z",
     "start_time": "2025-03-04T21:21:35.880087Z"
    }
   },
   "cell_type": "code",
   "source": "lysogenic_df.size",
   "id": "d55e647d3044527d",
   "outputs": [
    {
     "data": {
      "text/plain": [
       "38028"
      ]
     },
     "execution_count": 22,
     "metadata": {},
     "output_type": "execute_result"
    }
   ],
   "execution_count": 22
  },
  {
   "metadata": {
    "ExecuteTime": {
     "end_time": "2025-03-04T21:21:43.668132Z",
     "start_time": "2025-03-04T21:21:43.633316Z"
    }
   },
   "cell_type": "code",
   "source": [
    "columns = ['sequence', 'label']\n",
    "labels = [1] * len(prepared_data['lytic_windows'])\n",
    "lytic_df = pd.DataFrame(zip(prepared_data['lytic_windows'], labels), columns=columns)\n",
    "lytic_df.head()"
   ],
   "id": "415c874de10a5df6",
   "outputs": [
    {
     "data": {
      "text/plain": [
       "                                            sequence  label\n",
       "0  GTTTCAATTCCTGCGTAGTTTACCAATGGTAGCCACGGTACACTAT...      1\n",
       "1  AGCACGCGCTGCTGCTTGAGATGGAGAAACACCTTCAGAGATTAAT...      1\n",
       "2  CGGCGGGGGTGGCTTTCGTGTTGGACATACTGAAGCTGGTGGTGGT...      1\n",
       "3  GCGCTTTCGCCAATGGCAAGCCGGTAGGGATTTGCGTTCTGGTATC...      1\n",
       "4  CATCCGGTGCATCTTCTTTCAGTGTGATACCTAACCAGAACTCGGC...      1"
      ],
      "text/html": [
       "<div>\n",
       "<style scoped>\n",
       "    .dataframe tbody tr th:only-of-type {\n",
       "        vertical-align: middle;\n",
       "    }\n",
       "\n",
       "    .dataframe tbody tr th {\n",
       "        vertical-align: top;\n",
       "    }\n",
       "\n",
       "    .dataframe thead th {\n",
       "        text-align: right;\n",
       "    }\n",
       "</style>\n",
       "<table border=\"1\" class=\"dataframe\">\n",
       "  <thead>\n",
       "    <tr style=\"text-align: right;\">\n",
       "      <th></th>\n",
       "      <th>sequence</th>\n",
       "      <th>label</th>\n",
       "    </tr>\n",
       "  </thead>\n",
       "  <tbody>\n",
       "    <tr>\n",
       "      <th>0</th>\n",
       "      <td>GTTTCAATTCCTGCGTAGTTTACCAATGGTAGCCACGGTACACTAT...</td>\n",
       "      <td>1</td>\n",
       "    </tr>\n",
       "    <tr>\n",
       "      <th>1</th>\n",
       "      <td>AGCACGCGCTGCTGCTTGAGATGGAGAAACACCTTCAGAGATTAAT...</td>\n",
       "      <td>1</td>\n",
       "    </tr>\n",
       "    <tr>\n",
       "      <th>2</th>\n",
       "      <td>CGGCGGGGGTGGCTTTCGTGTTGGACATACTGAAGCTGGTGGTGGT...</td>\n",
       "      <td>1</td>\n",
       "    </tr>\n",
       "    <tr>\n",
       "      <th>3</th>\n",
       "      <td>GCGCTTTCGCCAATGGCAAGCCGGTAGGGATTTGCGTTCTGGTATC...</td>\n",
       "      <td>1</td>\n",
       "    </tr>\n",
       "    <tr>\n",
       "      <th>4</th>\n",
       "      <td>CATCCGGTGCATCTTCTTTCAGTGTGATACCTAACCAGAACTCGGC...</td>\n",
       "      <td>1</td>\n",
       "    </tr>\n",
       "  </tbody>\n",
       "</table>\n",
       "</div>"
      ]
     },
     "execution_count": 23,
     "metadata": {},
     "output_type": "execute_result"
    }
   ],
   "execution_count": 23
  },
  {
   "metadata": {
    "ExecuteTime": {
     "end_time": "2025-03-04T21:21:51.624855Z",
     "start_time": "2025-03-04T21:21:51.614077Z"
    }
   },
   "cell_type": "code",
   "source": "lytic_df.size",
   "id": "ec297cbd1adeca1e",
   "outputs": [
    {
     "data": {
      "text/plain": [
       "38028"
      ]
     },
     "execution_count": 24,
     "metadata": {},
     "output_type": "execute_result"
    }
   ],
   "execution_count": 24
  },
  {
   "metadata": {
    "ExecuteTime": {
     "end_time": "2025-03-04T21:22:34.630472Z",
     "start_time": "2025-03-04T21:22:34.599796Z"
    }
   },
   "cell_type": "code",
   "source": [
    "combined_df = pd.concat([lysogenic_df, lytic_df], ignore_index=True)\n",
    "shuffled_df = combined_df.sample(frac=1, random_state=42).reset_index(drop=True)\n",
    "shuffled_df.head()"
   ],
   "id": "64661881babdaf",
   "outputs": [
    {
     "data": {
      "text/plain": [
       "                                            sequence  label\n",
       "0  AGCACCATTGCGGTTTTCATTTCCGGCGTGTAGCGGATATCACGCG...      0\n",
       "1  CCTCGTTGATGGTTTCATTGATATCAGGGAGGGTGAGCTTGGTTGC...      1\n",
       "2  AGCAAGCACAAACAATACTAGATAAAAACGCAAACGACGTTATATT...      1\n",
       "3  GGCTGATGCCGATGGCCTCAGCGTACGAATTTCACCGAAGGGGGTC...      0\n",
       "4  ACGGTTCTGACAAACACCTCATCACCCGGGAATACTTTGGTGTTAG...      0"
      ],
      "text/html": [
       "<div>\n",
       "<style scoped>\n",
       "    .dataframe tbody tr th:only-of-type {\n",
       "        vertical-align: middle;\n",
       "    }\n",
       "\n",
       "    .dataframe tbody tr th {\n",
       "        vertical-align: top;\n",
       "    }\n",
       "\n",
       "    .dataframe thead th {\n",
       "        text-align: right;\n",
       "    }\n",
       "</style>\n",
       "<table border=\"1\" class=\"dataframe\">\n",
       "  <thead>\n",
       "    <tr style=\"text-align: right;\">\n",
       "      <th></th>\n",
       "      <th>sequence</th>\n",
       "      <th>label</th>\n",
       "    </tr>\n",
       "  </thead>\n",
       "  <tbody>\n",
       "    <tr>\n",
       "      <th>0</th>\n",
       "      <td>AGCACCATTGCGGTTTTCATTTCCGGCGTGTAGCGGATATCACGCG...</td>\n",
       "      <td>0</td>\n",
       "    </tr>\n",
       "    <tr>\n",
       "      <th>1</th>\n",
       "      <td>CCTCGTTGATGGTTTCATTGATATCAGGGAGGGTGAGCTTGGTTGC...</td>\n",
       "      <td>1</td>\n",
       "    </tr>\n",
       "    <tr>\n",
       "      <th>2</th>\n",
       "      <td>AGCAAGCACAAACAATACTAGATAAAAACGCAAACGACGTTATATT...</td>\n",
       "      <td>1</td>\n",
       "    </tr>\n",
       "    <tr>\n",
       "      <th>3</th>\n",
       "      <td>GGCTGATGCCGATGGCCTCAGCGTACGAATTTCACCGAAGGGGGTC...</td>\n",
       "      <td>0</td>\n",
       "    </tr>\n",
       "    <tr>\n",
       "      <th>4</th>\n",
       "      <td>ACGGTTCTGACAAACACCTCATCACCCGGGAATACTTTGGTGTTAG...</td>\n",
       "      <td>0</td>\n",
       "    </tr>\n",
       "  </tbody>\n",
       "</table>\n",
       "</div>"
      ]
     },
     "execution_count": 25,
     "metadata": {},
     "output_type": "execute_result"
    }
   ],
   "execution_count": 25
  },
  {
   "metadata": {
    "ExecuteTime": {
     "end_time": "2025-03-04T21:22:38.746846Z",
     "start_time": "2025-03-04T21:22:38.731847Z"
    }
   },
   "cell_type": "code",
   "source": [
    "from sklearn.model_selection import train_test_split\n",
    "\n",
    "train_df, test_df = train_test_split(shuffled_df, test_size=0.2, random_state=42)\n",
    "\n",
    "print(\"Training DataFrame:\")\n",
    "print(train_df.head())\n",
    "\n",
    "print(\"\\nTesting DataFrame:\")\n",
    "print(test_df.head())"
   ],
   "id": "21aff74bc4dc3e0f",
   "outputs": [
    {
     "name": "stdout",
     "output_type": "stream",
     "text": [
      "Training DataFrame:\n",
      "                                                sequence  label\n",
      "22193  GTGTTCTTCACTGTTATAGCTGCGGATTTTTACTTGTTCGTTTGGC...      0\n",
      "2499   TATAGTTTATTATATGGTGTAGACTCATCTAGAATACTCTTAAGTG...      1\n",
      "15920  AGCTTCCGTCTTCGCACGGTTTGCTTGCGTGTTGGCTTGGGTGGCA...      1\n",
      "8475   ACCTGAAAATTCGGGATCCAGAAAATCTCATCGACGTACAGGTCGC...      0\n",
      "21925  GAAGTGAAGAAAGTCGTTAGAACATCTCCTGTAGAAGTAGGAGATA...      1\n",
      "\n",
      "Testing DataFrame:\n",
      "                                                sequence  label\n",
      "12890  AGGAGAGTAAAAAAGAAGTGGTAAGAGTATATAAGGATAAAGACTA...      1\n",
      "29193  ATGTCATACTGACTCGTTCTTCCCCGAACGATCCAATCGCACTTAA...      1\n",
      "20374  ATTGCTTCTGGATGATGACAGCAGTGAGCGCGTCCAGAAAGTTCTG...      0\n",
      "3930   GTTTTGTACTTGGGTATGATAACGAATGTAATGTAATGTTATTATC...      1\n",
      "10226  GAATTGGTAACACCTTATTTTGTAGAATATGATTTAAATGGAGATA...      1\n"
     ]
    }
   ],
   "execution_count": 26
  },
  {
   "metadata": {
    "ExecuteTime": {
     "end_time": "2025-03-04T21:24:40.803335Z",
     "start_time": "2025-03-04T21:24:40.598781Z"
    }
   },
   "cell_type": "code",
   "source": [
    "train_df.to_csv(\"../../data/dnabert_2_preparation/train.csv\", index=False)\n",
    "test_df.to_csv(\"../../data/dnabert_2_preparation/dev.csv\", index=False)"
   ],
   "id": "7fe2e49e2ac0d859",
   "outputs": [],
   "execution_count": 27
  },
  {
   "metadata": {},
   "cell_type": "code",
   "outputs": [],
   "execution_count": null,
   "source": "",
   "id": "52f8107692ca9d70"
  }
 ],
 "metadata": {
  "kernelspec": {
   "display_name": "Python 3",
   "language": "python",
   "name": "python3"
  },
  "language_info": {
   "codemirror_mode": {
    "name": "ipython",
    "version": 2
   },
   "file_extension": ".py",
   "mimetype": "text/x-python",
   "name": "python",
   "nbconvert_exporter": "python",
   "pygments_lexer": "ipython2",
   "version": "2.7.6"
  }
 },
 "nbformat": 4,
 "nbformat_minor": 5
}
